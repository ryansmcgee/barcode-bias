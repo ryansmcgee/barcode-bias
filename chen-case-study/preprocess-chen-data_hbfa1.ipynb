{
 "cells": [
  {
   "cell_type": "code",
   "execution_count": 1,
   "id": "initial_id",
   "metadata": {
    "collapsed": true,
    "ExecuteTime": {
     "end_time": "2024-01-19T16:29:03.150714Z",
     "start_time": "2024-01-19T16:29:03.143601Z"
    }
   },
   "outputs": [],
   "source": [
    "import numpy as np\n",
    "import pandas as pd"
   ]
  },
  {
   "cell_type": "code",
   "execution_count": 2,
   "outputs": [],
   "source": [
    "# pd.set_option('display.max_rows', None)\n",
    "pd.set_option('display.max_columns', None)\n",
    "import warnings\n",
    "warnings.simplefilter(action='ignore', category=pd.errors.PerformanceWarning)"
   ],
   "metadata": {
    "collapsed": false,
    "ExecuteTime": {
     "end_time": "2024-01-19T16:29:03.171246Z",
     "start_time": "2024-01-19T16:29:03.149197Z"
    }
   },
   "id": "f0f0c8bab0858700"
  },
  {
   "cell_type": "markdown",
   "source": [
    "-------\n",
    "\n",
    "#"
   ],
   "metadata": {
    "collapsed": false
   },
   "id": "fb57cf6b9074e77c"
  },
  {
   "cell_type": "code",
   "execution_count": 3,
   "outputs": [],
   "source": [
    "outdir = '/Users/ryan/Dropbox/Projects/Research/tikhonov/barcode-bias/barcode-bias/chen-case-study/data/chen-2023-preprocessed-data/'"
   ],
   "metadata": {
    "collapsed": false,
    "ExecuteTime": {
     "end_time": "2024-01-19T16:29:03.187161Z",
     "start_time": "2024-01-19T16:29:03.173320Z"
    }
   },
   "id": "f4e1ae73e326c37e"
  },
  {
   "cell_type": "markdown",
   "source": [
    "-------\n",
    "\n",
    "# Process Haploid Bulk Fitness Assay (hBFA) data"
   ],
   "metadata": {
    "collapsed": false
   },
   "id": "5790255b4e42aebb"
  },
  {
   "cell_type": "code",
   "execution_count": 4,
   "outputs": [],
   "source": [
    "rawDataDir_hBFA1 = '/Users/ryan/Dropbox/Projects/Research/tikhonov/barcode-bias/barcode-bias/chen-case-study/data/chen-2023-elife-data/'"
   ],
   "metadata": {
    "collapsed": false,
    "ExecuteTime": {
     "end_time": "2024-01-19T16:29:03.191269Z",
     "start_time": "2024-01-19T16:29:03.182542Z"
    }
   },
   "id": "17509fde35229ace"
  },
  {
   "cell_type": "markdown",
   "source": [
    "#### Load & organize raw data\n",
    "\n",
    "##### Load the raw Chen et al. (2023) barcode counts data table\n",
    "\n",
    "(rows: variants; cols: barcode counts for each experimental treatment/rep/timept and variant metadata)"
   ],
   "metadata": {
    "collapsed": false
   },
   "id": "3c0f53830f30736f"
  },
  {
   "cell_type": "code",
   "execution_count": 5,
   "outputs": [],
   "source": [
    "rawCountsTable_hBFA1 = pd.read_csv(rawDataDir_hBFA1+'hBFA1_counts_with_env_info.csv')\n",
    "# rawCountsTable_hBFA1"
   ],
   "metadata": {
    "collapsed": false,
    "ExecuteTime": {
     "end_time": "2024-01-19T16:29:03.241226Z",
     "start_time": "2024-01-19T16:29:03.192938Z"
    }
   },
   "id": "11615cd1c9643a9b"
  },
  {
   "cell_type": "markdown",
   "source": [
    "#### Extract the counts data (excluding metadata) from the variant and ancestor datasets"
   ],
   "metadata": {
    "collapsed": false
   },
   "id": "8c52c61e44692685"
  },
  {
   "cell_type": "code",
   "execution_count": 6,
   "outputs": [],
   "source": [
    "metadata_columns = ['Full.BC', 'Diverse.BC', 'Environment.BC', 'Total.Counts', 'Subpool.Environment', 'Which.Subpools', 'Putative.Environment']"
   ],
   "metadata": {
    "collapsed": false,
    "ExecuteTime": {
     "end_time": "2024-01-19T16:29:03.250889Z",
     "start_time": "2024-01-19T16:29:03.243096Z"
    }
   },
   "id": "ca4f9cd4c750c0a9"
  },
  {
   "cell_type": "code",
   "execution_count": 7,
   "outputs": [
    {
     "data": {
      "text/plain": "      hBFA1-21C-R1-Time8  hBFA1-21C-R1-Time16  hBFA1-21C-R1-Time24  \\\n0                  18075                34976                73925   \n1                 109316               117037               102934   \n2                   6539                 4508                 4751   \n3                  31099                42058                42356   \n4                   4250                 7508                13340   \n...                  ...                  ...                  ...   \n2581                   1                    2                    4   \n2582                   3                    3                    5   \n2583                   3                    5                    4   \n2584                   5                    4                    4   \n2585                   4                    4                    3   \n\n      hBFA1-21C-R1-Time40  hBFA1-21C-R2-Time8  hBFA1-21C-R2-Time16  \\\n0                  379540               19395                33224   \n1                   81035              122720               113384   \n2                    3545                7334                 4549   \n3                   38478               39228                41195   \n4                   61474                4878                 7708   \n...                   ...                 ...                  ...   \n2581                    2                   5                    6   \n2582                    1                   7                    5   \n2583                    2                   3                    7   \n2584                    2                   8                    6   \n2585                    2                   2                    3   \n\n      hBFA1-21C-R2-Time24  hBFA1-21C-R2-Time40  hBFA1-37C-R1-Time8  \\\n0                   67414               473720               36413   \n1                   95658                83279              140343   \n2                    4273                 3511                7771   \n3                   42935                51296               32634   \n4                   13778                94633                6576   \n...                   ...                  ...                 ...   \n2581                    7                    9                   7   \n2582                    5                    5                   4   \n2583                    6                    3                   1   \n2584                    2                   13                   0   \n2585                    2                    6                   0   \n\n      hBFA1-37C-R1-Time16  hBFA1-37C-R1-Time24  hBFA1-37C-R1-Time40  \\\n0                   72215               120048               323260   \n1                  131053               103226                65894   \n2                    6269                 9488                11685   \n3                   23369                18619                 7488   \n4                   14705                29220                76955   \n...                   ...                  ...                  ...   \n2581                    2                    3                    2   \n2582                    0                    4                    3   \n2583                    0                    3                    3   \n2584                    0                    4                    0   \n2585                    0                    5                    1   \n\n      hBFA1-37C-R2-Time8  hBFA1-37C-R2-Time16  hBFA1-37C-R2-Time24  \\\n0                  35264                76376               128764   \n1                 161542               152263               127606   \n2                  12360                 7577                 5588   \n3                  40855                28633                17674   \n4                   7438                15378                20278   \n...                  ...                  ...                  ...   \n2581                   4                    7                    3   \n2582                   2                    3                    5   \n2583                   6                    4                    3   \n2584                   1                    0                    0   \n2585                   1                    3                    0   \n\n      hBFA1-37C-R2-Time40  hBFA1-48Hr-R1-Time8  hBFA1-48Hr-R1-Time16  \\\n0                  395642                58079                106586   \n1                   76375                81672                 92562   \n2                   13405                 5796                  4743   \n3                    7408                34917                 56809   \n4                   80289                10741                 25236   \n...                   ...                  ...                   ...   \n2581                    6                    5                     7   \n2582                    4                    3                     1   \n2583                    1                    2                     7   \n2584                    0                    0                     0   \n2585                    1                    0                     5   \n\n      hBFA1-48Hr-R1-Time24  hBFA1-48Hr-R1-Time40  hBFA1-48Hr-R2-Time8  \\\n0                   153886                503009                90272   \n1                    84147                 92839               136639   \n2                    18323                 22243                12088   \n3                    34105                 67315                50951   \n4                    30171                100566                18520   \n...                    ...                   ...                  ...   \n2581                     3                     7                    4   \n2582                     5                     3                    8   \n2583                     3                     6                    7   \n2584                     0                     0                    0   \n2585                     3                     5                    3   \n\n      hBFA1-48Hr-R2-Time16  hBFA1-48Hr-R2-Time24  hBFA1-48Hr-R2-Time40  \\\n0                   138272                185857                392937   \n1                   119851                 95640                 78356   \n2                     1461                 18113                 13966   \n3                    64354                 41741                 33191   \n4                    25521                 36808                 66914   \n...                    ...                   ...                   ...   \n2581                     5                     3                     5   \n2582                    11                     4                     4   \n2583                     4                     5                     4   \n2584                     0                     1                     0   \n2585                     0                     4                     1   \n\n      hBFA1-FLC4-R2-Time8  hBFA1-FLC4-R2-Time16  hBFA1-FLC4-R2-Time24  \\\n0                    8826                   690                  2310   \n1                   29924                  5794                  8136   \n2                    3328                   204                  1385   \n3                   40379                 15074                 39713   \n4                    1721                    74                   431   \n...                   ...                   ...                   ...   \n2581                    0                     0                     0   \n2582                    0                     1                     0   \n2583                    0                     0                     1   \n2584                    0                     0                     0   \n2585                    2                     0                     2   \n\n      hBFA1-FLC4-R2-Time40  hBFA1-GlyEtOH-R1-Time8  hBFA1-GlyEtOH-R1-Time16  \\\n0                     1302                   64526                   101861   \n1                     2655                   56206                    30550   \n2                     1180                   45206                   135292   \n3                    72953                   19617                     9119   \n4                      258                   17158                    25083   \n...                    ...                     ...                      ...   \n2581                     0                       1                        1   \n2582                     0                       3                        3   \n2583                     1                       5                        2   \n2584                     0                      10                        7   \n2585                     0                       1                        1   \n\n      hBFA1-GlyEtOH-R1-Time24  hBFA1-GlyEtOH-R1-Time40  \\\n0                       89724                   214115   \n1                       14705                     4073   \n2                      147221                   699111   \n3                         979                     1747   \n4                       11029                    58151   \n...                       ...                      ...   \n2581                        2                        1   \n2582                        0                        1   \n2583                        0                        0   \n2584                        0                        0   \n2585                        0                        0   \n\n      hBFA1-GlyEtOH-R2-Time8  hBFA1-GlyEtOH-R2-Time16  \\\n0                      78087                   225592   \n1                      61333                    67183   \n2                      45299                   251626   \n3                      20106                    25193   \n4                      18737                    58559   \n...                      ...                      ...   \n2581                       3                        2   \n2582                       4                        1   \n2583                       2                        1   \n2584                       0                        2   \n2585                       1                        0   \n\n      hBFA1-GlyEtOH-R2-Time24  hBFA1-GlyEtOH-R2-Time40  hBFA1-SC-R1-Time8  \\\n0                      286933                   220946              17610   \n1                       32110                     4239             106152   \n2                      357161                   639549               8667   \n3                       11424                     1820              23195   \n4                       68481                    59882               3482   \n...                       ...                      ...                ...   \n2581                        0                        0                  3   \n2582                        2                        0                  6   \n2583                        0                        0                  2   \n2584                        0                        0                  0   \n2585                        0                        0                  1   \n\n      hBFA1-SC-R1-Time16  hBFA1-SC-R1-Time24  hBFA1-SC-R1-Time40  \\\n0                  35231               67572              200094   \n1                  94024               87216               58286   \n2                  11719               17075               37643   \n3                  22156               21883               18536   \n4                   6305               11151               32390   \n...                  ...                 ...                 ...   \n2581                   7                   6                   6   \n2582                   1                   4                   1   \n2583                   3                   6                   2   \n2584                   0                   0                   0   \n2585                   0                   1                   0   \n\n      hBFA1-SC-R2-Time8  hBFA1-SC-R2-Time16  hBFA1-SC-R2-Time24  \\\n0                 23871               33046               57404   \n1                140094              108014               93791   \n2                  5744               10672               18433   \n3                 28218               26482               27479   \n4                  4746                6657               11499   \n...                 ...                 ...                 ...   \n2581                  5                   4                   5   \n2582                  2                   8                   6   \n2583                  1                   3                   7   \n2584                  1                   0                   0   \n2585                  0                   1                   2   \n\n      hBFA1-SC-R2-Time40  hBFA1-YPD-R1-Time8  hBFA1-YPD-R1-Time16  \\\n0                 199577               27936                81462   \n1                  66511               79590                92123   \n2                  39563                9170                20739   \n3                  23968               18192                26502   \n4                  37696                6188                17762   \n...                  ...                 ...                  ...   \n2581                   7                   1                    4   \n2582                   3                   4                    5   \n2583                   3                   3                    5   \n2584                   0                  12                    7   \n2585                   1                   2                    1   \n\n      hBFA1-YPD-R1-Time24  hBFA1-YPD-R1-Time40  hBFA1-YPD-R2-Time8  \\\n0                  285233               414060               35589   \n1                  131488                41442              104783   \n2                   61359                63627               10914   \n3                   43783                15863               23146   \n4                   58020                85510                7344   \n...                   ...                  ...                 ...   \n2581                    8                    7                   6   \n2582                    6                    3                   5   \n2583                    6                    4                   4   \n2584                    6                    2                  10   \n2585                    3                    2                   2   \n\n      hBFA1-YPD-R2-Time16  hBFA1-YPD-R2-Time24  hBFA1-YPD-R2-Time40  \\\n0                   93249               152324               443061   \n1                   94953                74508                47270   \n2                   23059                31036                64681   \n3                   28682                23235                21635   \n4                   19560                30739                94122   \n...                   ...                  ...                  ...   \n2581                    4                    2                    4   \n2582                    3                    3                    4   \n2583                    5                    3                    2   \n2584                    7                    5                    1   \n2585                    1                    2                    2   \n\n      hBFA1-pH3_8-R1-Time8  hBFA1-pH3_8-R1-Time16  hBFA1-pH3_8-R1-Time24  \\\n0                    39397                  85853                 153919   \n1                   146785                 130842                 119500   \n2                    11494                  15972                  30293   \n3                    24144                  31572                  35862   \n4                     6019                  15079                  29731   \n...                    ...                    ...                    ...   \n2581                     4                      5                      5   \n2582                     5                      2                      3   \n2583                     0                      1                      6   \n2584                     0                      0                      0   \n2585                     0                      0                      0   \n\n      hBFA1-pH3_8-R1-Time40  hBFA1-pH3_8-R2-Time8  hBFA1-pH3_8-R2-Time16  \\\n0                    323697                 23365                  93624   \n1                     67517                 95990                 145530   \n2                     58740                 14528                  17241   \n3                     35065                 28131                  34743   \n4                     78756                  5652                  16425   \n...                     ...                   ...                    ...   \n2581                      2                     2                      6   \n2582                      0                     0                      5   \n2583                      6                     1                      3   \n2584                      0                    18                      0   \n2585                      1                     3                      0   \n\n      hBFA1-pH3_8-R2-Time24  hBFA1-pH3_8-R2-Time40  hBFA1-pH7_3-R1-Time8  \\\n0                    172839                 440061                 41107   \n1                    134678                  89493                204961   \n2                     33489                  79132                 13665   \n3                     44411                  42641                 35504   \n4                     36098                 105253                  8471   \n...                     ...                    ...                   ...   \n2581                      3                      3                     6   \n2582                      4                      2                     4   \n2583                      6                      3                     3   \n2584                      0                      0                     0   \n2585                      0                      1                     1   \n\n      hBFA1-pH7_3-R1-Time16  hBFA1-pH7_3-R1-Time24  hBFA1-pH7_3-R1-Time40  \\\n0                     58049                 118324                 236402   \n1                    166806                 184853                 154540   \n2                     13724                  15892                  19474   \n3                     28900                  33550                  29448   \n4                     11161                  22970                  52473   \n...                     ...                    ...                    ...   \n2581                      3                      3                      3   \n2582                      7                     10                      3   \n2583                      4                      4                      1   \n2584                      0                      0                      0   \n2585                      0                      0                      1   \n\n      hBFA1-pH7_3-R2-Time8  hBFA1-pH7_3-R2-Time16  hBFA1-pH7_3-R2-Time24  \\\n0                    42332                  71938                  96247   \n1                   198665                 187896                 164838   \n2                    13758                  17580                  19743   \n3                    39531                  37391                  32982   \n4                     8942                  15606                  21789   \n...                    ...                    ...                    ...   \n2581                     3                      7                      8   \n2582                     7                      4                      6   \n2583                     3                      4                      5   \n2584                     1                      0                      0   \n2585                     0                      0                      3   \n\n      hBFA1-pH7_3-R2-Time40  \n0                    239779  \n1                    152973  \n2                     23223  \n3                     28658  \n4                     53481  \n...                     ...  \n2581                      6  \n2582                      4  \n2583                      1  \n2584                      0  \n2585                      0  \n\n[2586 rows x 68 columns]",
      "text/html": "<div>\n<style scoped>\n    .dataframe tbody tr th:only-of-type {\n        vertical-align: middle;\n    }\n\n    .dataframe tbody tr th {\n        vertical-align: top;\n    }\n\n    .dataframe thead th {\n        text-align: right;\n    }\n</style>\n<table border=\"1\" class=\"dataframe\">\n  <thead>\n    <tr style=\"text-align: right;\">\n      <th></th>\n      <th>hBFA1-21C-R1-Time8</th>\n      <th>hBFA1-21C-R1-Time16</th>\n      <th>hBFA1-21C-R1-Time24</th>\n      <th>hBFA1-21C-R1-Time40</th>\n      <th>hBFA1-21C-R2-Time8</th>\n      <th>hBFA1-21C-R2-Time16</th>\n      <th>hBFA1-21C-R2-Time24</th>\n      <th>hBFA1-21C-R2-Time40</th>\n      <th>hBFA1-37C-R1-Time8</th>\n      <th>hBFA1-37C-R1-Time16</th>\n      <th>hBFA1-37C-R1-Time24</th>\n      <th>hBFA1-37C-R1-Time40</th>\n      <th>hBFA1-37C-R2-Time8</th>\n      <th>hBFA1-37C-R2-Time16</th>\n      <th>hBFA1-37C-R2-Time24</th>\n      <th>hBFA1-37C-R2-Time40</th>\n      <th>hBFA1-48Hr-R1-Time8</th>\n      <th>hBFA1-48Hr-R1-Time16</th>\n      <th>hBFA1-48Hr-R1-Time24</th>\n      <th>hBFA1-48Hr-R1-Time40</th>\n      <th>hBFA1-48Hr-R2-Time8</th>\n      <th>hBFA1-48Hr-R2-Time16</th>\n      <th>hBFA1-48Hr-R2-Time24</th>\n      <th>hBFA1-48Hr-R2-Time40</th>\n      <th>hBFA1-FLC4-R2-Time8</th>\n      <th>hBFA1-FLC4-R2-Time16</th>\n      <th>hBFA1-FLC4-R2-Time24</th>\n      <th>hBFA1-FLC4-R2-Time40</th>\n      <th>hBFA1-GlyEtOH-R1-Time8</th>\n      <th>hBFA1-GlyEtOH-R1-Time16</th>\n      <th>hBFA1-GlyEtOH-R1-Time24</th>\n      <th>hBFA1-GlyEtOH-R1-Time40</th>\n      <th>hBFA1-GlyEtOH-R2-Time8</th>\n      <th>hBFA1-GlyEtOH-R2-Time16</th>\n      <th>hBFA1-GlyEtOH-R2-Time24</th>\n      <th>hBFA1-GlyEtOH-R2-Time40</th>\n      <th>hBFA1-SC-R1-Time8</th>\n      <th>hBFA1-SC-R1-Time16</th>\n      <th>hBFA1-SC-R1-Time24</th>\n      <th>hBFA1-SC-R1-Time40</th>\n      <th>hBFA1-SC-R2-Time8</th>\n      <th>hBFA1-SC-R2-Time16</th>\n      <th>hBFA1-SC-R2-Time24</th>\n      <th>hBFA1-SC-R2-Time40</th>\n      <th>hBFA1-YPD-R1-Time8</th>\n      <th>hBFA1-YPD-R1-Time16</th>\n      <th>hBFA1-YPD-R1-Time24</th>\n      <th>hBFA1-YPD-R1-Time40</th>\n      <th>hBFA1-YPD-R2-Time8</th>\n      <th>hBFA1-YPD-R2-Time16</th>\n      <th>hBFA1-YPD-R2-Time24</th>\n      <th>hBFA1-YPD-R2-Time40</th>\n      <th>hBFA1-pH3_8-R1-Time8</th>\n      <th>hBFA1-pH3_8-R1-Time16</th>\n      <th>hBFA1-pH3_8-R1-Time24</th>\n      <th>hBFA1-pH3_8-R1-Time40</th>\n      <th>hBFA1-pH3_8-R2-Time8</th>\n      <th>hBFA1-pH3_8-R2-Time16</th>\n      <th>hBFA1-pH3_8-R2-Time24</th>\n      <th>hBFA1-pH3_8-R2-Time40</th>\n      <th>hBFA1-pH7_3-R1-Time8</th>\n      <th>hBFA1-pH7_3-R1-Time16</th>\n      <th>hBFA1-pH7_3-R1-Time24</th>\n      <th>hBFA1-pH7_3-R1-Time40</th>\n      <th>hBFA1-pH7_3-R2-Time8</th>\n      <th>hBFA1-pH7_3-R2-Time16</th>\n      <th>hBFA1-pH7_3-R2-Time24</th>\n      <th>hBFA1-pH7_3-R2-Time40</th>\n    </tr>\n  </thead>\n  <tbody>\n    <tr>\n      <th>0</th>\n      <td>18075</td>\n      <td>34976</td>\n      <td>73925</td>\n      <td>379540</td>\n      <td>19395</td>\n      <td>33224</td>\n      <td>67414</td>\n      <td>473720</td>\n      <td>36413</td>\n      <td>72215</td>\n      <td>120048</td>\n      <td>323260</td>\n      <td>35264</td>\n      <td>76376</td>\n      <td>128764</td>\n      <td>395642</td>\n      <td>58079</td>\n      <td>106586</td>\n      <td>153886</td>\n      <td>503009</td>\n      <td>90272</td>\n      <td>138272</td>\n      <td>185857</td>\n      <td>392937</td>\n      <td>8826</td>\n      <td>690</td>\n      <td>2310</td>\n      <td>1302</td>\n      <td>64526</td>\n      <td>101861</td>\n      <td>89724</td>\n      <td>214115</td>\n      <td>78087</td>\n      <td>225592</td>\n      <td>286933</td>\n      <td>220946</td>\n      <td>17610</td>\n      <td>35231</td>\n      <td>67572</td>\n      <td>200094</td>\n      <td>23871</td>\n      <td>33046</td>\n      <td>57404</td>\n      <td>199577</td>\n      <td>27936</td>\n      <td>81462</td>\n      <td>285233</td>\n      <td>414060</td>\n      <td>35589</td>\n      <td>93249</td>\n      <td>152324</td>\n      <td>443061</td>\n      <td>39397</td>\n      <td>85853</td>\n      <td>153919</td>\n      <td>323697</td>\n      <td>23365</td>\n      <td>93624</td>\n      <td>172839</td>\n      <td>440061</td>\n      <td>41107</td>\n      <td>58049</td>\n      <td>118324</td>\n      <td>236402</td>\n      <td>42332</td>\n      <td>71938</td>\n      <td>96247</td>\n      <td>239779</td>\n    </tr>\n    <tr>\n      <th>1</th>\n      <td>109316</td>\n      <td>117037</td>\n      <td>102934</td>\n      <td>81035</td>\n      <td>122720</td>\n      <td>113384</td>\n      <td>95658</td>\n      <td>83279</td>\n      <td>140343</td>\n      <td>131053</td>\n      <td>103226</td>\n      <td>65894</td>\n      <td>161542</td>\n      <td>152263</td>\n      <td>127606</td>\n      <td>76375</td>\n      <td>81672</td>\n      <td>92562</td>\n      <td>84147</td>\n      <td>92839</td>\n      <td>136639</td>\n      <td>119851</td>\n      <td>95640</td>\n      <td>78356</td>\n      <td>29924</td>\n      <td>5794</td>\n      <td>8136</td>\n      <td>2655</td>\n      <td>56206</td>\n      <td>30550</td>\n      <td>14705</td>\n      <td>4073</td>\n      <td>61333</td>\n      <td>67183</td>\n      <td>32110</td>\n      <td>4239</td>\n      <td>106152</td>\n      <td>94024</td>\n      <td>87216</td>\n      <td>58286</td>\n      <td>140094</td>\n      <td>108014</td>\n      <td>93791</td>\n      <td>66511</td>\n      <td>79590</td>\n      <td>92123</td>\n      <td>131488</td>\n      <td>41442</td>\n      <td>104783</td>\n      <td>94953</td>\n      <td>74508</td>\n      <td>47270</td>\n      <td>146785</td>\n      <td>130842</td>\n      <td>119500</td>\n      <td>67517</td>\n      <td>95990</td>\n      <td>145530</td>\n      <td>134678</td>\n      <td>89493</td>\n      <td>204961</td>\n      <td>166806</td>\n      <td>184853</td>\n      <td>154540</td>\n      <td>198665</td>\n      <td>187896</td>\n      <td>164838</td>\n      <td>152973</td>\n    </tr>\n    <tr>\n      <th>2</th>\n      <td>6539</td>\n      <td>4508</td>\n      <td>4751</td>\n      <td>3545</td>\n      <td>7334</td>\n      <td>4549</td>\n      <td>4273</td>\n      <td>3511</td>\n      <td>7771</td>\n      <td>6269</td>\n      <td>9488</td>\n      <td>11685</td>\n      <td>12360</td>\n      <td>7577</td>\n      <td>5588</td>\n      <td>13405</td>\n      <td>5796</td>\n      <td>4743</td>\n      <td>18323</td>\n      <td>22243</td>\n      <td>12088</td>\n      <td>1461</td>\n      <td>18113</td>\n      <td>13966</td>\n      <td>3328</td>\n      <td>204</td>\n      <td>1385</td>\n      <td>1180</td>\n      <td>45206</td>\n      <td>135292</td>\n      <td>147221</td>\n      <td>699111</td>\n      <td>45299</td>\n      <td>251626</td>\n      <td>357161</td>\n      <td>639549</td>\n      <td>8667</td>\n      <td>11719</td>\n      <td>17075</td>\n      <td>37643</td>\n      <td>5744</td>\n      <td>10672</td>\n      <td>18433</td>\n      <td>39563</td>\n      <td>9170</td>\n      <td>20739</td>\n      <td>61359</td>\n      <td>63627</td>\n      <td>10914</td>\n      <td>23059</td>\n      <td>31036</td>\n      <td>64681</td>\n      <td>11494</td>\n      <td>15972</td>\n      <td>30293</td>\n      <td>58740</td>\n      <td>14528</td>\n      <td>17241</td>\n      <td>33489</td>\n      <td>79132</td>\n      <td>13665</td>\n      <td>13724</td>\n      <td>15892</td>\n      <td>19474</td>\n      <td>13758</td>\n      <td>17580</td>\n      <td>19743</td>\n      <td>23223</td>\n    </tr>\n    <tr>\n      <th>3</th>\n      <td>31099</td>\n      <td>42058</td>\n      <td>42356</td>\n      <td>38478</td>\n      <td>39228</td>\n      <td>41195</td>\n      <td>42935</td>\n      <td>51296</td>\n      <td>32634</td>\n      <td>23369</td>\n      <td>18619</td>\n      <td>7488</td>\n      <td>40855</td>\n      <td>28633</td>\n      <td>17674</td>\n      <td>7408</td>\n      <td>34917</td>\n      <td>56809</td>\n      <td>34105</td>\n      <td>67315</td>\n      <td>50951</td>\n      <td>64354</td>\n      <td>41741</td>\n      <td>33191</td>\n      <td>40379</td>\n      <td>15074</td>\n      <td>39713</td>\n      <td>72953</td>\n      <td>19617</td>\n      <td>9119</td>\n      <td>979</td>\n      <td>1747</td>\n      <td>20106</td>\n      <td>25193</td>\n      <td>11424</td>\n      <td>1820</td>\n      <td>23195</td>\n      <td>22156</td>\n      <td>21883</td>\n      <td>18536</td>\n      <td>28218</td>\n      <td>26482</td>\n      <td>27479</td>\n      <td>23968</td>\n      <td>18192</td>\n      <td>26502</td>\n      <td>43783</td>\n      <td>15863</td>\n      <td>23146</td>\n      <td>28682</td>\n      <td>23235</td>\n      <td>21635</td>\n      <td>24144</td>\n      <td>31572</td>\n      <td>35862</td>\n      <td>35065</td>\n      <td>28131</td>\n      <td>34743</td>\n      <td>44411</td>\n      <td>42641</td>\n      <td>35504</td>\n      <td>28900</td>\n      <td>33550</td>\n      <td>29448</td>\n      <td>39531</td>\n      <td>37391</td>\n      <td>32982</td>\n      <td>28658</td>\n    </tr>\n    <tr>\n      <th>4</th>\n      <td>4250</td>\n      <td>7508</td>\n      <td>13340</td>\n      <td>61474</td>\n      <td>4878</td>\n      <td>7708</td>\n      <td>13778</td>\n      <td>94633</td>\n      <td>6576</td>\n      <td>14705</td>\n      <td>29220</td>\n      <td>76955</td>\n      <td>7438</td>\n      <td>15378</td>\n      <td>20278</td>\n      <td>80289</td>\n      <td>10741</td>\n      <td>25236</td>\n      <td>30171</td>\n      <td>100566</td>\n      <td>18520</td>\n      <td>25521</td>\n      <td>36808</td>\n      <td>66914</td>\n      <td>1721</td>\n      <td>74</td>\n      <td>431</td>\n      <td>258</td>\n      <td>17158</td>\n      <td>25083</td>\n      <td>11029</td>\n      <td>58151</td>\n      <td>18737</td>\n      <td>58559</td>\n      <td>68481</td>\n      <td>59882</td>\n      <td>3482</td>\n      <td>6305</td>\n      <td>11151</td>\n      <td>32390</td>\n      <td>4746</td>\n      <td>6657</td>\n      <td>11499</td>\n      <td>37696</td>\n      <td>6188</td>\n      <td>17762</td>\n      <td>58020</td>\n      <td>85510</td>\n      <td>7344</td>\n      <td>19560</td>\n      <td>30739</td>\n      <td>94122</td>\n      <td>6019</td>\n      <td>15079</td>\n      <td>29731</td>\n      <td>78756</td>\n      <td>5652</td>\n      <td>16425</td>\n      <td>36098</td>\n      <td>105253</td>\n      <td>8471</td>\n      <td>11161</td>\n      <td>22970</td>\n      <td>52473</td>\n      <td>8942</td>\n      <td>15606</td>\n      <td>21789</td>\n      <td>53481</td>\n    </tr>\n    <tr>\n      <th>...</th>\n      <td>...</td>\n      <td>...</td>\n      <td>...</td>\n      <td>...</td>\n      <td>...</td>\n      <td>...</td>\n      <td>...</td>\n      <td>...</td>\n      <td>...</td>\n      <td>...</td>\n      <td>...</td>\n      <td>...</td>\n      <td>...</td>\n      <td>...</td>\n      <td>...</td>\n      <td>...</td>\n      <td>...</td>\n      <td>...</td>\n      <td>...</td>\n      <td>...</td>\n      <td>...</td>\n      <td>...</td>\n      <td>...</td>\n      <td>...</td>\n      <td>...</td>\n      <td>...</td>\n      <td>...</td>\n      <td>...</td>\n      <td>...</td>\n      <td>...</td>\n      <td>...</td>\n      <td>...</td>\n      <td>...</td>\n      <td>...</td>\n      <td>...</td>\n      <td>...</td>\n      <td>...</td>\n      <td>...</td>\n      <td>...</td>\n      <td>...</td>\n      <td>...</td>\n      <td>...</td>\n      <td>...</td>\n      <td>...</td>\n      <td>...</td>\n      <td>...</td>\n      <td>...</td>\n      <td>...</td>\n      <td>...</td>\n      <td>...</td>\n      <td>...</td>\n      <td>...</td>\n      <td>...</td>\n      <td>...</td>\n      <td>...</td>\n      <td>...</td>\n      <td>...</td>\n      <td>...</td>\n      <td>...</td>\n      <td>...</td>\n      <td>...</td>\n      <td>...</td>\n      <td>...</td>\n      <td>...</td>\n      <td>...</td>\n      <td>...</td>\n      <td>...</td>\n      <td>...</td>\n    </tr>\n    <tr>\n      <th>2581</th>\n      <td>1</td>\n      <td>2</td>\n      <td>4</td>\n      <td>2</td>\n      <td>5</td>\n      <td>6</td>\n      <td>7</td>\n      <td>9</td>\n      <td>7</td>\n      <td>2</td>\n      <td>3</td>\n      <td>2</td>\n      <td>4</td>\n      <td>7</td>\n      <td>3</td>\n      <td>6</td>\n      <td>5</td>\n      <td>7</td>\n      <td>3</td>\n      <td>7</td>\n      <td>4</td>\n      <td>5</td>\n      <td>3</td>\n      <td>5</td>\n      <td>0</td>\n      <td>0</td>\n      <td>0</td>\n      <td>0</td>\n      <td>1</td>\n      <td>1</td>\n      <td>2</td>\n      <td>1</td>\n      <td>3</td>\n      <td>2</td>\n      <td>0</td>\n      <td>0</td>\n      <td>3</td>\n      <td>7</td>\n      <td>6</td>\n      <td>6</td>\n      <td>5</td>\n      <td>4</td>\n      <td>5</td>\n      <td>7</td>\n      <td>1</td>\n      <td>4</td>\n      <td>8</td>\n      <td>7</td>\n      <td>6</td>\n      <td>4</td>\n      <td>2</td>\n      <td>4</td>\n      <td>4</td>\n      <td>5</td>\n      <td>5</td>\n      <td>2</td>\n      <td>2</td>\n      <td>6</td>\n      <td>3</td>\n      <td>3</td>\n      <td>6</td>\n      <td>3</td>\n      <td>3</td>\n      <td>3</td>\n      <td>3</td>\n      <td>7</td>\n      <td>8</td>\n      <td>6</td>\n    </tr>\n    <tr>\n      <th>2582</th>\n      <td>3</td>\n      <td>3</td>\n      <td>5</td>\n      <td>1</td>\n      <td>7</td>\n      <td>5</td>\n      <td>5</td>\n      <td>5</td>\n      <td>4</td>\n      <td>0</td>\n      <td>4</td>\n      <td>3</td>\n      <td>2</td>\n      <td>3</td>\n      <td>5</td>\n      <td>4</td>\n      <td>3</td>\n      <td>1</td>\n      <td>5</td>\n      <td>3</td>\n      <td>8</td>\n      <td>11</td>\n      <td>4</td>\n      <td>4</td>\n      <td>0</td>\n      <td>1</td>\n      <td>0</td>\n      <td>0</td>\n      <td>3</td>\n      <td>3</td>\n      <td>0</td>\n      <td>1</td>\n      <td>4</td>\n      <td>1</td>\n      <td>2</td>\n      <td>0</td>\n      <td>6</td>\n      <td>1</td>\n      <td>4</td>\n      <td>1</td>\n      <td>2</td>\n      <td>8</td>\n      <td>6</td>\n      <td>3</td>\n      <td>4</td>\n      <td>5</td>\n      <td>6</td>\n      <td>3</td>\n      <td>5</td>\n      <td>3</td>\n      <td>3</td>\n      <td>4</td>\n      <td>5</td>\n      <td>2</td>\n      <td>3</td>\n      <td>0</td>\n      <td>0</td>\n      <td>5</td>\n      <td>4</td>\n      <td>2</td>\n      <td>4</td>\n      <td>7</td>\n      <td>10</td>\n      <td>3</td>\n      <td>7</td>\n      <td>4</td>\n      <td>6</td>\n      <td>4</td>\n    </tr>\n    <tr>\n      <th>2583</th>\n      <td>3</td>\n      <td>5</td>\n      <td>4</td>\n      <td>2</td>\n      <td>3</td>\n      <td>7</td>\n      <td>6</td>\n      <td>3</td>\n      <td>1</td>\n      <td>0</td>\n      <td>3</td>\n      <td>3</td>\n      <td>6</td>\n      <td>4</td>\n      <td>3</td>\n      <td>1</td>\n      <td>2</td>\n      <td>7</td>\n      <td>3</td>\n      <td>6</td>\n      <td>7</td>\n      <td>4</td>\n      <td>5</td>\n      <td>4</td>\n      <td>0</td>\n      <td>0</td>\n      <td>1</td>\n      <td>1</td>\n      <td>5</td>\n      <td>2</td>\n      <td>0</td>\n      <td>0</td>\n      <td>2</td>\n      <td>1</td>\n      <td>0</td>\n      <td>0</td>\n      <td>2</td>\n      <td>3</td>\n      <td>6</td>\n      <td>2</td>\n      <td>1</td>\n      <td>3</td>\n      <td>7</td>\n      <td>3</td>\n      <td>3</td>\n      <td>5</td>\n      <td>6</td>\n      <td>4</td>\n      <td>4</td>\n      <td>5</td>\n      <td>3</td>\n      <td>2</td>\n      <td>0</td>\n      <td>1</td>\n      <td>6</td>\n      <td>6</td>\n      <td>1</td>\n      <td>3</td>\n      <td>6</td>\n      <td>3</td>\n      <td>3</td>\n      <td>4</td>\n      <td>4</td>\n      <td>1</td>\n      <td>3</td>\n      <td>4</td>\n      <td>5</td>\n      <td>1</td>\n    </tr>\n    <tr>\n      <th>2584</th>\n      <td>5</td>\n      <td>4</td>\n      <td>4</td>\n      <td>2</td>\n      <td>8</td>\n      <td>6</td>\n      <td>2</td>\n      <td>13</td>\n      <td>0</td>\n      <td>0</td>\n      <td>4</td>\n      <td>0</td>\n      <td>1</td>\n      <td>0</td>\n      <td>0</td>\n      <td>0</td>\n      <td>0</td>\n      <td>0</td>\n      <td>0</td>\n      <td>0</td>\n      <td>0</td>\n      <td>0</td>\n      <td>1</td>\n      <td>0</td>\n      <td>0</td>\n      <td>0</td>\n      <td>0</td>\n      <td>0</td>\n      <td>10</td>\n      <td>7</td>\n      <td>0</td>\n      <td>0</td>\n      <td>0</td>\n      <td>2</td>\n      <td>0</td>\n      <td>0</td>\n      <td>0</td>\n      <td>0</td>\n      <td>0</td>\n      <td>0</td>\n      <td>1</td>\n      <td>0</td>\n      <td>0</td>\n      <td>0</td>\n      <td>12</td>\n      <td>7</td>\n      <td>6</td>\n      <td>2</td>\n      <td>10</td>\n      <td>7</td>\n      <td>5</td>\n      <td>1</td>\n      <td>0</td>\n      <td>0</td>\n      <td>0</td>\n      <td>0</td>\n      <td>18</td>\n      <td>0</td>\n      <td>0</td>\n      <td>0</td>\n      <td>0</td>\n      <td>0</td>\n      <td>0</td>\n      <td>0</td>\n      <td>1</td>\n      <td>0</td>\n      <td>0</td>\n      <td>0</td>\n    </tr>\n    <tr>\n      <th>2585</th>\n      <td>4</td>\n      <td>4</td>\n      <td>3</td>\n      <td>2</td>\n      <td>2</td>\n      <td>3</td>\n      <td>2</td>\n      <td>6</td>\n      <td>0</td>\n      <td>0</td>\n      <td>5</td>\n      <td>1</td>\n      <td>1</td>\n      <td>3</td>\n      <td>0</td>\n      <td>1</td>\n      <td>0</td>\n      <td>5</td>\n      <td>3</td>\n      <td>5</td>\n      <td>3</td>\n      <td>0</td>\n      <td>4</td>\n      <td>1</td>\n      <td>2</td>\n      <td>0</td>\n      <td>2</td>\n      <td>0</td>\n      <td>1</td>\n      <td>1</td>\n      <td>0</td>\n      <td>0</td>\n      <td>1</td>\n      <td>0</td>\n      <td>0</td>\n      <td>0</td>\n      <td>1</td>\n      <td>0</td>\n      <td>1</td>\n      <td>0</td>\n      <td>0</td>\n      <td>1</td>\n      <td>2</td>\n      <td>1</td>\n      <td>2</td>\n      <td>1</td>\n      <td>3</td>\n      <td>2</td>\n      <td>2</td>\n      <td>1</td>\n      <td>2</td>\n      <td>2</td>\n      <td>0</td>\n      <td>0</td>\n      <td>0</td>\n      <td>1</td>\n      <td>3</td>\n      <td>0</td>\n      <td>0</td>\n      <td>1</td>\n      <td>1</td>\n      <td>0</td>\n      <td>0</td>\n      <td>1</td>\n      <td>0</td>\n      <td>0</td>\n      <td>3</td>\n      <td>0</td>\n    </tr>\n  </tbody>\n</table>\n<p>2586 rows × 68 columns</p>\n</div>"
     },
     "execution_count": 7,
     "metadata": {},
     "output_type": "execute_result"
    }
   ],
   "source": [
    "rawCounts_hBFA1 = rawCountsTable_hBFA1.drop(columns=metadata_columns)\n",
    "rawCounts_hBFA1"
   ],
   "metadata": {
    "collapsed": false,
    "ExecuteTime": {
     "end_time": "2024-01-19T16:29:03.310805Z",
     "start_time": "2024-01-19T16:29:03.260601Z"
    }
   },
   "id": "331031c600dbbc76"
  },
  {
   "cell_type": "markdown",
   "source": [
    "#### Extract the metadata for variants from the variants dataset"
   ],
   "metadata": {
    "collapsed": false
   },
   "id": "814825d59a65c5a"
  },
  {
   "cell_type": "code",
   "execution_count": 8,
   "outputs": [
    {
     "data": {
      "text/plain": "                                           barcode_full  \\\n0     ATAAAAAAGCACAAGCCTTTTGACGACACCTAAATTAGTTATCCAT...   \n1     CGATAAACCCACAATATGATTATCGGTACACAAGAGGGTTTCTGTT...   \n2     CGCACAAGAAAGAATAATCTTGAATTGGTAAAACCAGATTTGGCAT...   \n3     ACAAAAAGATATAACAAGCTTGAAGACCCGAAAAAGTTTTTTATCT...   \n4     AATAAAAGAAGGAAAAGCATTTAAACAAACAAACTTTCTTTTTTCT...   \n...                                                 ...   \n2581  CACGCAAAACTTTATTCAATAACTTCGTCCGCCAATCATATTGTAC...   \n2582  CTATGAAAAGACAACAAGATTGCCTACTATTAACTGATTTTTCTCT...   \n2583  CGTTAGAATTCTAAACCTGGTTCAACTATTGGAACATCTTTAGTAT...   \n2584  CCGTCAATCATTAACTTAGTTTCTTACCAGAAATCATATTTTTATT...   \n2585  TTATTAATATAGAAAGCAATTTTAATAGAAAAACCATTTTCGTATT...   \n\n                   barcode_diverse         barcode_environment  total_counts  \\\n0       ATAAAAAAGCACAAGCCTTTTGACGA  CACCTAAATTAGTTATCCATTCGGCT       9616313   \n1       CGATAAACCCACAATATGATTATCGG  TACACAAGAGGGTTTCTGTTTTATGG       6648391   \n2       CGCACAAGAAAGAATAATCTTGAATT  GGTAAAACCAGATTTGGCATTCACTA       3368497   \n3       ACAAAAAGATATAACAAGCTTGAAGA  CCCGAAAAAGTTTTTTATCTTCAATG       2082320   \n4       AATAAAAGAAGGAAAAGCATTTAAAC  AAACAAACTTTCTTTTTTCTTTATGC       2013526   \n...                            ...                         ...           ...   \n2581  CACGCAAAACTTTATTCAATAACTTCGT  CCGCCAATCATATTGTACTTTCAAGG           267   \n2582    CTATGAAAAGACAACAAGATTGCCTA  CTATTAACTGATTTTTCTCTTTCGAA           243   \n2583   CGTTAGAATTCTAAACCTGGTTCAACT  ATTGGAACATCTTTAGTATTTAATAC           214   \n2584    CCGTCAATCATTAACTTAGTTTCTTA  CCAGAAATCATATTTTTATTTATTAA           139   \n2585    TTATTAATATAGAAAGCAATTTTAAT  AGAAAAACCATTTTCGTATTTTATAG            96   \n\n     subpool_environment                which_subpools putative_environment  \n0               not_read                      not_read                SC_2N  \n1               not_read                      not_read             SC_alpha  \n2          GlyEtOH_alpha  -R1-Subpool.-R1-autodiploids        GlyEtOH_alpha  \n3             FLC4_alpha                   -R1-Subpool           FLC4_alpha  \n4              YPD_alpha                   -R1-Subpool      contam-pH3_8_2N  \n...                  ...                           ...                  ...  \n2581            not_read                      not_read             SC_alpha  \n2582         pH7_3_alpha                   -R2-Subpool   sanger-pH7_3_alpha  \n2583           37C_alpha                   -R1-Subpool              unknown  \n2584           21C_alpha                   -R1-Subpool            21C_alpha  \n2585           YPD_alpha                   -R1-Subpool            YPD_alpha  \n\n[2586 rows x 7 columns]",
      "text/html": "<div>\n<style scoped>\n    .dataframe tbody tr th:only-of-type {\n        vertical-align: middle;\n    }\n\n    .dataframe tbody tr th {\n        vertical-align: top;\n    }\n\n    .dataframe thead th {\n        text-align: right;\n    }\n</style>\n<table border=\"1\" class=\"dataframe\">\n  <thead>\n    <tr style=\"text-align: right;\">\n      <th></th>\n      <th>barcode_full</th>\n      <th>barcode_diverse</th>\n      <th>barcode_environment</th>\n      <th>total_counts</th>\n      <th>subpool_environment</th>\n      <th>which_subpools</th>\n      <th>putative_environment</th>\n    </tr>\n  </thead>\n  <tbody>\n    <tr>\n      <th>0</th>\n      <td>ATAAAAAAGCACAAGCCTTTTGACGACACCTAAATTAGTTATCCAT...</td>\n      <td>ATAAAAAAGCACAAGCCTTTTGACGA</td>\n      <td>CACCTAAATTAGTTATCCATTCGGCT</td>\n      <td>9616313</td>\n      <td>not_read</td>\n      <td>not_read</td>\n      <td>SC_2N</td>\n    </tr>\n    <tr>\n      <th>1</th>\n      <td>CGATAAACCCACAATATGATTATCGGTACACAAGAGGGTTTCTGTT...</td>\n      <td>CGATAAACCCACAATATGATTATCGG</td>\n      <td>TACACAAGAGGGTTTCTGTTTTATGG</td>\n      <td>6648391</td>\n      <td>not_read</td>\n      <td>not_read</td>\n      <td>SC_alpha</td>\n    </tr>\n    <tr>\n      <th>2</th>\n      <td>CGCACAAGAAAGAATAATCTTGAATTGGTAAAACCAGATTTGGCAT...</td>\n      <td>CGCACAAGAAAGAATAATCTTGAATT</td>\n      <td>GGTAAAACCAGATTTGGCATTCACTA</td>\n      <td>3368497</td>\n      <td>GlyEtOH_alpha</td>\n      <td>-R1-Subpool.-R1-autodiploids</td>\n      <td>GlyEtOH_alpha</td>\n    </tr>\n    <tr>\n      <th>3</th>\n      <td>ACAAAAAGATATAACAAGCTTGAAGACCCGAAAAAGTTTTTTATCT...</td>\n      <td>ACAAAAAGATATAACAAGCTTGAAGA</td>\n      <td>CCCGAAAAAGTTTTTTATCTTCAATG</td>\n      <td>2082320</td>\n      <td>FLC4_alpha</td>\n      <td>-R1-Subpool</td>\n      <td>FLC4_alpha</td>\n    </tr>\n    <tr>\n      <th>4</th>\n      <td>AATAAAAGAAGGAAAAGCATTTAAACAAACAAACTTTCTTTTTTCT...</td>\n      <td>AATAAAAGAAGGAAAAGCATTTAAAC</td>\n      <td>AAACAAACTTTCTTTTTTCTTTATGC</td>\n      <td>2013526</td>\n      <td>YPD_alpha</td>\n      <td>-R1-Subpool</td>\n      <td>contam-pH3_8_2N</td>\n    </tr>\n    <tr>\n      <th>...</th>\n      <td>...</td>\n      <td>...</td>\n      <td>...</td>\n      <td>...</td>\n      <td>...</td>\n      <td>...</td>\n      <td>...</td>\n    </tr>\n    <tr>\n      <th>2581</th>\n      <td>CACGCAAAACTTTATTCAATAACTTCGTCCGCCAATCATATTGTAC...</td>\n      <td>CACGCAAAACTTTATTCAATAACTTCGT</td>\n      <td>CCGCCAATCATATTGTACTTTCAAGG</td>\n      <td>267</td>\n      <td>not_read</td>\n      <td>not_read</td>\n      <td>SC_alpha</td>\n    </tr>\n    <tr>\n      <th>2582</th>\n      <td>CTATGAAAAGACAACAAGATTGCCTACTATTAACTGATTTTTCTCT...</td>\n      <td>CTATGAAAAGACAACAAGATTGCCTA</td>\n      <td>CTATTAACTGATTTTTCTCTTTCGAA</td>\n      <td>243</td>\n      <td>pH7_3_alpha</td>\n      <td>-R2-Subpool</td>\n      <td>sanger-pH7_3_alpha</td>\n    </tr>\n    <tr>\n      <th>2583</th>\n      <td>CGTTAGAATTCTAAACCTGGTTCAACTATTGGAACATCTTTAGTAT...</td>\n      <td>CGTTAGAATTCTAAACCTGGTTCAACT</td>\n      <td>ATTGGAACATCTTTAGTATTTAATAC</td>\n      <td>214</td>\n      <td>37C_alpha</td>\n      <td>-R1-Subpool</td>\n      <td>unknown</td>\n    </tr>\n    <tr>\n      <th>2584</th>\n      <td>CCGTCAATCATTAACTTAGTTTCTTACCAGAAATCATATTTTTATT...</td>\n      <td>CCGTCAATCATTAACTTAGTTTCTTA</td>\n      <td>CCAGAAATCATATTTTTATTTATTAA</td>\n      <td>139</td>\n      <td>21C_alpha</td>\n      <td>-R1-Subpool</td>\n      <td>21C_alpha</td>\n    </tr>\n    <tr>\n      <th>2585</th>\n      <td>TTATTAATATAGAAAGCAATTTTAATAGAAAAACCATTTTCGTATT...</td>\n      <td>TTATTAATATAGAAAGCAATTTTAAT</td>\n      <td>AGAAAAACCATTTTCGTATTTTATAG</td>\n      <td>96</td>\n      <td>YPD_alpha</td>\n      <td>-R1-Subpool</td>\n      <td>YPD_alpha</td>\n    </tr>\n  </tbody>\n</table>\n<p>2586 rows × 7 columns</p>\n</div>"
     },
     "execution_count": 8,
     "metadata": {},
     "output_type": "execute_result"
    }
   ],
   "source": [
    "variantsInfo_hBFA1 = rawCountsTable_hBFA1[metadata_columns].copy()  # this .copy() prevents variantsInfo_hBFA1 from being seen as a slice internally\n",
    "variantsInfo_hBFA1 = variantsInfo_hBFA1.rename(columns={'Full.BC':'barcode_full', 'Diverse.BC':'barcode_diverse', 'Environment.BC':'barcode_environment', 'Total.Counts':'total_counts',\n",
    "                                            'Subpool.Environment':'subpool_environment', 'Which.Subpools':'which_subpools', 'Putative.Environment':'putative_environment'})\n",
    "variantsInfo_hBFA1"
   ],
   "metadata": {
    "collapsed": false,
    "ExecuteTime": {
     "end_time": "2024-01-19T16:29:03.342696Z",
     "start_time": "2024-01-19T16:29:03.328564Z"
    }
   },
   "id": "782da293d96f32a2"
  },
  {
   "cell_type": "markdown",
   "source": [
    "#### Parse treatment, rep, and timepoint information from sample labels (column names)"
   ],
   "metadata": {
    "collapsed": false
   },
   "id": "5166d92621156b5f"
  },
  {
   "cell_type": "code",
   "execution_count": 9,
   "outputs": [
    {
     "data": {
      "text/plain": "array(['hBFA1-21C-R1-Time8', 'hBFA1-21C-R1-Time16', 'hBFA1-21C-R1-Time24',\n       'hBFA1-21C-R1-Time40', 'hBFA1-21C-R2-Time8', 'hBFA1-21C-R2-Time16',\n       'hBFA1-21C-R2-Time24', 'hBFA1-21C-R2-Time40', 'hBFA1-37C-R1-Time8',\n       'hBFA1-37C-R1-Time16', 'hBFA1-37C-R1-Time24',\n       'hBFA1-37C-R1-Time40', 'hBFA1-37C-R2-Time8', 'hBFA1-37C-R2-Time16',\n       'hBFA1-37C-R2-Time24', 'hBFA1-37C-R2-Time40',\n       'hBFA1-48Hr-R1-Time8', 'hBFA1-48Hr-R1-Time16',\n       'hBFA1-48Hr-R1-Time24', 'hBFA1-48Hr-R1-Time40',\n       'hBFA1-48Hr-R2-Time8', 'hBFA1-48Hr-R2-Time16',\n       'hBFA1-48Hr-R2-Time24', 'hBFA1-48Hr-R2-Time40',\n       'hBFA1-FLC4-R2-Time8', 'hBFA1-FLC4-R2-Time16',\n       'hBFA1-FLC4-R2-Time24', 'hBFA1-FLC4-R2-Time40',\n       'hBFA1-GlyEtOH-R1-Time8', 'hBFA1-GlyEtOH-R1-Time16',\n       'hBFA1-GlyEtOH-R1-Time24', 'hBFA1-GlyEtOH-R1-Time40',\n       'hBFA1-GlyEtOH-R2-Time8', 'hBFA1-GlyEtOH-R2-Time16',\n       'hBFA1-GlyEtOH-R2-Time24', 'hBFA1-GlyEtOH-R2-Time40',\n       'hBFA1-SC-R1-Time8', 'hBFA1-SC-R1-Time16', 'hBFA1-SC-R1-Time24',\n       'hBFA1-SC-R1-Time40', 'hBFA1-SC-R2-Time8', 'hBFA1-SC-R2-Time16',\n       'hBFA1-SC-R2-Time24', 'hBFA1-SC-R2-Time40', 'hBFA1-YPD-R1-Time8',\n       'hBFA1-YPD-R1-Time16', 'hBFA1-YPD-R1-Time24',\n       'hBFA1-YPD-R1-Time40', 'hBFA1-YPD-R2-Time8', 'hBFA1-YPD-R2-Time16',\n       'hBFA1-YPD-R2-Time24', 'hBFA1-YPD-R2-Time40',\n       'hBFA1-pH3_8-R1-Time8', 'hBFA1-pH3_8-R1-Time16',\n       'hBFA1-pH3_8-R1-Time24', 'hBFA1-pH3_8-R1-Time40',\n       'hBFA1-pH3_8-R2-Time8', 'hBFA1-pH3_8-R2-Time16',\n       'hBFA1-pH3_8-R2-Time24', 'hBFA1-pH3_8-R2-Time40',\n       'hBFA1-pH7_3-R1-Time8', 'hBFA1-pH7_3-R1-Time16',\n       'hBFA1-pH7_3-R1-Time24', 'hBFA1-pH7_3-R1-Time40',\n       'hBFA1-pH7_3-R2-Time8', 'hBFA1-pH7_3-R2-Time16',\n       'hBFA1-pH7_3-R2-Time24', 'hBFA1-pH7_3-R2-Time40'], dtype=object)"
     },
     "execution_count": 9,
     "metadata": {},
     "output_type": "execute_result"
    }
   ],
   "source": [
    "sample_columns_raw = rawCounts_hBFA1.columns\n",
    "sample_columns_raw.values"
   ],
   "metadata": {
    "collapsed": false,
    "ExecuteTime": {
     "end_time": "2024-01-19T16:29:03.404418Z",
     "start_time": "2024-01-19T16:29:03.342384Z"
    }
   },
   "id": "bff0d0ab6964c71d"
  },
  {
   "cell_type": "code",
   "execution_count": 10,
   "outputs": [],
   "source": [
    "samplesInfo_hBFA1 = []\n",
    "\n",
    "sample_renames = {}\n",
    "\n",
    "for sample in rawCounts_hBFA1.columns:\n",
    "    sample_info = {}\n",
    "    sample_info['chen_sample_label'] = sample\n",
    "    sample_label_parts = sample.split('-')\n",
    "    sample_info['assay_set'] = sample_label_parts[0]\n",
    "    sample_info['treatment'] = '.'.join(sample_label_parts[1].split('_'))\n",
    "    sample_info['rep']       = sample_label_parts[2]\n",
    "    sample_info['timept']    = sample_label_parts[3][4:]\n",
    "    sample_info['assay']     = sample_info['assay_set'] + ':' + sample_info['treatment'] + '-' + sample_info['rep']\n",
    "    sample_info['sample']    = sample_info['assay'] + '-' + sample_info['timept']\n",
    "    sample_info['total_raw_count'] = rawCounts_hBFA1[sample].sum()\n",
    "    sample_renames[sample] = sample_info['sample']\n",
    "    samplesInfo_hBFA1.append(sample_info)\n",
    "    \n",
    "samplesInfo_hBFA1 = pd.DataFrame(samplesInfo_hBFA1)\n",
    "\n",
    "rawCounts_hBFA1 = rawCounts_hBFA1.rename(columns=sample_renames)"
   ],
   "metadata": {
    "collapsed": false,
    "ExecuteTime": {
     "end_time": "2024-01-19T16:29:03.462241Z",
     "start_time": "2024-01-19T16:29:03.365800Z"
    }
   },
   "id": "e78b42563b50a124"
  },
  {
   "cell_type": "code",
   "execution_count": 11,
   "outputs": [],
   "source": [
    "samplesInfo_hBFA1['timept'] = pd.to_numeric(samplesInfo_hBFA1['timept'])"
   ],
   "metadata": {
    "collapsed": false,
    "ExecuteTime": {
     "end_time": "2024-01-19T16:29:03.463726Z",
     "start_time": "2024-01-19T16:29:03.375890Z"
    }
   },
   "id": "323731f88e6eff55"
  },
  {
   "cell_type": "code",
   "execution_count": 12,
   "outputs": [],
   "source": [
    "# Sort dataframe for convenience:\n",
    "samplesInfo_hBFA1.sort_values(by=['assay_set', 'treatment', 'rep', 'timept'], ascending=[True, True, True, True], ignore_index=True, inplace=True)"
   ],
   "metadata": {
    "collapsed": false,
    "ExecuteTime": {
     "end_time": "2024-01-19T16:29:03.464766Z",
     "start_time": "2024-01-19T16:29:03.390195Z"
    }
   },
   "id": "97d5993e1e8314b6"
  },
  {
   "cell_type": "code",
   "execution_count": 13,
   "outputs": [],
   "source": [
    "# Reorder columns for cosmetic reasons\n",
    "samplesInfo_hBFA1 = samplesInfo_hBFA1[['chen_sample_label', 'sample', 'assay', 'assay_set', 'treatment', 'rep', 'timept', 'total_raw_count']]"
   ],
   "metadata": {
    "collapsed": false,
    "ExecuteTime": {
     "end_time": "2024-01-19T16:29:03.506036Z",
     "start_time": "2024-01-19T16:29:03.400065Z"
    }
   },
   "id": "9646bf04262050a"
  },
  {
   "cell_type": "code",
   "execution_count": 14,
   "outputs": [
    {
     "data": {
      "text/plain": "        chen_sample_label             sample           assay assay_set  \\\n0      hBFA1-21C-R1-Time8     hBFA1:21C-R1-8    hBFA1:21C-R1     hBFA1   \n1     hBFA1-21C-R1-Time16    hBFA1:21C-R1-16    hBFA1:21C-R1     hBFA1   \n2     hBFA1-21C-R1-Time24    hBFA1:21C-R1-24    hBFA1:21C-R1     hBFA1   \n3     hBFA1-21C-R1-Time40    hBFA1:21C-R1-40    hBFA1:21C-R1     hBFA1   \n4      hBFA1-21C-R2-Time8     hBFA1:21C-R2-8    hBFA1:21C-R2     hBFA1   \n..                    ...                ...             ...       ...   \n63  hBFA1-pH7_3-R1-Time40  hBFA1:pH7.3-R1-40  hBFA1:pH7.3-R1     hBFA1   \n64   hBFA1-pH7_3-R2-Time8   hBFA1:pH7.3-R2-8  hBFA1:pH7.3-R2     hBFA1   \n65  hBFA1-pH7_3-R2-Time16  hBFA1:pH7.3-R2-16  hBFA1:pH7.3-R2     hBFA1   \n66  hBFA1-pH7_3-R2-Time24  hBFA1:pH7.3-R2-24  hBFA1:pH7.3-R2     hBFA1   \n67  hBFA1-pH7_3-R2-Time40  hBFA1:pH7.3-R2-40  hBFA1:pH7.3-R2     hBFA1   \n\n   treatment rep  timept  total_raw_count  \n0        21C  R1       8          1917150  \n1        21C  R1      16          2168035  \n2        21C  R1      24          2068099  \n3        21C  R1      40          2118452  \n4        21C  R2       8          2111700  \n..       ...  ..     ...              ...  \n63     pH7.3  R1      40          2719186  \n64     pH7.3  R2       8          2757245  \n65     pH7.3  R2      16          2680456  \n66     pH7.3  R2      24          2585981  \n67     pH7.3  R2      40          2769573  \n\n[68 rows x 8 columns]",
      "text/html": "<div>\n<style scoped>\n    .dataframe tbody tr th:only-of-type {\n        vertical-align: middle;\n    }\n\n    .dataframe tbody tr th {\n        vertical-align: top;\n    }\n\n    .dataframe thead th {\n        text-align: right;\n    }\n</style>\n<table border=\"1\" class=\"dataframe\">\n  <thead>\n    <tr style=\"text-align: right;\">\n      <th></th>\n      <th>chen_sample_label</th>\n      <th>sample</th>\n      <th>assay</th>\n      <th>assay_set</th>\n      <th>treatment</th>\n      <th>rep</th>\n      <th>timept</th>\n      <th>total_raw_count</th>\n    </tr>\n  </thead>\n  <tbody>\n    <tr>\n      <th>0</th>\n      <td>hBFA1-21C-R1-Time8</td>\n      <td>hBFA1:21C-R1-8</td>\n      <td>hBFA1:21C-R1</td>\n      <td>hBFA1</td>\n      <td>21C</td>\n      <td>R1</td>\n      <td>8</td>\n      <td>1917150</td>\n    </tr>\n    <tr>\n      <th>1</th>\n      <td>hBFA1-21C-R1-Time16</td>\n      <td>hBFA1:21C-R1-16</td>\n      <td>hBFA1:21C-R1</td>\n      <td>hBFA1</td>\n      <td>21C</td>\n      <td>R1</td>\n      <td>16</td>\n      <td>2168035</td>\n    </tr>\n    <tr>\n      <th>2</th>\n      <td>hBFA1-21C-R1-Time24</td>\n      <td>hBFA1:21C-R1-24</td>\n      <td>hBFA1:21C-R1</td>\n      <td>hBFA1</td>\n      <td>21C</td>\n      <td>R1</td>\n      <td>24</td>\n      <td>2068099</td>\n    </tr>\n    <tr>\n      <th>3</th>\n      <td>hBFA1-21C-R1-Time40</td>\n      <td>hBFA1:21C-R1-40</td>\n      <td>hBFA1:21C-R1</td>\n      <td>hBFA1</td>\n      <td>21C</td>\n      <td>R1</td>\n      <td>40</td>\n      <td>2118452</td>\n    </tr>\n    <tr>\n      <th>4</th>\n      <td>hBFA1-21C-R2-Time8</td>\n      <td>hBFA1:21C-R2-8</td>\n      <td>hBFA1:21C-R2</td>\n      <td>hBFA1</td>\n      <td>21C</td>\n      <td>R2</td>\n      <td>8</td>\n      <td>2111700</td>\n    </tr>\n    <tr>\n      <th>...</th>\n      <td>...</td>\n      <td>...</td>\n      <td>...</td>\n      <td>...</td>\n      <td>...</td>\n      <td>...</td>\n      <td>...</td>\n      <td>...</td>\n    </tr>\n    <tr>\n      <th>63</th>\n      <td>hBFA1-pH7_3-R1-Time40</td>\n      <td>hBFA1:pH7.3-R1-40</td>\n      <td>hBFA1:pH7.3-R1</td>\n      <td>hBFA1</td>\n      <td>pH7.3</td>\n      <td>R1</td>\n      <td>40</td>\n      <td>2719186</td>\n    </tr>\n    <tr>\n      <th>64</th>\n      <td>hBFA1-pH7_3-R2-Time8</td>\n      <td>hBFA1:pH7.3-R2-8</td>\n      <td>hBFA1:pH7.3-R2</td>\n      <td>hBFA1</td>\n      <td>pH7.3</td>\n      <td>R2</td>\n      <td>8</td>\n      <td>2757245</td>\n    </tr>\n    <tr>\n      <th>65</th>\n      <td>hBFA1-pH7_3-R2-Time16</td>\n      <td>hBFA1:pH7.3-R2-16</td>\n      <td>hBFA1:pH7.3-R2</td>\n      <td>hBFA1</td>\n      <td>pH7.3</td>\n      <td>R2</td>\n      <td>16</td>\n      <td>2680456</td>\n    </tr>\n    <tr>\n      <th>66</th>\n      <td>hBFA1-pH7_3-R2-Time24</td>\n      <td>hBFA1:pH7.3-R2-24</td>\n      <td>hBFA1:pH7.3-R2</td>\n      <td>hBFA1</td>\n      <td>pH7.3</td>\n      <td>R2</td>\n      <td>24</td>\n      <td>2585981</td>\n    </tr>\n    <tr>\n      <th>67</th>\n      <td>hBFA1-pH7_3-R2-Time40</td>\n      <td>hBFA1:pH7.3-R2-40</td>\n      <td>hBFA1:pH7.3-R2</td>\n      <td>hBFA1</td>\n      <td>pH7.3</td>\n      <td>R2</td>\n      <td>40</td>\n      <td>2769573</td>\n    </tr>\n  </tbody>\n</table>\n<p>68 rows × 8 columns</p>\n</div>"
     },
     "execution_count": 14,
     "metadata": {},
     "output_type": "execute_result"
    }
   ],
   "source": [
    "samplesInfo_hBFA1"
   ],
   "metadata": {
    "collapsed": false,
    "ExecuteTime": {
     "end_time": "2024-01-19T16:29:03.508130Z",
     "start_time": "2024-01-19T16:29:03.416405Z"
    }
   },
   "id": "1a2b5d30f11b826f"
  },
  {
   "cell_type": "markdown",
   "source": [
    "----------\n",
    "#### Filter samples by total counts"
   ],
   "metadata": {
    "collapsed": false
   },
   "id": "906b96549986bc29"
  },
  {
   "cell_type": "code",
   "execution_count": 15,
   "outputs": [],
   "source": [
    "# Create a column in samplesInfo_hBFA1 to indicate which samples are excluded from analysis.\n",
    "samplesInfo_hBFA1['exclude_from_analysis'] = False"
   ],
   "metadata": {
    "collapsed": false,
    "ExecuteTime": {
     "end_time": "2024-01-19T16:29:03.509708Z",
     "start_time": "2024-01-19T16:29:03.423968Z"
    }
   },
   "id": "a72d85320d5dfacd"
  },
  {
   "cell_type": "code",
   "execution_count": 16,
   "outputs": [],
   "source": [
    "MIN_SAMPLE_COUNT_TOTAL = 1e5"
   ],
   "metadata": {
    "collapsed": false,
    "ExecuteTime": {
     "end_time": "2024-01-19T16:29:03.520815Z",
     "start_time": "2024-01-19T16:29:03.429654Z"
    }
   },
   "id": "cdba49d368ab7038"
  },
  {
   "cell_type": "code",
   "execution_count": 17,
   "outputs": [],
   "source": [
    "# Exclude treatments that have one or more samples with total count below threshold\n",
    "good_coverage_samples = []\n",
    "for treatment in samplesInfo_hBFA1['treatment'].unique():\n",
    "    treatmentInfo = samplesInfo_hBFA1[samplesInfo_hBFA1['treatment'] == treatment]\n",
    "    if(np.all((treatmentInfo['timept'] == 0) | (treatmentInfo['total_raw_count'] >= MIN_SAMPLE_COUNT_TOTAL))):\n",
    "        good_coverage_samples.extend( treatmentInfo['sample'].values )\n",
    "    else:\n",
    "        samplesInfo_hBFA1.loc[samplesInfo_hBFA1['treatment'] == treatment, 'exclude_from_analysis'] = True"
   ],
   "metadata": {
    "collapsed": false,
    "ExecuteTime": {
     "end_time": "2024-01-19T16:29:03.538934Z",
     "start_time": "2024-01-19T16:29:03.447087Z"
    }
   },
   "id": "852841f483b33afd"
  },
  {
   "cell_type": "code",
   "execution_count": 18,
   "outputs": [],
   "source": [
    "rawCounts_hBFA1   = rawCounts_hBFA1[good_coverage_samples]"
   ],
   "metadata": {
    "collapsed": false,
    "ExecuteTime": {
     "end_time": "2024-01-19T16:29:03.541661Z",
     "start_time": "2024-01-19T16:29:03.459375Z"
    }
   },
   "id": "c609ffddbb867e99"
  },
  {
   "cell_type": "code",
   "execution_count": 19,
   "outputs": [],
   "source": [
    "# Drop excluded samples from the data set\n",
    "samplesInfo_hBFA1 = samplesInfo_hBFA1[~samplesInfo_hBFA1['exclude_from_analysis']]\n",
    "samplesInfo_hBFA1 = samplesInfo_hBFA1.drop(columns=['exclude_from_analysis'])"
   ],
   "metadata": {
    "collapsed": false,
    "ExecuteTime": {
     "end_time": "2024-01-19T16:29:03.591814Z",
     "start_time": "2024-01-19T16:29:03.467272Z"
    }
   },
   "id": "a04f66f54fcf853b"
  },
  {
   "cell_type": "markdown",
   "source": [
    "------\n",
    "\n",
    "#### Get barcode sequence along with GC-content for each variant"
   ],
   "metadata": {
    "collapsed": false
   },
   "id": "a5421d5eec6f8965"
  },
  {
   "cell_type": "code",
   "execution_count": 20,
   "outputs": [
    {
     "data": {
      "text/plain": "                                           barcode_full  \\\n0     ATAAAAAAGCACAAGCCTTTTGACGACACCTAAATTAGTTATCCAT...   \n1     CGATAAACCCACAATATGATTATCGGTACACAAGAGGGTTTCTGTT...   \n2     CGCACAAGAAAGAATAATCTTGAATTGGTAAAACCAGATTTGGCAT...   \n3     ACAAAAAGATATAACAAGCTTGAAGACCCGAAAAAGTTTTTTATCT...   \n4     AATAAAAGAAGGAAAAGCATTTAAACAAACAAACTTTCTTTTTTCT...   \n...                                                 ...   \n2581  CACGCAAAACTTTATTCAATAACTTCGTCCGCCAATCATATTGTAC...   \n2582  CTATGAAAAGACAACAAGATTGCCTACTATTAACTGATTTTTCTCT...   \n2583  CGTTAGAATTCTAAACCTGGTTCAACTATTGGAACATCTTTAGTAT...   \n2584  CCGTCAATCATTAACTTAGTTTCTTACCAGAAATCATATTTTTATT...   \n2585  TTATTAATATAGAAAGCAATTTTAATAGAAAAACCATTTTCGTATT...   \n\n                   barcode_diverse         barcode_environment  total_counts  \\\n0       ATAAAAAAGCACAAGCCTTTTGACGA  CACCTAAATTAGTTATCCATTCGGCT       9616313   \n1       CGATAAACCCACAATATGATTATCGG  TACACAAGAGGGTTTCTGTTTTATGG       6648391   \n2       CGCACAAGAAAGAATAATCTTGAATT  GGTAAAACCAGATTTGGCATTCACTA       3368497   \n3       ACAAAAAGATATAACAAGCTTGAAGA  CCCGAAAAAGTTTTTTATCTTCAATG       2082320   \n4       AATAAAAGAAGGAAAAGCATTTAAAC  AAACAAACTTTCTTTTTTCTTTATGC       2013526   \n...                            ...                         ...           ...   \n2581  CACGCAAAACTTTATTCAATAACTTCGT  CCGCCAATCATATTGTACTTTCAAGG           267   \n2582    CTATGAAAAGACAACAAGATTGCCTA  CTATTAACTGATTTTTCTCTTTCGAA           243   \n2583   CGTTAGAATTCTAAACCTGGTTCAACT  ATTGGAACATCTTTAGTATTTAATAC           214   \n2584    CCGTCAATCATTAACTTAGTTTCTTA  CCAGAAATCATATTTTTATTTATTAA           139   \n2585    TTATTAATATAGAAAGCAATTTTAAT  AGAAAAACCATTTTCGTATTTTATAG            96   \n\n     subpool_environment                which_subpools putative_environment  \\\n0               not_read                      not_read                SC_2N   \n1               not_read                      not_read             SC_alpha   \n2          GlyEtOH_alpha  -R1-Subpool.-R1-autodiploids        GlyEtOH_alpha   \n3             FLC4_alpha                   -R1-Subpool           FLC4_alpha   \n4              YPD_alpha                   -R1-Subpool      contam-pH3_8_2N   \n...                  ...                           ...                  ...   \n2581            not_read                      not_read             SC_alpha   \n2582         pH7_3_alpha                   -R2-Subpool   sanger-pH7_3_alpha   \n2583           37C_alpha                   -R1-Subpool              unknown   \n2584           21C_alpha                   -R1-Subpool            21C_alpha   \n2585           YPD_alpha                   -R1-Subpool            YPD_alpha   \n\n      barcode_GCratio  \n0            0.365385  \n1            0.384615  \n2            0.346154  \n3            0.288462  \n4            0.230769  \n...               ...  \n2581         0.370370  \n2582         0.307692  \n2583         0.301887  \n2584         0.230769  \n2585         0.173077  \n\n[2586 rows x 8 columns]",
      "text/html": "<div>\n<style scoped>\n    .dataframe tbody tr th:only-of-type {\n        vertical-align: middle;\n    }\n\n    .dataframe tbody tr th {\n        vertical-align: top;\n    }\n\n    .dataframe thead th {\n        text-align: right;\n    }\n</style>\n<table border=\"1\" class=\"dataframe\">\n  <thead>\n    <tr style=\"text-align: right;\">\n      <th></th>\n      <th>barcode_full</th>\n      <th>barcode_diverse</th>\n      <th>barcode_environment</th>\n      <th>total_counts</th>\n      <th>subpool_environment</th>\n      <th>which_subpools</th>\n      <th>putative_environment</th>\n      <th>barcode_GCratio</th>\n    </tr>\n  </thead>\n  <tbody>\n    <tr>\n      <th>0</th>\n      <td>ATAAAAAAGCACAAGCCTTTTGACGACACCTAAATTAGTTATCCAT...</td>\n      <td>ATAAAAAAGCACAAGCCTTTTGACGA</td>\n      <td>CACCTAAATTAGTTATCCATTCGGCT</td>\n      <td>9616313</td>\n      <td>not_read</td>\n      <td>not_read</td>\n      <td>SC_2N</td>\n      <td>0.365385</td>\n    </tr>\n    <tr>\n      <th>1</th>\n      <td>CGATAAACCCACAATATGATTATCGGTACACAAGAGGGTTTCTGTT...</td>\n      <td>CGATAAACCCACAATATGATTATCGG</td>\n      <td>TACACAAGAGGGTTTCTGTTTTATGG</td>\n      <td>6648391</td>\n      <td>not_read</td>\n      <td>not_read</td>\n      <td>SC_alpha</td>\n      <td>0.384615</td>\n    </tr>\n    <tr>\n      <th>2</th>\n      <td>CGCACAAGAAAGAATAATCTTGAATTGGTAAAACCAGATTTGGCAT...</td>\n      <td>CGCACAAGAAAGAATAATCTTGAATT</td>\n      <td>GGTAAAACCAGATTTGGCATTCACTA</td>\n      <td>3368497</td>\n      <td>GlyEtOH_alpha</td>\n      <td>-R1-Subpool.-R1-autodiploids</td>\n      <td>GlyEtOH_alpha</td>\n      <td>0.346154</td>\n    </tr>\n    <tr>\n      <th>3</th>\n      <td>ACAAAAAGATATAACAAGCTTGAAGACCCGAAAAAGTTTTTTATCT...</td>\n      <td>ACAAAAAGATATAACAAGCTTGAAGA</td>\n      <td>CCCGAAAAAGTTTTTTATCTTCAATG</td>\n      <td>2082320</td>\n      <td>FLC4_alpha</td>\n      <td>-R1-Subpool</td>\n      <td>FLC4_alpha</td>\n      <td>0.288462</td>\n    </tr>\n    <tr>\n      <th>4</th>\n      <td>AATAAAAGAAGGAAAAGCATTTAAACAAACAAACTTTCTTTTTTCT...</td>\n      <td>AATAAAAGAAGGAAAAGCATTTAAAC</td>\n      <td>AAACAAACTTTCTTTTTTCTTTATGC</td>\n      <td>2013526</td>\n      <td>YPD_alpha</td>\n      <td>-R1-Subpool</td>\n      <td>contam-pH3_8_2N</td>\n      <td>0.230769</td>\n    </tr>\n    <tr>\n      <th>...</th>\n      <td>...</td>\n      <td>...</td>\n      <td>...</td>\n      <td>...</td>\n      <td>...</td>\n      <td>...</td>\n      <td>...</td>\n      <td>...</td>\n    </tr>\n    <tr>\n      <th>2581</th>\n      <td>CACGCAAAACTTTATTCAATAACTTCGTCCGCCAATCATATTGTAC...</td>\n      <td>CACGCAAAACTTTATTCAATAACTTCGT</td>\n      <td>CCGCCAATCATATTGTACTTTCAAGG</td>\n      <td>267</td>\n      <td>not_read</td>\n      <td>not_read</td>\n      <td>SC_alpha</td>\n      <td>0.370370</td>\n    </tr>\n    <tr>\n      <th>2582</th>\n      <td>CTATGAAAAGACAACAAGATTGCCTACTATTAACTGATTTTTCTCT...</td>\n      <td>CTATGAAAAGACAACAAGATTGCCTA</td>\n      <td>CTATTAACTGATTTTTCTCTTTCGAA</td>\n      <td>243</td>\n      <td>pH7_3_alpha</td>\n      <td>-R2-Subpool</td>\n      <td>sanger-pH7_3_alpha</td>\n      <td>0.307692</td>\n    </tr>\n    <tr>\n      <th>2583</th>\n      <td>CGTTAGAATTCTAAACCTGGTTCAACTATTGGAACATCTTTAGTAT...</td>\n      <td>CGTTAGAATTCTAAACCTGGTTCAACT</td>\n      <td>ATTGGAACATCTTTAGTATTTAATAC</td>\n      <td>214</td>\n      <td>37C_alpha</td>\n      <td>-R1-Subpool</td>\n      <td>unknown</td>\n      <td>0.301887</td>\n    </tr>\n    <tr>\n      <th>2584</th>\n      <td>CCGTCAATCATTAACTTAGTTTCTTACCAGAAATCATATTTTTATT...</td>\n      <td>CCGTCAATCATTAACTTAGTTTCTTA</td>\n      <td>CCAGAAATCATATTTTTATTTATTAA</td>\n      <td>139</td>\n      <td>21C_alpha</td>\n      <td>-R1-Subpool</td>\n      <td>21C_alpha</td>\n      <td>0.230769</td>\n    </tr>\n    <tr>\n      <th>2585</th>\n      <td>TTATTAATATAGAAAGCAATTTTAATAGAAAAACCATTTTCGTATT...</td>\n      <td>TTATTAATATAGAAAGCAATTTTAAT</td>\n      <td>AGAAAAACCATTTTCGTATTTTATAG</td>\n      <td>96</td>\n      <td>YPD_alpha</td>\n      <td>-R1-Subpool</td>\n      <td>YPD_alpha</td>\n      <td>0.173077</td>\n    </tr>\n  </tbody>\n</table>\n<p>2586 rows × 8 columns</p>\n</div>"
     },
     "execution_count": 20,
     "metadata": {},
     "output_type": "execute_result"
    }
   ],
   "source": [
    "variants_GCratios = []\n",
    "for idx, variant_info in variantsInfo_hBFA1.iterrows():\n",
    "    variant_barcodeSeq = variant_info['barcode_full']\n",
    "    variant_barcodeGCratio = (variant_barcodeSeq.count('G') + variant_barcodeSeq.count('C'))/len(variant_barcodeSeq)\n",
    "    variants_GCratios.append(variant_barcodeGCratio)\n",
    "#----------------\n",
    "variantsInfo_hBFA1['barcode_GCratio']  = variants_GCratios\n",
    "variantsInfo_hBFA1"
   ],
   "metadata": {
    "collapsed": false,
    "ExecuteTime": {
     "end_time": "2024-01-19T16:29:03.708862Z",
     "start_time": "2024-01-19T16:29:03.472420Z"
    }
   },
   "id": "2333ce538b0e21a0"
  },
  {
   "cell_type": "markdown",
   "source": [
    "------"
   ],
   "metadata": {
    "collapsed": false
   },
   "id": "b2600b479647f06a"
  },
  {
   "cell_type": "markdown",
   "source": [
    "#### Label control set variants (\"putatively neutral barcodes\")"
   ],
   "metadata": {
    "collapsed": false
   },
   "id": "7b74dea56f547753"
  },
  {
   "cell_type": "code",
   "execution_count": 21,
   "outputs": [],
   "source": [
    "variantsInfo_hBFA1['neutral_group'] = ''\n",
    "variantsInfo_hBFA1.loc[variantsInfo_hBFA1['putative_environment'] == 'YPD_alpha', 'neutral_group'] = 'YPD_alpha'\n",
    "\n",
    "variantsInfo_hBFA1['control_set'] = False\n",
    "variantsInfo_hBFA1.loc[variantsInfo_hBFA1['putative_environment'] == 'YPD_alpha', 'control_set'] = True"
   ],
   "metadata": {
    "collapsed": false,
    "ExecuteTime": {
     "end_time": "2024-01-19T16:29:03.710886Z",
     "start_time": "2024-01-19T16:29:03.662549Z"
    }
   },
   "id": "9f0b2d6d00ecb090"
  },
  {
   "cell_type": "code",
   "execution_count": 22,
   "outputs": [
    {
     "name": "stdout",
     "output_type": "stream",
     "text": [
      "302/2586\n"
     ]
    }
   ],
   "source": [
    "print(f\"{np.sum(variantsInfo_hBFA1['control_set'].values)}/{len(variantsInfo_hBFA1)}\")"
   ],
   "metadata": {
    "collapsed": false,
    "ExecuteTime": {
     "end_time": "2024-01-19T16:29:03.712247Z",
     "start_time": "2024-01-19T16:29:03.669198Z"
    }
   },
   "id": "a66c2edf321b9af7"
  },
  {
   "cell_type": "markdown",
   "source": [
    "#### Save processed data to file"
   ],
   "metadata": {
    "collapsed": false
   },
   "id": "417d374694e292f"
  },
  {
   "cell_type": "code",
   "execution_count": 23,
   "outputs": [
    {
     "data": {
      "text/plain": "        chen_sample_label             sample           assay assay_set  \\\n0      hBFA1-21C-R1-Time8     hBFA1:21C-R1-8    hBFA1:21C-R1     hBFA1   \n1     hBFA1-21C-R1-Time16    hBFA1:21C-R1-16    hBFA1:21C-R1     hBFA1   \n2     hBFA1-21C-R1-Time24    hBFA1:21C-R1-24    hBFA1:21C-R1     hBFA1   \n3     hBFA1-21C-R1-Time40    hBFA1:21C-R1-40    hBFA1:21C-R1     hBFA1   \n4      hBFA1-21C-R2-Time8     hBFA1:21C-R2-8    hBFA1:21C-R2     hBFA1   \n..                    ...                ...             ...       ...   \n63  hBFA1-pH7_3-R1-Time40  hBFA1:pH7.3-R1-40  hBFA1:pH7.3-R1     hBFA1   \n64   hBFA1-pH7_3-R2-Time8   hBFA1:pH7.3-R2-8  hBFA1:pH7.3-R2     hBFA1   \n65  hBFA1-pH7_3-R2-Time16  hBFA1:pH7.3-R2-16  hBFA1:pH7.3-R2     hBFA1   \n66  hBFA1-pH7_3-R2-Time24  hBFA1:pH7.3-R2-24  hBFA1:pH7.3-R2     hBFA1   \n67  hBFA1-pH7_3-R2-Time40  hBFA1:pH7.3-R2-40  hBFA1:pH7.3-R2     hBFA1   \n\n   treatment rep  timept  total_raw_count  \n0        21C  R1       8          1917150  \n1        21C  R1      16          2168035  \n2        21C  R1      24          2068099  \n3        21C  R1      40          2118452  \n4        21C  R2       8          2111700  \n..       ...  ..     ...              ...  \n63     pH7.3  R1      40          2719186  \n64     pH7.3  R2       8          2757245  \n65     pH7.3  R2      16          2680456  \n66     pH7.3  R2      24          2585981  \n67     pH7.3  R2      40          2769573  \n\n[68 rows x 8 columns]",
      "text/html": "<div>\n<style scoped>\n    .dataframe tbody tr th:only-of-type {\n        vertical-align: middle;\n    }\n\n    .dataframe tbody tr th {\n        vertical-align: top;\n    }\n\n    .dataframe thead th {\n        text-align: right;\n    }\n</style>\n<table border=\"1\" class=\"dataframe\">\n  <thead>\n    <tr style=\"text-align: right;\">\n      <th></th>\n      <th>chen_sample_label</th>\n      <th>sample</th>\n      <th>assay</th>\n      <th>assay_set</th>\n      <th>treatment</th>\n      <th>rep</th>\n      <th>timept</th>\n      <th>total_raw_count</th>\n    </tr>\n  </thead>\n  <tbody>\n    <tr>\n      <th>0</th>\n      <td>hBFA1-21C-R1-Time8</td>\n      <td>hBFA1:21C-R1-8</td>\n      <td>hBFA1:21C-R1</td>\n      <td>hBFA1</td>\n      <td>21C</td>\n      <td>R1</td>\n      <td>8</td>\n      <td>1917150</td>\n    </tr>\n    <tr>\n      <th>1</th>\n      <td>hBFA1-21C-R1-Time16</td>\n      <td>hBFA1:21C-R1-16</td>\n      <td>hBFA1:21C-R1</td>\n      <td>hBFA1</td>\n      <td>21C</td>\n      <td>R1</td>\n      <td>16</td>\n      <td>2168035</td>\n    </tr>\n    <tr>\n      <th>2</th>\n      <td>hBFA1-21C-R1-Time24</td>\n      <td>hBFA1:21C-R1-24</td>\n      <td>hBFA1:21C-R1</td>\n      <td>hBFA1</td>\n      <td>21C</td>\n      <td>R1</td>\n      <td>24</td>\n      <td>2068099</td>\n    </tr>\n    <tr>\n      <th>3</th>\n      <td>hBFA1-21C-R1-Time40</td>\n      <td>hBFA1:21C-R1-40</td>\n      <td>hBFA1:21C-R1</td>\n      <td>hBFA1</td>\n      <td>21C</td>\n      <td>R1</td>\n      <td>40</td>\n      <td>2118452</td>\n    </tr>\n    <tr>\n      <th>4</th>\n      <td>hBFA1-21C-R2-Time8</td>\n      <td>hBFA1:21C-R2-8</td>\n      <td>hBFA1:21C-R2</td>\n      <td>hBFA1</td>\n      <td>21C</td>\n      <td>R2</td>\n      <td>8</td>\n      <td>2111700</td>\n    </tr>\n    <tr>\n      <th>...</th>\n      <td>...</td>\n      <td>...</td>\n      <td>...</td>\n      <td>...</td>\n      <td>...</td>\n      <td>...</td>\n      <td>...</td>\n      <td>...</td>\n    </tr>\n    <tr>\n      <th>63</th>\n      <td>hBFA1-pH7_3-R1-Time40</td>\n      <td>hBFA1:pH7.3-R1-40</td>\n      <td>hBFA1:pH7.3-R1</td>\n      <td>hBFA1</td>\n      <td>pH7.3</td>\n      <td>R1</td>\n      <td>40</td>\n      <td>2719186</td>\n    </tr>\n    <tr>\n      <th>64</th>\n      <td>hBFA1-pH7_3-R2-Time8</td>\n      <td>hBFA1:pH7.3-R2-8</td>\n      <td>hBFA1:pH7.3-R2</td>\n      <td>hBFA1</td>\n      <td>pH7.3</td>\n      <td>R2</td>\n      <td>8</td>\n      <td>2757245</td>\n    </tr>\n    <tr>\n      <th>65</th>\n      <td>hBFA1-pH7_3-R2-Time16</td>\n      <td>hBFA1:pH7.3-R2-16</td>\n      <td>hBFA1:pH7.3-R2</td>\n      <td>hBFA1</td>\n      <td>pH7.3</td>\n      <td>R2</td>\n      <td>16</td>\n      <td>2680456</td>\n    </tr>\n    <tr>\n      <th>66</th>\n      <td>hBFA1-pH7_3-R2-Time24</td>\n      <td>hBFA1:pH7.3-R2-24</td>\n      <td>hBFA1:pH7.3-R2</td>\n      <td>hBFA1</td>\n      <td>pH7.3</td>\n      <td>R2</td>\n      <td>24</td>\n      <td>2585981</td>\n    </tr>\n    <tr>\n      <th>67</th>\n      <td>hBFA1-pH7_3-R2-Time40</td>\n      <td>hBFA1:pH7.3-R2-40</td>\n      <td>hBFA1:pH7.3-R2</td>\n      <td>hBFA1</td>\n      <td>pH7.3</td>\n      <td>R2</td>\n      <td>40</td>\n      <td>2769573</td>\n    </tr>\n  </tbody>\n</table>\n<p>68 rows × 8 columns</p>\n</div>"
     },
     "execution_count": 23,
     "metadata": {},
     "output_type": "execute_result"
    }
   ],
   "source": [
    "samplesInfo_hBFA1.to_csv(outdir+'samples-hBFA1.csv', index=False)\n",
    "samplesInfo_hBFA1"
   ],
   "metadata": {
    "collapsed": false,
    "ExecuteTime": {
     "end_time": "2024-01-19T16:29:03.753130Z",
     "start_time": "2024-01-19T16:29:03.681133Z"
    }
   },
   "id": "a37c33962fe3422f"
  },
  {
   "cell_type": "code",
   "execution_count": 24,
   "outputs": [
    {
     "data": {
      "text/plain": "                                           barcode_full  \\\n0     ATAAAAAAGCACAAGCCTTTTGACGACACCTAAATTAGTTATCCAT...   \n1     CGATAAACCCACAATATGATTATCGGTACACAAGAGGGTTTCTGTT...   \n2     CGCACAAGAAAGAATAATCTTGAATTGGTAAAACCAGATTTGGCAT...   \n3     ACAAAAAGATATAACAAGCTTGAAGACCCGAAAAAGTTTTTTATCT...   \n4     AATAAAAGAAGGAAAAGCATTTAAACAAACAAACTTTCTTTTTTCT...   \n...                                                 ...   \n2581  CACGCAAAACTTTATTCAATAACTTCGTCCGCCAATCATATTGTAC...   \n2582  CTATGAAAAGACAACAAGATTGCCTACTATTAACTGATTTTTCTCT...   \n2583  CGTTAGAATTCTAAACCTGGTTCAACTATTGGAACATCTTTAGTAT...   \n2584  CCGTCAATCATTAACTTAGTTTCTTACCAGAAATCATATTTTTATT...   \n2585  TTATTAATATAGAAAGCAATTTTAATAGAAAAACCATTTTCGTATT...   \n\n                   barcode_diverse         barcode_environment  total_counts  \\\n0       ATAAAAAAGCACAAGCCTTTTGACGA  CACCTAAATTAGTTATCCATTCGGCT       9616313   \n1       CGATAAACCCACAATATGATTATCGG  TACACAAGAGGGTTTCTGTTTTATGG       6648391   \n2       CGCACAAGAAAGAATAATCTTGAATT  GGTAAAACCAGATTTGGCATTCACTA       3368497   \n3       ACAAAAAGATATAACAAGCTTGAAGA  CCCGAAAAAGTTTTTTATCTTCAATG       2082320   \n4       AATAAAAGAAGGAAAAGCATTTAAAC  AAACAAACTTTCTTTTTTCTTTATGC       2013526   \n...                            ...                         ...           ...   \n2581  CACGCAAAACTTTATTCAATAACTTCGT  CCGCCAATCATATTGTACTTTCAAGG           267   \n2582    CTATGAAAAGACAACAAGATTGCCTA  CTATTAACTGATTTTTCTCTTTCGAA           243   \n2583   CGTTAGAATTCTAAACCTGGTTCAACT  ATTGGAACATCTTTAGTATTTAATAC           214   \n2584    CCGTCAATCATTAACTTAGTTTCTTA  CCAGAAATCATATTTTTATTTATTAA           139   \n2585    TTATTAATATAGAAAGCAATTTTAAT  AGAAAAACCATTTTCGTATTTTATAG            96   \n\n     subpool_environment                which_subpools putative_environment  \\\n0               not_read                      not_read                SC_2N   \n1               not_read                      not_read             SC_alpha   \n2          GlyEtOH_alpha  -R1-Subpool.-R1-autodiploids        GlyEtOH_alpha   \n3             FLC4_alpha                   -R1-Subpool           FLC4_alpha   \n4              YPD_alpha                   -R1-Subpool      contam-pH3_8_2N   \n...                  ...                           ...                  ...   \n2581            not_read                      not_read             SC_alpha   \n2582         pH7_3_alpha                   -R2-Subpool   sanger-pH7_3_alpha   \n2583           37C_alpha                   -R1-Subpool              unknown   \n2584           21C_alpha                   -R1-Subpool            21C_alpha   \n2585           YPD_alpha                   -R1-Subpool            YPD_alpha   \n\n      barcode_GCratio neutral_group  control_set  \n0            0.365385                      False  \n1            0.384615                      False  \n2            0.346154                      False  \n3            0.288462                      False  \n4            0.230769                      False  \n...               ...           ...          ...  \n2581         0.370370                      False  \n2582         0.307692                      False  \n2583         0.301887                      False  \n2584         0.230769                      False  \n2585         0.173077     YPD_alpha         True  \n\n[2586 rows x 10 columns]",
      "text/html": "<div>\n<style scoped>\n    .dataframe tbody tr th:only-of-type {\n        vertical-align: middle;\n    }\n\n    .dataframe tbody tr th {\n        vertical-align: top;\n    }\n\n    .dataframe thead th {\n        text-align: right;\n    }\n</style>\n<table border=\"1\" class=\"dataframe\">\n  <thead>\n    <tr style=\"text-align: right;\">\n      <th></th>\n      <th>barcode_full</th>\n      <th>barcode_diverse</th>\n      <th>barcode_environment</th>\n      <th>total_counts</th>\n      <th>subpool_environment</th>\n      <th>which_subpools</th>\n      <th>putative_environment</th>\n      <th>barcode_GCratio</th>\n      <th>neutral_group</th>\n      <th>control_set</th>\n    </tr>\n  </thead>\n  <tbody>\n    <tr>\n      <th>0</th>\n      <td>ATAAAAAAGCACAAGCCTTTTGACGACACCTAAATTAGTTATCCAT...</td>\n      <td>ATAAAAAAGCACAAGCCTTTTGACGA</td>\n      <td>CACCTAAATTAGTTATCCATTCGGCT</td>\n      <td>9616313</td>\n      <td>not_read</td>\n      <td>not_read</td>\n      <td>SC_2N</td>\n      <td>0.365385</td>\n      <td></td>\n      <td>False</td>\n    </tr>\n    <tr>\n      <th>1</th>\n      <td>CGATAAACCCACAATATGATTATCGGTACACAAGAGGGTTTCTGTT...</td>\n      <td>CGATAAACCCACAATATGATTATCGG</td>\n      <td>TACACAAGAGGGTTTCTGTTTTATGG</td>\n      <td>6648391</td>\n      <td>not_read</td>\n      <td>not_read</td>\n      <td>SC_alpha</td>\n      <td>0.384615</td>\n      <td></td>\n      <td>False</td>\n    </tr>\n    <tr>\n      <th>2</th>\n      <td>CGCACAAGAAAGAATAATCTTGAATTGGTAAAACCAGATTTGGCAT...</td>\n      <td>CGCACAAGAAAGAATAATCTTGAATT</td>\n      <td>GGTAAAACCAGATTTGGCATTCACTA</td>\n      <td>3368497</td>\n      <td>GlyEtOH_alpha</td>\n      <td>-R1-Subpool.-R1-autodiploids</td>\n      <td>GlyEtOH_alpha</td>\n      <td>0.346154</td>\n      <td></td>\n      <td>False</td>\n    </tr>\n    <tr>\n      <th>3</th>\n      <td>ACAAAAAGATATAACAAGCTTGAAGACCCGAAAAAGTTTTTTATCT...</td>\n      <td>ACAAAAAGATATAACAAGCTTGAAGA</td>\n      <td>CCCGAAAAAGTTTTTTATCTTCAATG</td>\n      <td>2082320</td>\n      <td>FLC4_alpha</td>\n      <td>-R1-Subpool</td>\n      <td>FLC4_alpha</td>\n      <td>0.288462</td>\n      <td></td>\n      <td>False</td>\n    </tr>\n    <tr>\n      <th>4</th>\n      <td>AATAAAAGAAGGAAAAGCATTTAAACAAACAAACTTTCTTTTTTCT...</td>\n      <td>AATAAAAGAAGGAAAAGCATTTAAAC</td>\n      <td>AAACAAACTTTCTTTTTTCTTTATGC</td>\n      <td>2013526</td>\n      <td>YPD_alpha</td>\n      <td>-R1-Subpool</td>\n      <td>contam-pH3_8_2N</td>\n      <td>0.230769</td>\n      <td></td>\n      <td>False</td>\n    </tr>\n    <tr>\n      <th>...</th>\n      <td>...</td>\n      <td>...</td>\n      <td>...</td>\n      <td>...</td>\n      <td>...</td>\n      <td>...</td>\n      <td>...</td>\n      <td>...</td>\n      <td>...</td>\n      <td>...</td>\n    </tr>\n    <tr>\n      <th>2581</th>\n      <td>CACGCAAAACTTTATTCAATAACTTCGTCCGCCAATCATATTGTAC...</td>\n      <td>CACGCAAAACTTTATTCAATAACTTCGT</td>\n      <td>CCGCCAATCATATTGTACTTTCAAGG</td>\n      <td>267</td>\n      <td>not_read</td>\n      <td>not_read</td>\n      <td>SC_alpha</td>\n      <td>0.370370</td>\n      <td></td>\n      <td>False</td>\n    </tr>\n    <tr>\n      <th>2582</th>\n      <td>CTATGAAAAGACAACAAGATTGCCTACTATTAACTGATTTTTCTCT...</td>\n      <td>CTATGAAAAGACAACAAGATTGCCTA</td>\n      <td>CTATTAACTGATTTTTCTCTTTCGAA</td>\n      <td>243</td>\n      <td>pH7_3_alpha</td>\n      <td>-R2-Subpool</td>\n      <td>sanger-pH7_3_alpha</td>\n      <td>0.307692</td>\n      <td></td>\n      <td>False</td>\n    </tr>\n    <tr>\n      <th>2583</th>\n      <td>CGTTAGAATTCTAAACCTGGTTCAACTATTGGAACATCTTTAGTAT...</td>\n      <td>CGTTAGAATTCTAAACCTGGTTCAACT</td>\n      <td>ATTGGAACATCTTTAGTATTTAATAC</td>\n      <td>214</td>\n      <td>37C_alpha</td>\n      <td>-R1-Subpool</td>\n      <td>unknown</td>\n      <td>0.301887</td>\n      <td></td>\n      <td>False</td>\n    </tr>\n    <tr>\n      <th>2584</th>\n      <td>CCGTCAATCATTAACTTAGTTTCTTACCAGAAATCATATTTTTATT...</td>\n      <td>CCGTCAATCATTAACTTAGTTTCTTA</td>\n      <td>CCAGAAATCATATTTTTATTTATTAA</td>\n      <td>139</td>\n      <td>21C_alpha</td>\n      <td>-R1-Subpool</td>\n      <td>21C_alpha</td>\n      <td>0.230769</td>\n      <td></td>\n      <td>False</td>\n    </tr>\n    <tr>\n      <th>2585</th>\n      <td>TTATTAATATAGAAAGCAATTTTAATAGAAAAACCATTTTCGTATT...</td>\n      <td>TTATTAATATAGAAAGCAATTTTAAT</td>\n      <td>AGAAAAACCATTTTCGTATTTTATAG</td>\n      <td>96</td>\n      <td>YPD_alpha</td>\n      <td>-R1-Subpool</td>\n      <td>YPD_alpha</td>\n      <td>0.173077</td>\n      <td>YPD_alpha</td>\n      <td>True</td>\n    </tr>\n  </tbody>\n</table>\n<p>2586 rows × 10 columns</p>\n</div>"
     },
     "execution_count": 24,
     "metadata": {},
     "output_type": "execute_result"
    }
   ],
   "source": [
    "variantsInfo_hBFA1.to_csv(outdir+'variants-hBFA1_withNeutralGroups.csv', index=False)\n",
    "variantsInfo_hBFA1"
   ],
   "metadata": {
    "collapsed": false,
    "ExecuteTime": {
     "end_time": "2024-01-19T16:29:03.811785Z",
     "start_time": "2024-01-19T16:29:03.704895Z"
    }
   },
   "id": "977d1d9dee835d3f"
  },
  {
   "cell_type": "code",
   "execution_count": 25,
   "outputs": [
    {
     "data": {
      "text/plain": "      hBFA1:21C-R1-8  hBFA1:21C-R1-16  hBFA1:21C-R1-24  hBFA1:21C-R1-40  \\\n0              18075            34976            73925           379540   \n1             109316           117037           102934            81035   \n2               6539             4508             4751             3545   \n3              31099            42058            42356            38478   \n4               4250             7508            13340            61474   \n...              ...              ...              ...              ...   \n2581               1                2                4                2   \n2582               3                3                5                1   \n2583               3                5                4                2   \n2584               5                4                4                2   \n2585               4                4                3                2   \n\n      hBFA1:21C-R2-8  hBFA1:21C-R2-16  hBFA1:21C-R2-24  hBFA1:21C-R2-40  \\\n0              19395            33224            67414           473720   \n1             122720           113384            95658            83279   \n2               7334             4549             4273             3511   \n3              39228            41195            42935            51296   \n4               4878             7708            13778            94633   \n...              ...              ...              ...              ...   \n2581               5                6                7                9   \n2582               7                5                5                5   \n2583               3                7                6                3   \n2584               8                6                2               13   \n2585               2                3                2                6   \n\n      hBFA1:37C-R1-8  hBFA1:37C-R1-16  hBFA1:37C-R1-24  hBFA1:37C-R1-40  \\\n0              36413            72215           120048           323260   \n1             140343           131053           103226            65894   \n2               7771             6269             9488            11685   \n3              32634            23369            18619             7488   \n4               6576            14705            29220            76955   \n...              ...              ...              ...              ...   \n2581               7                2                3                2   \n2582               4                0                4                3   \n2583               1                0                3                3   \n2584               0                0                4                0   \n2585               0                0                5                1   \n\n      hBFA1:37C-R2-8  hBFA1:37C-R2-16  hBFA1:37C-R2-24  hBFA1:37C-R2-40  \\\n0              35264            76376           128764           395642   \n1             161542           152263           127606            76375   \n2              12360             7577             5588            13405   \n3              40855            28633            17674             7408   \n4               7438            15378            20278            80289   \n...              ...              ...              ...              ...   \n2581               4                7                3                6   \n2582               2                3                5                4   \n2583               6                4                3                1   \n2584               1                0                0                0   \n2585               1                3                0                1   \n\n      hBFA1:48Hr-R1-8  hBFA1:48Hr-R1-16  hBFA1:48Hr-R1-24  hBFA1:48Hr-R1-40  \\\n0               58079            106586            153886            503009   \n1               81672             92562             84147             92839   \n2                5796              4743             18323             22243   \n3               34917             56809             34105             67315   \n4               10741             25236             30171            100566   \n...               ...               ...               ...               ...   \n2581                5                 7                 3                 7   \n2582                3                 1                 5                 3   \n2583                2                 7                 3                 6   \n2584                0                 0                 0                 0   \n2585                0                 5                 3                 5   \n\n      hBFA1:48Hr-R2-8  hBFA1:48Hr-R2-16  hBFA1:48Hr-R2-24  hBFA1:48Hr-R2-40  \\\n0               90272            138272            185857            392937   \n1              136639            119851             95640             78356   \n2               12088              1461             18113             13966   \n3               50951             64354             41741             33191   \n4               18520             25521             36808             66914   \n...               ...               ...               ...               ...   \n2581                4                 5                 3                 5   \n2582                8                11                 4                 4   \n2583                7                 4                 5                 4   \n2584                0                 0                 1                 0   \n2585                3                 0                 4                 1   \n\n      hBFA1:FLC4-R2-8  hBFA1:FLC4-R2-16  hBFA1:FLC4-R2-24  hBFA1:FLC4-R2-40  \\\n0                8826               690              2310              1302   \n1               29924              5794              8136              2655   \n2                3328               204              1385              1180   \n3               40379             15074             39713             72953   \n4                1721                74               431               258   \n...               ...               ...               ...               ...   \n2581                0                 0                 0                 0   \n2582                0                 1                 0                 0   \n2583                0                 0                 1                 1   \n2584                0                 0                 0                 0   \n2585                2                 0                 2                 0   \n\n      hBFA1:GlyEtOH-R1-8  hBFA1:GlyEtOH-R1-16  hBFA1:GlyEtOH-R1-24  \\\n0                  64526               101861                89724   \n1                  56206                30550                14705   \n2                  45206               135292               147221   \n3                  19617                 9119                  979   \n4                  17158                25083                11029   \n...                  ...                  ...                  ...   \n2581                   1                    1                    2   \n2582                   3                    3                    0   \n2583                   5                    2                    0   \n2584                  10                    7                    0   \n2585                   1                    1                    0   \n\n      hBFA1:GlyEtOH-R1-40  hBFA1:GlyEtOH-R2-8  hBFA1:GlyEtOH-R2-16  \\\n0                  214115               78087               225592   \n1                    4073               61333                67183   \n2                  699111               45299               251626   \n3                    1747               20106                25193   \n4                   58151               18737                58559   \n...                   ...                 ...                  ...   \n2581                    1                   3                    2   \n2582                    1                   4                    1   \n2583                    0                   2                    1   \n2584                    0                   0                    2   \n2585                    0                   1                    0   \n\n      hBFA1:GlyEtOH-R2-24  hBFA1:GlyEtOH-R2-40  hBFA1:SC-R1-8  hBFA1:SC-R1-16  \\\n0                  286933               220946          17610           35231   \n1                   32110                 4239         106152           94024   \n2                  357161               639549           8667           11719   \n3                   11424                 1820          23195           22156   \n4                   68481                59882           3482            6305   \n...                   ...                  ...            ...             ...   \n2581                    0                    0              3               7   \n2582                    2                    0              6               1   \n2583                    0                    0              2               3   \n2584                    0                    0              0               0   \n2585                    0                    0              1               0   \n\n      hBFA1:SC-R1-24  hBFA1:SC-R1-40  hBFA1:SC-R2-8  hBFA1:SC-R2-16  \\\n0              67572          200094          23871           33046   \n1              87216           58286         140094          108014   \n2              17075           37643           5744           10672   \n3              21883           18536          28218           26482   \n4              11151           32390           4746            6657   \n...              ...             ...            ...             ...   \n2581               6               6              5               4   \n2582               4               1              2               8   \n2583               6               2              1               3   \n2584               0               0              1               0   \n2585               1               0              0               1   \n\n      hBFA1:SC-R2-24  hBFA1:SC-R2-40  hBFA1:YPD-R1-8  hBFA1:YPD-R1-16  \\\n0              57404          199577           27936            81462   \n1              93791           66511           79590            92123   \n2              18433           39563            9170            20739   \n3              27479           23968           18192            26502   \n4              11499           37696            6188            17762   \n...              ...             ...             ...              ...   \n2581               5               7               1                4   \n2582               6               3               4                5   \n2583               7               3               3                5   \n2584               0               0              12                7   \n2585               2               1               2                1   \n\n      hBFA1:YPD-R1-24  hBFA1:YPD-R1-40  hBFA1:YPD-R2-8  hBFA1:YPD-R2-16  \\\n0              285233           414060           35589            93249   \n1              131488            41442          104783            94953   \n2               61359            63627           10914            23059   \n3               43783            15863           23146            28682   \n4               58020            85510            7344            19560   \n...               ...              ...             ...              ...   \n2581                8                7               6                4   \n2582                6                3               5                3   \n2583                6                4               4                5   \n2584                6                2              10                7   \n2585                3                2               2                1   \n\n      hBFA1:YPD-R2-24  hBFA1:YPD-R2-40  hBFA1:pH3.8-R1-8  hBFA1:pH3.8-R1-16  \\\n0              152324           443061             39397              85853   \n1               74508            47270            146785             130842   \n2               31036            64681             11494              15972   \n3               23235            21635             24144              31572   \n4               30739            94122              6019              15079   \n...               ...              ...               ...                ...   \n2581                2                4                 4                  5   \n2582                3                4                 5                  2   \n2583                3                2                 0                  1   \n2584                5                1                 0                  0   \n2585                2                2                 0                  0   \n\n      hBFA1:pH3.8-R1-24  hBFA1:pH3.8-R1-40  hBFA1:pH3.8-R2-8  \\\n0                153919             323697             23365   \n1                119500              67517             95990   \n2                 30293              58740             14528   \n3                 35862              35065             28131   \n4                 29731              78756              5652   \n...                 ...                ...               ...   \n2581                  5                  2                 2   \n2582                  3                  0                 0   \n2583                  6                  6                 1   \n2584                  0                  0                18   \n2585                  0                  1                 3   \n\n      hBFA1:pH3.8-R2-16  hBFA1:pH3.8-R2-24  hBFA1:pH3.8-R2-40  \\\n0                 93624             172839             440061   \n1                145530             134678              89493   \n2                 17241              33489              79132   \n3                 34743              44411              42641   \n4                 16425              36098             105253   \n...                 ...                ...                ...   \n2581                  6                  3                  3   \n2582                  5                  4                  2   \n2583                  3                  6                  3   \n2584                  0                  0                  0   \n2585                  0                  0                  1   \n\n      hBFA1:pH7.3-R1-8  hBFA1:pH7.3-R1-16  hBFA1:pH7.3-R1-24  \\\n0                41107              58049             118324   \n1               204961             166806             184853   \n2                13665              13724              15892   \n3                35504              28900              33550   \n4                 8471              11161              22970   \n...                ...                ...                ...   \n2581                 6                  3                  3   \n2582                 4                  7                 10   \n2583                 3                  4                  4   \n2584                 0                  0                  0   \n2585                 1                  0                  0   \n\n      hBFA1:pH7.3-R1-40  hBFA1:pH7.3-R2-8  hBFA1:pH7.3-R2-16  \\\n0                236402             42332              71938   \n1                154540            198665             187896   \n2                 19474             13758              17580   \n3                 29448             39531              37391   \n4                 52473              8942              15606   \n...                 ...               ...                ...   \n2581                  3                 3                  7   \n2582                  3                 7                  4   \n2583                  1                 3                  4   \n2584                  0                 1                  0   \n2585                  1                 0                  0   \n\n      hBFA1:pH7.3-R2-24  hBFA1:pH7.3-R2-40  \n0                 96247             239779  \n1                164838             152973  \n2                 19743              23223  \n3                 32982              28658  \n4                 21789              53481  \n...                 ...                ...  \n2581                  8                  6  \n2582                  6                  4  \n2583                  5                  1  \n2584                  0                  0  \n2585                  3                  0  \n\n[2586 rows x 68 columns]",
      "text/html": "<div>\n<style scoped>\n    .dataframe tbody tr th:only-of-type {\n        vertical-align: middle;\n    }\n\n    .dataframe tbody tr th {\n        vertical-align: top;\n    }\n\n    .dataframe thead th {\n        text-align: right;\n    }\n</style>\n<table border=\"1\" class=\"dataframe\">\n  <thead>\n    <tr style=\"text-align: right;\">\n      <th></th>\n      <th>hBFA1:21C-R1-8</th>\n      <th>hBFA1:21C-R1-16</th>\n      <th>hBFA1:21C-R1-24</th>\n      <th>hBFA1:21C-R1-40</th>\n      <th>hBFA1:21C-R2-8</th>\n      <th>hBFA1:21C-R2-16</th>\n      <th>hBFA1:21C-R2-24</th>\n      <th>hBFA1:21C-R2-40</th>\n      <th>hBFA1:37C-R1-8</th>\n      <th>hBFA1:37C-R1-16</th>\n      <th>hBFA1:37C-R1-24</th>\n      <th>hBFA1:37C-R1-40</th>\n      <th>hBFA1:37C-R2-8</th>\n      <th>hBFA1:37C-R2-16</th>\n      <th>hBFA1:37C-R2-24</th>\n      <th>hBFA1:37C-R2-40</th>\n      <th>hBFA1:48Hr-R1-8</th>\n      <th>hBFA1:48Hr-R1-16</th>\n      <th>hBFA1:48Hr-R1-24</th>\n      <th>hBFA1:48Hr-R1-40</th>\n      <th>hBFA1:48Hr-R2-8</th>\n      <th>hBFA1:48Hr-R2-16</th>\n      <th>hBFA1:48Hr-R2-24</th>\n      <th>hBFA1:48Hr-R2-40</th>\n      <th>hBFA1:FLC4-R2-8</th>\n      <th>hBFA1:FLC4-R2-16</th>\n      <th>hBFA1:FLC4-R2-24</th>\n      <th>hBFA1:FLC4-R2-40</th>\n      <th>hBFA1:GlyEtOH-R1-8</th>\n      <th>hBFA1:GlyEtOH-R1-16</th>\n      <th>hBFA1:GlyEtOH-R1-24</th>\n      <th>hBFA1:GlyEtOH-R1-40</th>\n      <th>hBFA1:GlyEtOH-R2-8</th>\n      <th>hBFA1:GlyEtOH-R2-16</th>\n      <th>hBFA1:GlyEtOH-R2-24</th>\n      <th>hBFA1:GlyEtOH-R2-40</th>\n      <th>hBFA1:SC-R1-8</th>\n      <th>hBFA1:SC-R1-16</th>\n      <th>hBFA1:SC-R1-24</th>\n      <th>hBFA1:SC-R1-40</th>\n      <th>hBFA1:SC-R2-8</th>\n      <th>hBFA1:SC-R2-16</th>\n      <th>hBFA1:SC-R2-24</th>\n      <th>hBFA1:SC-R2-40</th>\n      <th>hBFA1:YPD-R1-8</th>\n      <th>hBFA1:YPD-R1-16</th>\n      <th>hBFA1:YPD-R1-24</th>\n      <th>hBFA1:YPD-R1-40</th>\n      <th>hBFA1:YPD-R2-8</th>\n      <th>hBFA1:YPD-R2-16</th>\n      <th>hBFA1:YPD-R2-24</th>\n      <th>hBFA1:YPD-R2-40</th>\n      <th>hBFA1:pH3.8-R1-8</th>\n      <th>hBFA1:pH3.8-R1-16</th>\n      <th>hBFA1:pH3.8-R1-24</th>\n      <th>hBFA1:pH3.8-R1-40</th>\n      <th>hBFA1:pH3.8-R2-8</th>\n      <th>hBFA1:pH3.8-R2-16</th>\n      <th>hBFA1:pH3.8-R2-24</th>\n      <th>hBFA1:pH3.8-R2-40</th>\n      <th>hBFA1:pH7.3-R1-8</th>\n      <th>hBFA1:pH7.3-R1-16</th>\n      <th>hBFA1:pH7.3-R1-24</th>\n      <th>hBFA1:pH7.3-R1-40</th>\n      <th>hBFA1:pH7.3-R2-8</th>\n      <th>hBFA1:pH7.3-R2-16</th>\n      <th>hBFA1:pH7.3-R2-24</th>\n      <th>hBFA1:pH7.3-R2-40</th>\n    </tr>\n  </thead>\n  <tbody>\n    <tr>\n      <th>0</th>\n      <td>18075</td>\n      <td>34976</td>\n      <td>73925</td>\n      <td>379540</td>\n      <td>19395</td>\n      <td>33224</td>\n      <td>67414</td>\n      <td>473720</td>\n      <td>36413</td>\n      <td>72215</td>\n      <td>120048</td>\n      <td>323260</td>\n      <td>35264</td>\n      <td>76376</td>\n      <td>128764</td>\n      <td>395642</td>\n      <td>58079</td>\n      <td>106586</td>\n      <td>153886</td>\n      <td>503009</td>\n      <td>90272</td>\n      <td>138272</td>\n      <td>185857</td>\n      <td>392937</td>\n      <td>8826</td>\n      <td>690</td>\n      <td>2310</td>\n      <td>1302</td>\n      <td>64526</td>\n      <td>101861</td>\n      <td>89724</td>\n      <td>214115</td>\n      <td>78087</td>\n      <td>225592</td>\n      <td>286933</td>\n      <td>220946</td>\n      <td>17610</td>\n      <td>35231</td>\n      <td>67572</td>\n      <td>200094</td>\n      <td>23871</td>\n      <td>33046</td>\n      <td>57404</td>\n      <td>199577</td>\n      <td>27936</td>\n      <td>81462</td>\n      <td>285233</td>\n      <td>414060</td>\n      <td>35589</td>\n      <td>93249</td>\n      <td>152324</td>\n      <td>443061</td>\n      <td>39397</td>\n      <td>85853</td>\n      <td>153919</td>\n      <td>323697</td>\n      <td>23365</td>\n      <td>93624</td>\n      <td>172839</td>\n      <td>440061</td>\n      <td>41107</td>\n      <td>58049</td>\n      <td>118324</td>\n      <td>236402</td>\n      <td>42332</td>\n      <td>71938</td>\n      <td>96247</td>\n      <td>239779</td>\n    </tr>\n    <tr>\n      <th>1</th>\n      <td>109316</td>\n      <td>117037</td>\n      <td>102934</td>\n      <td>81035</td>\n      <td>122720</td>\n      <td>113384</td>\n      <td>95658</td>\n      <td>83279</td>\n      <td>140343</td>\n      <td>131053</td>\n      <td>103226</td>\n      <td>65894</td>\n      <td>161542</td>\n      <td>152263</td>\n      <td>127606</td>\n      <td>76375</td>\n      <td>81672</td>\n      <td>92562</td>\n      <td>84147</td>\n      <td>92839</td>\n      <td>136639</td>\n      <td>119851</td>\n      <td>95640</td>\n      <td>78356</td>\n      <td>29924</td>\n      <td>5794</td>\n      <td>8136</td>\n      <td>2655</td>\n      <td>56206</td>\n      <td>30550</td>\n      <td>14705</td>\n      <td>4073</td>\n      <td>61333</td>\n      <td>67183</td>\n      <td>32110</td>\n      <td>4239</td>\n      <td>106152</td>\n      <td>94024</td>\n      <td>87216</td>\n      <td>58286</td>\n      <td>140094</td>\n      <td>108014</td>\n      <td>93791</td>\n      <td>66511</td>\n      <td>79590</td>\n      <td>92123</td>\n      <td>131488</td>\n      <td>41442</td>\n      <td>104783</td>\n      <td>94953</td>\n      <td>74508</td>\n      <td>47270</td>\n      <td>146785</td>\n      <td>130842</td>\n      <td>119500</td>\n      <td>67517</td>\n      <td>95990</td>\n      <td>145530</td>\n      <td>134678</td>\n      <td>89493</td>\n      <td>204961</td>\n      <td>166806</td>\n      <td>184853</td>\n      <td>154540</td>\n      <td>198665</td>\n      <td>187896</td>\n      <td>164838</td>\n      <td>152973</td>\n    </tr>\n    <tr>\n      <th>2</th>\n      <td>6539</td>\n      <td>4508</td>\n      <td>4751</td>\n      <td>3545</td>\n      <td>7334</td>\n      <td>4549</td>\n      <td>4273</td>\n      <td>3511</td>\n      <td>7771</td>\n      <td>6269</td>\n      <td>9488</td>\n      <td>11685</td>\n      <td>12360</td>\n      <td>7577</td>\n      <td>5588</td>\n      <td>13405</td>\n      <td>5796</td>\n      <td>4743</td>\n      <td>18323</td>\n      <td>22243</td>\n      <td>12088</td>\n      <td>1461</td>\n      <td>18113</td>\n      <td>13966</td>\n      <td>3328</td>\n      <td>204</td>\n      <td>1385</td>\n      <td>1180</td>\n      <td>45206</td>\n      <td>135292</td>\n      <td>147221</td>\n      <td>699111</td>\n      <td>45299</td>\n      <td>251626</td>\n      <td>357161</td>\n      <td>639549</td>\n      <td>8667</td>\n      <td>11719</td>\n      <td>17075</td>\n      <td>37643</td>\n      <td>5744</td>\n      <td>10672</td>\n      <td>18433</td>\n      <td>39563</td>\n      <td>9170</td>\n      <td>20739</td>\n      <td>61359</td>\n      <td>63627</td>\n      <td>10914</td>\n      <td>23059</td>\n      <td>31036</td>\n      <td>64681</td>\n      <td>11494</td>\n      <td>15972</td>\n      <td>30293</td>\n      <td>58740</td>\n      <td>14528</td>\n      <td>17241</td>\n      <td>33489</td>\n      <td>79132</td>\n      <td>13665</td>\n      <td>13724</td>\n      <td>15892</td>\n      <td>19474</td>\n      <td>13758</td>\n      <td>17580</td>\n      <td>19743</td>\n      <td>23223</td>\n    </tr>\n    <tr>\n      <th>3</th>\n      <td>31099</td>\n      <td>42058</td>\n      <td>42356</td>\n      <td>38478</td>\n      <td>39228</td>\n      <td>41195</td>\n      <td>42935</td>\n      <td>51296</td>\n      <td>32634</td>\n      <td>23369</td>\n      <td>18619</td>\n      <td>7488</td>\n      <td>40855</td>\n      <td>28633</td>\n      <td>17674</td>\n      <td>7408</td>\n      <td>34917</td>\n      <td>56809</td>\n      <td>34105</td>\n      <td>67315</td>\n      <td>50951</td>\n      <td>64354</td>\n      <td>41741</td>\n      <td>33191</td>\n      <td>40379</td>\n      <td>15074</td>\n      <td>39713</td>\n      <td>72953</td>\n      <td>19617</td>\n      <td>9119</td>\n      <td>979</td>\n      <td>1747</td>\n      <td>20106</td>\n      <td>25193</td>\n      <td>11424</td>\n      <td>1820</td>\n      <td>23195</td>\n      <td>22156</td>\n      <td>21883</td>\n      <td>18536</td>\n      <td>28218</td>\n      <td>26482</td>\n      <td>27479</td>\n      <td>23968</td>\n      <td>18192</td>\n      <td>26502</td>\n      <td>43783</td>\n      <td>15863</td>\n      <td>23146</td>\n      <td>28682</td>\n      <td>23235</td>\n      <td>21635</td>\n      <td>24144</td>\n      <td>31572</td>\n      <td>35862</td>\n      <td>35065</td>\n      <td>28131</td>\n      <td>34743</td>\n      <td>44411</td>\n      <td>42641</td>\n      <td>35504</td>\n      <td>28900</td>\n      <td>33550</td>\n      <td>29448</td>\n      <td>39531</td>\n      <td>37391</td>\n      <td>32982</td>\n      <td>28658</td>\n    </tr>\n    <tr>\n      <th>4</th>\n      <td>4250</td>\n      <td>7508</td>\n      <td>13340</td>\n      <td>61474</td>\n      <td>4878</td>\n      <td>7708</td>\n      <td>13778</td>\n      <td>94633</td>\n      <td>6576</td>\n      <td>14705</td>\n      <td>29220</td>\n      <td>76955</td>\n      <td>7438</td>\n      <td>15378</td>\n      <td>20278</td>\n      <td>80289</td>\n      <td>10741</td>\n      <td>25236</td>\n      <td>30171</td>\n      <td>100566</td>\n      <td>18520</td>\n      <td>25521</td>\n      <td>36808</td>\n      <td>66914</td>\n      <td>1721</td>\n      <td>74</td>\n      <td>431</td>\n      <td>258</td>\n      <td>17158</td>\n      <td>25083</td>\n      <td>11029</td>\n      <td>58151</td>\n      <td>18737</td>\n      <td>58559</td>\n      <td>68481</td>\n      <td>59882</td>\n      <td>3482</td>\n      <td>6305</td>\n      <td>11151</td>\n      <td>32390</td>\n      <td>4746</td>\n      <td>6657</td>\n      <td>11499</td>\n      <td>37696</td>\n      <td>6188</td>\n      <td>17762</td>\n      <td>58020</td>\n      <td>85510</td>\n      <td>7344</td>\n      <td>19560</td>\n      <td>30739</td>\n      <td>94122</td>\n      <td>6019</td>\n      <td>15079</td>\n      <td>29731</td>\n      <td>78756</td>\n      <td>5652</td>\n      <td>16425</td>\n      <td>36098</td>\n      <td>105253</td>\n      <td>8471</td>\n      <td>11161</td>\n      <td>22970</td>\n      <td>52473</td>\n      <td>8942</td>\n      <td>15606</td>\n      <td>21789</td>\n      <td>53481</td>\n    </tr>\n    <tr>\n      <th>...</th>\n      <td>...</td>\n      <td>...</td>\n      <td>...</td>\n      <td>...</td>\n      <td>...</td>\n      <td>...</td>\n      <td>...</td>\n      <td>...</td>\n      <td>...</td>\n      <td>...</td>\n      <td>...</td>\n      <td>...</td>\n      <td>...</td>\n      <td>...</td>\n      <td>...</td>\n      <td>...</td>\n      <td>...</td>\n      <td>...</td>\n      <td>...</td>\n      <td>...</td>\n      <td>...</td>\n      <td>...</td>\n      <td>...</td>\n      <td>...</td>\n      <td>...</td>\n      <td>...</td>\n      <td>...</td>\n      <td>...</td>\n      <td>...</td>\n      <td>...</td>\n      <td>...</td>\n      <td>...</td>\n      <td>...</td>\n      <td>...</td>\n      <td>...</td>\n      <td>...</td>\n      <td>...</td>\n      <td>...</td>\n      <td>...</td>\n      <td>...</td>\n      <td>...</td>\n      <td>...</td>\n      <td>...</td>\n      <td>...</td>\n      <td>...</td>\n      <td>...</td>\n      <td>...</td>\n      <td>...</td>\n      <td>...</td>\n      <td>...</td>\n      <td>...</td>\n      <td>...</td>\n      <td>...</td>\n      <td>...</td>\n      <td>...</td>\n      <td>...</td>\n      <td>...</td>\n      <td>...</td>\n      <td>...</td>\n      <td>...</td>\n      <td>...</td>\n      <td>...</td>\n      <td>...</td>\n      <td>...</td>\n      <td>...</td>\n      <td>...</td>\n      <td>...</td>\n      <td>...</td>\n    </tr>\n    <tr>\n      <th>2581</th>\n      <td>1</td>\n      <td>2</td>\n      <td>4</td>\n      <td>2</td>\n      <td>5</td>\n      <td>6</td>\n      <td>7</td>\n      <td>9</td>\n      <td>7</td>\n      <td>2</td>\n      <td>3</td>\n      <td>2</td>\n      <td>4</td>\n      <td>7</td>\n      <td>3</td>\n      <td>6</td>\n      <td>5</td>\n      <td>7</td>\n      <td>3</td>\n      <td>7</td>\n      <td>4</td>\n      <td>5</td>\n      <td>3</td>\n      <td>5</td>\n      <td>0</td>\n      <td>0</td>\n      <td>0</td>\n      <td>0</td>\n      <td>1</td>\n      <td>1</td>\n      <td>2</td>\n      <td>1</td>\n      <td>3</td>\n      <td>2</td>\n      <td>0</td>\n      <td>0</td>\n      <td>3</td>\n      <td>7</td>\n      <td>6</td>\n      <td>6</td>\n      <td>5</td>\n      <td>4</td>\n      <td>5</td>\n      <td>7</td>\n      <td>1</td>\n      <td>4</td>\n      <td>8</td>\n      <td>7</td>\n      <td>6</td>\n      <td>4</td>\n      <td>2</td>\n      <td>4</td>\n      <td>4</td>\n      <td>5</td>\n      <td>5</td>\n      <td>2</td>\n      <td>2</td>\n      <td>6</td>\n      <td>3</td>\n      <td>3</td>\n      <td>6</td>\n      <td>3</td>\n      <td>3</td>\n      <td>3</td>\n      <td>3</td>\n      <td>7</td>\n      <td>8</td>\n      <td>6</td>\n    </tr>\n    <tr>\n      <th>2582</th>\n      <td>3</td>\n      <td>3</td>\n      <td>5</td>\n      <td>1</td>\n      <td>7</td>\n      <td>5</td>\n      <td>5</td>\n      <td>5</td>\n      <td>4</td>\n      <td>0</td>\n      <td>4</td>\n      <td>3</td>\n      <td>2</td>\n      <td>3</td>\n      <td>5</td>\n      <td>4</td>\n      <td>3</td>\n      <td>1</td>\n      <td>5</td>\n      <td>3</td>\n      <td>8</td>\n      <td>11</td>\n      <td>4</td>\n      <td>4</td>\n      <td>0</td>\n      <td>1</td>\n      <td>0</td>\n      <td>0</td>\n      <td>3</td>\n      <td>3</td>\n      <td>0</td>\n      <td>1</td>\n      <td>4</td>\n      <td>1</td>\n      <td>2</td>\n      <td>0</td>\n      <td>6</td>\n      <td>1</td>\n      <td>4</td>\n      <td>1</td>\n      <td>2</td>\n      <td>8</td>\n      <td>6</td>\n      <td>3</td>\n      <td>4</td>\n      <td>5</td>\n      <td>6</td>\n      <td>3</td>\n      <td>5</td>\n      <td>3</td>\n      <td>3</td>\n      <td>4</td>\n      <td>5</td>\n      <td>2</td>\n      <td>3</td>\n      <td>0</td>\n      <td>0</td>\n      <td>5</td>\n      <td>4</td>\n      <td>2</td>\n      <td>4</td>\n      <td>7</td>\n      <td>10</td>\n      <td>3</td>\n      <td>7</td>\n      <td>4</td>\n      <td>6</td>\n      <td>4</td>\n    </tr>\n    <tr>\n      <th>2583</th>\n      <td>3</td>\n      <td>5</td>\n      <td>4</td>\n      <td>2</td>\n      <td>3</td>\n      <td>7</td>\n      <td>6</td>\n      <td>3</td>\n      <td>1</td>\n      <td>0</td>\n      <td>3</td>\n      <td>3</td>\n      <td>6</td>\n      <td>4</td>\n      <td>3</td>\n      <td>1</td>\n      <td>2</td>\n      <td>7</td>\n      <td>3</td>\n      <td>6</td>\n      <td>7</td>\n      <td>4</td>\n      <td>5</td>\n      <td>4</td>\n      <td>0</td>\n      <td>0</td>\n      <td>1</td>\n      <td>1</td>\n      <td>5</td>\n      <td>2</td>\n      <td>0</td>\n      <td>0</td>\n      <td>2</td>\n      <td>1</td>\n      <td>0</td>\n      <td>0</td>\n      <td>2</td>\n      <td>3</td>\n      <td>6</td>\n      <td>2</td>\n      <td>1</td>\n      <td>3</td>\n      <td>7</td>\n      <td>3</td>\n      <td>3</td>\n      <td>5</td>\n      <td>6</td>\n      <td>4</td>\n      <td>4</td>\n      <td>5</td>\n      <td>3</td>\n      <td>2</td>\n      <td>0</td>\n      <td>1</td>\n      <td>6</td>\n      <td>6</td>\n      <td>1</td>\n      <td>3</td>\n      <td>6</td>\n      <td>3</td>\n      <td>3</td>\n      <td>4</td>\n      <td>4</td>\n      <td>1</td>\n      <td>3</td>\n      <td>4</td>\n      <td>5</td>\n      <td>1</td>\n    </tr>\n    <tr>\n      <th>2584</th>\n      <td>5</td>\n      <td>4</td>\n      <td>4</td>\n      <td>2</td>\n      <td>8</td>\n      <td>6</td>\n      <td>2</td>\n      <td>13</td>\n      <td>0</td>\n      <td>0</td>\n      <td>4</td>\n      <td>0</td>\n      <td>1</td>\n      <td>0</td>\n      <td>0</td>\n      <td>0</td>\n      <td>0</td>\n      <td>0</td>\n      <td>0</td>\n      <td>0</td>\n      <td>0</td>\n      <td>0</td>\n      <td>1</td>\n      <td>0</td>\n      <td>0</td>\n      <td>0</td>\n      <td>0</td>\n      <td>0</td>\n      <td>10</td>\n      <td>7</td>\n      <td>0</td>\n      <td>0</td>\n      <td>0</td>\n      <td>2</td>\n      <td>0</td>\n      <td>0</td>\n      <td>0</td>\n      <td>0</td>\n      <td>0</td>\n      <td>0</td>\n      <td>1</td>\n      <td>0</td>\n      <td>0</td>\n      <td>0</td>\n      <td>12</td>\n      <td>7</td>\n      <td>6</td>\n      <td>2</td>\n      <td>10</td>\n      <td>7</td>\n      <td>5</td>\n      <td>1</td>\n      <td>0</td>\n      <td>0</td>\n      <td>0</td>\n      <td>0</td>\n      <td>18</td>\n      <td>0</td>\n      <td>0</td>\n      <td>0</td>\n      <td>0</td>\n      <td>0</td>\n      <td>0</td>\n      <td>0</td>\n      <td>1</td>\n      <td>0</td>\n      <td>0</td>\n      <td>0</td>\n    </tr>\n    <tr>\n      <th>2585</th>\n      <td>4</td>\n      <td>4</td>\n      <td>3</td>\n      <td>2</td>\n      <td>2</td>\n      <td>3</td>\n      <td>2</td>\n      <td>6</td>\n      <td>0</td>\n      <td>0</td>\n      <td>5</td>\n      <td>1</td>\n      <td>1</td>\n      <td>3</td>\n      <td>0</td>\n      <td>1</td>\n      <td>0</td>\n      <td>5</td>\n      <td>3</td>\n      <td>5</td>\n      <td>3</td>\n      <td>0</td>\n      <td>4</td>\n      <td>1</td>\n      <td>2</td>\n      <td>0</td>\n      <td>2</td>\n      <td>0</td>\n      <td>1</td>\n      <td>1</td>\n      <td>0</td>\n      <td>0</td>\n      <td>1</td>\n      <td>0</td>\n      <td>0</td>\n      <td>0</td>\n      <td>1</td>\n      <td>0</td>\n      <td>1</td>\n      <td>0</td>\n      <td>0</td>\n      <td>1</td>\n      <td>2</td>\n      <td>1</td>\n      <td>2</td>\n      <td>1</td>\n      <td>3</td>\n      <td>2</td>\n      <td>2</td>\n      <td>1</td>\n      <td>2</td>\n      <td>2</td>\n      <td>0</td>\n      <td>0</td>\n      <td>0</td>\n      <td>1</td>\n      <td>3</td>\n      <td>0</td>\n      <td>0</td>\n      <td>1</td>\n      <td>1</td>\n      <td>0</td>\n      <td>0</td>\n      <td>1</td>\n      <td>0</td>\n      <td>0</td>\n      <td>3</td>\n      <td>0</td>\n    </tr>\n  </tbody>\n</table>\n<p>2586 rows × 68 columns</p>\n</div>"
     },
     "execution_count": 25,
     "metadata": {},
     "output_type": "execute_result"
    }
   ],
   "source": [
    "rawCounts_hBFA1.to_csv(outdir+'counts-hBFA1.csv', index=False)\n",
    "rawCounts_hBFA1"
   ],
   "metadata": {
    "collapsed": false,
    "ExecuteTime": {
     "end_time": "2024-01-19T16:29:03.938311Z",
     "start_time": "2024-01-19T16:29:03.758004Z"
    }
   },
   "id": "f0d1c86c1a5b4518"
  }
 ],
 "metadata": {
  "kernelspec": {
   "display_name": "Python 3",
   "language": "python",
   "name": "python3"
  },
  "language_info": {
   "codemirror_mode": {
    "name": "ipython",
    "version": 2
   },
   "file_extension": ".py",
   "mimetype": "text/x-python",
   "name": "python",
   "nbconvert_exporter": "python",
   "pygments_lexer": "ipython2",
   "version": "2.7.6"
  }
 },
 "nbformat": 4,
 "nbformat_minor": 5
}
