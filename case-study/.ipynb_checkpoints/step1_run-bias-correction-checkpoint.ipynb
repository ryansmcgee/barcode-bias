{
 "cells": [
  {
   "cell_type": "code",
   "execution_count": 1,
   "metadata": {},
   "outputs": [],
   "source": [
    "import numpy as np\n",
    "import pandas as pd\n",
    "import scipy"
   ]
  },
  {
   "cell_type": "code",
   "execution_count": 2,
   "metadata": {},
   "outputs": [],
   "source": [
    "pd.options.display.max_rows = 20\n",
    "pd.set_option('display.max_columns', None)"
   ]
  },
  {
   "cell_type": "code",
   "execution_count": 3,
   "metadata": {},
   "outputs": [],
   "source": [
    "import os\n",
    "import sys\n",
    "module_path = os.path.abspath(os.path.join('../'))\n",
    "if module_path not in sys.path:\n",
    "    sys.path.append(module_path)"
   ]
  },
  {
   "cell_type": "code",
   "execution_count": 4,
   "metadata": {},
   "outputs": [],
   "source": [
    "import importlib; \n",
    "import bias_correction; \n",
    "importlib.reload( bias_correction ); \n",
    "from bias_correction import BiasCorrection"
   ]
  },
  {
   "cell_type": "markdown",
   "metadata": {},
   "source": [
    "-------"
   ]
  },
  {
   "cell_type": "code",
   "execution_count": 5,
   "metadata": {},
   "outputs": [],
   "source": [
    "np.random.seed(3469117)"
   ]
  },
  {
   "cell_type": "markdown",
   "metadata": {},
   "source": [
    "-------"
   ]
  },
  {
   "cell_type": "markdown",
   "metadata": {
    "tags": []
   },
   "source": [
    "# Case Study Bias Correction"
   ]
  },
  {
   "cell_type": "markdown",
   "metadata": {
    "tags": []
   },
   "source": [
    "#### Set up bias correction object"
   ]
  },
  {
   "cell_type": "code",
   "execution_count": 6,
   "metadata": {
    "scrolled": true,
    "tags": []
   },
   "outputs": [],
   "source": [
    "debiaser = BiasCorrection(counts='./data/kinsler-2020-preprocessed-data/counts.csv', \n",
    "                          samples='./data/kinsler-2020-preprocessed-data/samples.csv', \n",
    "                          variants='./data/kinsler-2020-preprocessed-data/variants_withNeutralGroups.csv',\n",
    "                          config='./analysis-config.json',\n",
    "                          outdir='./results/')"
   ]
  },
  {
   "cell_type": "markdown",
   "metadata": {
    "tags": []
   },
   "source": [
    "#### Perform bias correction"
   ]
  },
  {
   "cell_type": "code",
   "execution_count": 7,
   "metadata": {},
   "outputs": [
    {
     "name": "stdout",
     "output_type": "stream",
     "text": [
      "[ Stage 1: Inferring bias susceptibilities and bias prevalence deviations. ]\n",
      "    Iteration #1                                                  \n",
      "    Iteration #2                                                                                                           \n",
      "    Iteration #3                                                                                                           \n",
      "    Iteration #4                                                                                                           \n",
      "    Iteration #5                                                                                                           \n",
      "[ Stage 2: Inferring bias prevalence trends. ]                                                                             \n",
      "[ Computing bias-corrected fitness estimates. ]\n",
      "[ Done. ]\n"
     ]
    }
   ],
   "source": [
    "debiaser.run()"
   ]
  },
  {
   "cell_type": "markdown",
   "metadata": {
    "tags": []
   },
   "source": [
    "#### Save results of bias correction"
   ]
  },
  {
   "cell_type": "code",
   "execution_count": 8,
   "metadata": {},
   "outputs": [],
   "source": [
    "# debiaser.save(outdir='./results/')"
   ]
  },
  {
   "cell_type": "code",
   "execution_count": 9,
   "metadata": {},
   "outputs": [
    {
     "ename": "NameError",
     "evalue": "name 'stop' is not defined",
     "output_type": "error",
     "traceback": [
      "\u001b[0;31m---------------------------------------------------------------------------\u001b[0m",
      "\u001b[0;31mNameError\u001b[0m                                 Traceback (most recent call last)",
      "Cell \u001b[0;32mIn [9], line 1\u001b[0m\n\u001b[0;32m----> 1\u001b[0m \u001b[43mstop\u001b[49m\n",
      "\u001b[0;31mNameError\u001b[0m: name 'stop' is not defined"
     ]
    }
   ],
   "source": [
    "stop"
   ]
  },
  {
   "cell_type": "markdown",
   "metadata": {},
   "source": [
    "# Results Figures"
   ]
  },
  {
   "cell_type": "code",
   "execution_count": null,
   "metadata": {},
   "outputs": [],
   "source": [
    "import matplotlib\n",
    "import matplotlib.pyplot as plt\n",
    "from mpl_toolkits.axes_grid1.inset_locator import inset_axes\n",
    "import matplotlib.transforms as mtransforms\n",
    "import matplotlib.patches as mpatches\n",
    "from matplotlib.patches import FancyBboxPatch\n",
    "from matplotlib import cm\n",
    "import seaborn as sns"
   ]
  },
  {
   "cell_type": "code",
   "execution_count": null,
   "metadata": {},
   "outputs": [],
   "source": [
    "sns.set_style('ticks')"
   ]
  },
  {
   "cell_type": "code",
   "execution_count": null,
   "metadata": {},
   "outputs": [],
   "source": [
    "plt.rcParams['font.size'] = '7'"
   ]
  },
  {
   "cell_type": "code",
   "execution_count": null,
   "metadata": {},
   "outputs": [],
   "source": [
    "plt.rcParams['axes.linewidth'] = 0.66"
   ]
  },
  {
   "cell_type": "code",
   "execution_count": null,
   "metadata": {},
   "outputs": [],
   "source": [
    "num_steps = 7\n",
    "colors = []\n",
    "center_color = (0.92, 0.92, 0.92)\n",
    "base_cmap = matplotlib.cm.get_cmap('BrBG')\n",
    "for step in range(num_steps):\n",
    "    if(step == int(num_steps/2)):\n",
    "        colors.append(center_color)\n",
    "    else:\n",
    "        colors.append(base_cmap(step/(num_steps-1)))\n",
    "biasCmapG = matplotlib.colors.LinearSegmentedColormap.from_list('bias_g', colors, N=256)\n",
    "# display(base_cmap)\n",
    "display(biasCmapG)\n",
    "\n",
    "biasCmapG_vmin, biasCmapG_vmax = -1, 1\n",
    "biasCmapG_norm = matplotlib.colors.Normalize(vmin=biasCmapG_vmin, vmax=biasCmapG_vmax)"
   ]
  },
  {
   "cell_type": "code",
   "execution_count": null,
   "metadata": {},
   "outputs": [],
   "source": [
    "num_steps = 7\n",
    "colors = []\n",
    "center_color = (0.995, 0.995, 0.995)\n",
    "base_cmap = matplotlib.cm.get_cmap('BrBG_r')\n",
    "for step in range(num_steps):\n",
    "    if(step == int(num_steps/2)):\n",
    "        colors.append(center_color)\n",
    "    else:\n",
    "        colors.append(base_cmap(step/(num_steps-1)))\n",
    "biasCmapW = matplotlib.colors.LinearSegmentedColormap.from_list('bias_w', colors, N=256)\n",
    "# display(base_cmap)\n",
    "display(biasCmapW)\n",
    "\n",
    "biasCmapW_vmin, biasCmapW_vmax = -1, 1\n",
    "biasCmapW_norm = matplotlib.colors.Normalize(vmin=biasCmapW_vmin, vmax=biasCmapW_vmax)"
   ]
  },
  {
   "cell_type": "code",
   "execution_count": null,
   "metadata": {},
   "outputs": [],
   "source": [
    "num_steps = 7\n",
    "colors = []\n",
    "center_color = (0.92, 0.92, 0.92)\n",
    "base_cmap = matplotlib.cm.get_cmap('RdBu')\n",
    "for step in range(num_steps):\n",
    "    if(step == int(num_steps/2)):\n",
    "        colors.append(center_color)\n",
    "    else:\n",
    "        colors.append(base_cmap(step/(num_steps-1)))\n",
    "residCmapG = matplotlib.colors.LinearSegmentedColormap.from_list('residual_g', colors, N=256)\n",
    "display(residCmapG)\n",
    "\n",
    "residCmapG_vmin, residCmapG_vmax = -1, 1\n",
    "residCmapG_norm = matplotlib.colors.Normalize(vmin=residCmapG_vmin, vmax=residCmapG_vmax)"
   ]
  },
  {
   "cell_type": "code",
   "execution_count": null,
   "metadata": {},
   "outputs": [],
   "source": [
    "num_steps = 7\n",
    "colors = []\n",
    "center_color = (0.995, 0.995, 0.995)\n",
    "base_cmap = matplotlib.cm.get_cmap('RdBu_r')\n",
    "for step in range(num_steps):\n",
    "    if(step == int(num_steps/2)):\n",
    "        colors.append(center_color)\n",
    "    else:\n",
    "        colors.append(base_cmap(step/(num_steps-1)))\n",
    "residCmapW = matplotlib.colors.LinearSegmentedColormap.from_list('residual_w', colors, N=256)\n",
    "# display(base_cmap)\n",
    "display(residCmapW)\n",
    "\n",
    "residCmapW_vmin, residCmapW_vmax = -1, 1\n",
    "residCmapW_norm = matplotlib.colors.Normalize(vmin=residCmapW_vmin, vmax=residCmapW_vmax)"
   ]
  },
  {
   "cell_type": "code",
   "execution_count": null,
   "metadata": {},
   "outputs": [],
   "source": [
    "num_steps = 7\n",
    "colors = []\n",
    "center_color = (0.92, 0.92, 0.92)\n",
    "base_cmap = matplotlib.cm.get_cmap('PuOr')\n",
    "for step in range(num_steps):\n",
    "    if(step == int(num_steps/2)):\n",
    "        colors.append(center_color)\n",
    "    else:\n",
    "        colors.append(base_cmap(step/(num_steps-1)))\n",
    "fitnessCmapG = matplotlib.colors.LinearSegmentedColormap.from_list('fitnessual_w', colors, N=256)\n",
    "# display(base_cmap)\n",
    "display(fitnessCmapG)\n",
    "\n",
    "fitnessCmapG_vmin, fitnessCmapG_vmax = -1, 1\n",
    "fitnessCmapG_norm = matplotlib.colors.Normalize(vmin=fitnessCmapG_vmin, vmax=fitnessCmapG_vmax)"
   ]
  },
  {
   "cell_type": "code",
   "execution_count": null,
   "metadata": {},
   "outputs": [],
   "source": [
    "num_steps = 7\n",
    "colors = []\n",
    "center_color = (0.995, 0.995, 0.995)\n",
    "base_cmap = matplotlib.cm.get_cmap('PuOr_r')\n",
    "for step in range(num_steps):\n",
    "    if(step == int(num_steps/2)):\n",
    "        colors.append(center_color)\n",
    "    else:\n",
    "        colors.append(base_cmap(step/(num_steps-1)))\n",
    "fitnessCmapW = matplotlib.colors.LinearSegmentedColormap.from_list('fitnessual_w', colors, N=256)\n",
    "# display(base_cmap)\n",
    "display(fitnessCmapW)\n",
    "\n",
    "fitnessCmapW_vmin, fitnessCmapW_vmax = -1, 1\n",
    "fitnessCmapW_norm = matplotlib.colors.Normalize(vmin=fitnessCmapW_vmin, vmax=fitnessCmapW_vmax)"
   ]
  },
  {
   "cell_type": "code",
   "execution_count": null,
   "metadata": {},
   "outputs": [],
   "source": [
    "palette = sns.color_palette('Set2', 8)\n",
    "groups_colors = {'Diploid': palette[2], 'GPB2': palette[4], 'PDE2': palette[3], 'Other': palette[-2],  'IRA1': palette[-1]}\n",
    "palette"
   ]
  },
  {
   "cell_type": "markdown",
   "metadata": {},
   "source": [
    "------"
   ]
  },
  {
   "cell_type": "code",
   "execution_count": null,
   "metadata": {},
   "outputs": [],
   "source": [
    "# VIZ_RESULTS = 'matlab'\n",
    "VIZ_RESULTS = 'python'"
   ]
  },
  {
   "cell_type": "code",
   "execution_count": null,
   "metadata": {},
   "outputs": [],
   "source": [
    "if VIZ_RESULTS == 'matlab':\n",
    "    viz_variants = matlab_resids_final.loc[:, [s for s in viz_samples if 'TX' not in s and 'T0' not in s]].dropna().index.values\n",
    "else:\n",
    "    goodForVizDf = pd.DataFrame(index=debiaser.trustworthy.index, columns=debiaser.trustworthy.columns)\n",
    "    for assay in debiaser.samplesInfo['assay'].unique():\n",
    "        assayInfo = debiaser.samplesInfo.loc[(debiaser.samplesInfo['assay'] == assay) & (~debiaser.samplesInfo['timept'].isin(debiaser.cfg['exclude_timepts']))].sort_values(by='timept')\n",
    "        samples_a = assayInfo['sample'].unique()\n",
    "        mean_counts_a = debiaser.counts[samples_a].mean(axis=1).values\n",
    "        goodForVizDf.loc[:, assay] = (mean_counts_a > 25)\n",
    "    viz_variants = np.where(goodForVizDf.all(axis=1))[0]\n",
    "    \n",
    "print(viz_variants, len(viz_variants))"
   ]
  },
  {
   "cell_type": "code",
   "execution_count": null,
   "metadata": {},
   "outputs": [],
   "source": [
    "viz_biassusc_final = matlab_biassusc_final if VIZ_RESULTS == 'matlab' else debiaser.variantsInfo['bias_susceptibility'].values\n",
    "\n",
    "with np.printoptions(threshold=100):\n",
    "    print(viz_biassusc_final)"
   ]
  },
  {
   "cell_type": "code",
   "execution_count": null,
   "metadata": {},
   "outputs": [],
   "source": [
    "viz_biasprev_final = matlab_biasprev_final if VIZ_RESULTS == 'matlab' else pd.DataFrame(dict(zip(debiaser.samplesInfo['sample'], debiaser.samplesInfo['bias_prevalence'])), index=[0])\n",
    "\n",
    "viz_biasprev_final"
   ]
  },
  {
   "cell_type": "code",
   "execution_count": null,
   "metadata": {},
   "outputs": [],
   "source": [
    "viz_resids_orig = matlab_resids_orig if VIZ_RESULTS == 'matlab' else debiaser.log['observed']['residuals']\n",
    "\n",
    "viz_resids_orig"
   ]
  },
  {
   "cell_type": "code",
   "execution_count": null,
   "metadata": {},
   "outputs": [],
   "source": [
    "viz_resids_final = matlab_resids_final if VIZ_RESULTS == 'matlab' else debiaser.residuals\n",
    "\n",
    "viz_resids_final"
   ]
  },
  {
   "cell_type": "code",
   "execution_count": null,
   "metadata": {},
   "outputs": [],
   "source": [
    "if VIZ_RESULTS == 'matlab':\n",
    "    viz_fitnesses_orig = {group: matlab_fitnesses_orig.loc[debiaser.variantsInfo['neutral_group'] == group] for group in debiaser.variantsInfo['neutral_group'].dropna().unique() if group is not None}\n",
    "    viz_fitnesses_orig['all'] = matlab_fitnesses_orig.copy()\n",
    "else:\n",
    "    viz_fitnesses_orig = {group: debiaser.log['observed']['fitnesses'].loc[[v for v in viz_variants if v in np.where(debiaser.variantsInfo['neutral_group'] == group)[0]]] for group in debiaser.variantsInfo['neutral_group'].dropna().unique() if group is not None}\n",
    "    viz_fitnesses_orig['all'] = debiaser.log['observed']['fitnesses'].copy()\n",
    "    \n",
    "viz_fitnesses_orig['all']"
   ]
  },
  {
   "cell_type": "code",
   "execution_count": null,
   "metadata": {},
   "outputs": [],
   "source": [
    "if VIZ_RESULTS == 'matlab':\n",
    "    viz_fitnesses_final = {group: matlab_fitnesses_final.loc[debiaser.variantsInfo['neutral_group'] == group] for group in debiaser.variantsInfo['neutral_group'].dropna().unique() if group is not None}\n",
    "    viz_fitnesses_final['all'] = matlab_fitnesses_final.copy()\n",
    "else:\n",
    "    viz_fitnesses_final = {group: debiaser.fitnesses.loc[debiaser.variantsInfo['neutral_group'] == group] for group in debiaser.variantsInfo['neutral_group'].dropna().unique() if group is not None}\n",
    "    viz_fitnesses_final['all'] = debiaser.fitnesses.copy()\n",
    "\n",
    "viz_fitnesses_final['Diploid']"
   ]
  },
  {
   "cell_type": "code",
   "execution_count": null,
   "metadata": {},
   "outputs": [],
   "source": [
    "ECs_fig4 = [23, 21, 20, 18, 13, 3]"
   ]
  },
  {
   "cell_type": "code",
   "execution_count": null,
   "metadata": {},
   "outputs": [],
   "source": [
    "viz_assays = np.concatenate([[col for col in viz_fitnesses_orig['Diploid'].columns if f\"EC{ECnum}\" in col] for ECnum in ECs_fig4])\n",
    "viz_assays"
   ]
  },
  {
   "cell_type": "code",
   "execution_count": null,
   "metadata": {},
   "outputs": [],
   "source": [
    "viz_samples = np.concatenate([[col for col in viz_resids_orig.columns if f\"EC{ECnum}\" in col] for ECnum in [23, 21, 20, 18, 13, 3]])\n",
    "viz_samples"
   ]
  },
  {
   "cell_type": "code",
   "execution_count": null,
   "metadata": {},
   "outputs": [],
   "source": [
    "variants_GCsorted = viz_resids_final.loc[debiaser.variantsInfo.sort_values(by='barcode_GCratio').index.values, [a for a in viz_samples if 'TX' not in a and 'T0' not in a]].dropna().index.values\n",
    "print(variants_GCsorted, len(variants_GCsorted))"
   ]
  },
  {
   "cell_type": "code",
   "execution_count": null,
   "metadata": {},
   "outputs": [],
   "source": [
    "viz_variants_GCsorted = [v for v in variants_GCsorted if v in viz_variants]\n",
    "print(viz_variants_GCsorted, len(viz_variants_GCsorted))"
   ]
  },
  {
   "cell_type": "code",
   "execution_count": null,
   "metadata": {},
   "outputs": [],
   "source": [
    "viz_fEpsilons = {group: viz_fitnesses_orig[group] - viz_fitnesses_orig[group].mean(axis=0) for group in viz_fitnesses_orig.keys()}\n",
    "viz_fEpsilons.keys()"
   ]
  },
  {
   "cell_type": "code",
   "execution_count": null,
   "metadata": {},
   "outputs": [],
   "source": [
    "viz_fDeltas = {group: viz_fitnesses_final[group] - viz_fitnesses_orig[group] for group in viz_fitnesses_orig.keys()}\n",
    "viz_fDeltas.keys()"
   ]
  },
  {
   "cell_type": "markdown",
   "metadata": {},
   "source": [
    "## Figure 4\n",
    "\n",
    "##### Adapted from the previous 2023-08-21 version (see notebook 2023-05-16_figures.ipynb)"
   ]
  },
  {
   "cell_type": "code",
   "execution_count": null,
   "metadata": {},
   "outputs": [],
   "source": [
    "# variants_fig2C = viz_resids_orig.loc[debiaser.variantsInfo.sort_values(by='barcode_GCratio').index.values, [a for a in viz_samples if 'TX' not in a]].dropna().index.values\n",
    "# variants_fig2C"
   ]
  },
  {
   "cell_type": "code",
   "execution_count": null,
   "metadata": {},
   "outputs": [],
   "source": [
    "# viz_resids_final.loc[viz_variants_GCsorted, samples_fig4A_EC[1:]]"
   ]
  },
  {
   "cell_type": "code",
   "execution_count": null,
   "metadata": {},
   "outputs": [],
   "source": [
    "# groups_colors"
   ]
  },
  {
   "cell_type": "code",
   "execution_count": null,
   "metadata": {},
   "outputs": [],
   "source": [
    "assay_relabels = {\n",
    "'EC23': 'EC1',\n",
    "'EC21': 'EC2',\n",
    "'EC20': 'EC3',\n",
    "'EC18': 'EC4',\n",
    "'EC13': 'EC5',\n",
    "'EC3': 'EC6',\n",
    "'Baffled': 'Baffled',\n",
    "'1.4%Gluc': '1.4% Gluc',\n",
    "'1.6%Gluc': '1.6% Gluc',\n",
    "'1.8%Gluc': '1.8% Gluc',\n",
    "'0.5%Raf': '0.5% Raf',\n",
    "'1.5%Suc1%Raf': '1.5% Suc, 1% Raf',\n",
    "'0.2MKCl': '0.2M KCl',\n",
    "'0.5MKCl': '0.5M KCl',\n",
    "'M3': 'ECBB',\n",
    "}"
   ]
  },
  {
   "cell_type": "code",
   "execution_count": null,
   "metadata": {},
   "outputs": [],
   "source": [
    "##### This here is the new 2023-10-19+ version\n",
    "\n",
    "figsize = (7, 4.0) \n",
    "fig4 = plt.figure(constrained_layout=False, figsize=figsize, dpi=250) # 250\n",
    "\n",
    "gridsize = (int(figsize[0]*10*2), int(figsize[1]*10*2))\n",
    "gs = fig4.add_gridspec(gridsize[1], gridsize[0])\n",
    "\n",
    "gridHeight_v       = 2\n",
    "gridHeight_A       = int(gridsize[1]*0.45)-1\n",
    "gridHeight_B       = int(gridsize[1]*0.15)\n",
    "gridHeight_C       = int(gridsize[1]*0.2)-1\n",
    "gridHeight_D       = int(gridsize[1]*0.4)-1\n",
    "gridHeight_E       = int(gridsize[1]*0.4)-1\n",
    "\n",
    "gridHeight_vAspace = 1\n",
    "gridHeight_ABspace = int(gridsize[1]*0.115)+1\n",
    "gridHeight_BCspace = int(gridsize[1]*0.085)+1\n",
    "gridHeight_DEspace = int(1)\n",
    "\n",
    "gridWidth_uAspace  = 1\n",
    "gridWidth_ECspace  = 1\n",
    "\n",
    "gridWidth_u        = 1\n",
    "gridWidth_ABC      = int(gridsize[0]*0.70)\n",
    "gridWidth_DE       = int(gridsize[0]*0.22)\n",
    "gridWidth_EC       = int(gridWidth_ABC/len(ECs_fig4)) - gridWidth_ECspace\n",
    "gridWidth_cbar     = 1\n",
    "\n",
    "ax4A_u    = fig4.add_subplot(gs[(gridHeight_v + gridHeight_vAspace):(gridHeight_v + gridHeight_vAspace + gridHeight_A), :gridWidth_u])\n",
    "ax4Av_ECs = []\n",
    "ax4A_ECs  = []\n",
    "ax4B_ECs  = []\n",
    "ax4C_ECs  = []\n",
    "for i in range(len(ECs_fig4)):\n",
    "    gridx_start = (gridWidth_u + gridWidth_uAspace + i*gridWidth_EC + i*gridWidth_ECspace)\n",
    "    gridx_end   = gridx_start + gridWidth_EC\n",
    "    ax4Av_ECs.append( fig4.add_subplot(gs[0:gridHeight_v, gridx_start:gridx_end]) )\n",
    "    ax4A_ECs.append( fig4.add_subplot(gs[(gridHeight_v + gridHeight_vAspace):(gridHeight_v + gridHeight_vAspace + gridHeight_A), gridx_start:gridx_end]) )\n",
    "    ax4B_ECs.append( fig4.add_subplot(gs[(-gridHeight_C - gridHeight_BCspace - gridHeight_B):(-gridHeight_C - gridHeight_BCspace), gridx_start:gridx_end], sharex=ax4B_ECs[0] if i!=0 else None) )\n",
    "    ax4C_ECs.append( fig4.add_subplot(gs[(-gridHeight_C):, gridx_start:gridx_end], sharex=ax4C_ECs[0] if i!=0 else None) )\n",
    "ax4A_cbarBias = fig4.add_subplot(gs[(gridHeight_v + gridHeight_vAspace):(gridHeight_v + gridHeight_vAspace + int(gridHeight_A/2)-1), (gridx_end + gridWidth_ECspace)+1:(gridx_end + gridWidth_ECspace + gridWidth_cbar)+1])\n",
    "ax4A_cbarResids = fig4.add_subplot(gs[(gridHeight_v + gridHeight_vAspace + int(gridHeight_A/2)+1):(gridHeight_v + gridHeight_vAspace + gridHeight_A), (gridx_end + gridWidth_ECspace)+1:(gridx_end + gridWidth_ECspace + gridWidth_cbar)+1])\n",
    "\n",
    "ax4D = fig4.add_subplot(gs[(1 + gridHeight_v + gridHeight_vAspace):(1 + gridHeight_v + gridHeight_vAspace + gridHeight_D), -gridWidth_DE:])\n",
    "ax4E = fig4.add_subplot(gs[-(1 + gridHeight_E):-(1+1), -gridWidth_DE:])\n",
    "\n",
    "for ax in ax4A_ECs + ax4Av_ECs + [ax4A_u, ax4D, ax4E]: \n",
    "    ax.set_xticks([])\n",
    "    ax.set_yticks([])\n",
    "    for spine in ax.spines.values():\n",
    "        spine.set_edgecolor('#000')\n",
    "        spine.set_linewidth(0.5)\n",
    "\n",
    "#~~~~~~~~~~~~~~~~~~~~~~~~~~~~~~~~~\n",
    "#~~~~~~~~~~~~~~~~~~~~~~~~~~~~~~~~~\n",
    "\n",
    "sns.heatmap(ax=ax4A_u, data=np.atleast_2d(viz_biassusc_final[viz_variants_GCsorted]).T, cmap=biasCmapW, center=0, vmin=-1.5, vmax=1.5, cbar=False)\n",
    "ax4A_u.set_xticks([])\n",
    "ax4A_u.set_yticks([])\n",
    "# ax4A_u.set_ylabel(\"bias susceptibility\", labelpad=0, fontsize=6)\n",
    "ax4A_u.text(-2.1, len(viz_biassusc_final[viz_variants_GCsorted])/2, \"inferred bias susceptibility\", c='k', verticalalignment='center', horizontalalignment='center', rotation=90, fontsize=6, weight='bold', zorder=100)\n",
    "for spine in ax4A_u.spines.values():\n",
    "    spine.set(visible=True, lw=.4, edgecolor=\"black\")\n",
    "\n",
    "for c, ECnum in enumerate(ECs_fig4):\n",
    "    \n",
    "    samples_fig4A_EC = [col for col in viz_resids_final.columns if f\"EC{ECnum}\" in col]\n",
    "    print(samples_fig4A_EC)\n",
    "    # print(\"aaa\")\n",
    "    #----------\n",
    "    hm_bias = sns.heatmap(ax=ax4Av_ECs[c], data=viz_biasprev_final[samples_fig4A_EC[1:]], cmap=biasCmapW, center=0, vmin=-1.5, vmax=1.5, square=False, linewidths=0.0, linecolor='w',\n",
    "                          cbar=(c==len(ECs_fig4)-1), cbar_ax=(ax4A_cbarBias if c==len(ECs_fig4)-1 else None), cbar_kws=({'label':\"bias\", 'drawedges':False, 'ticks':[-1, 1]} if c==len(ECs_fig4)-1 else None))\n",
    "    ax4Av_ECs[c].set_xticks([])\n",
    "    ax4Av_ECs[c].set_yticks([])\n",
    "    ax4Av_ECs[c].add_patch(mpatches.Rectangle(xy=(0, 0), width=15, height=0.4, fc='w', ec='w', lw=0.0, clip_on=False, zorder=99))\n",
    "    ax4Av_ECs[c].add_patch(mpatches.Rectangle(xy=(0*len(samples_fig4A_EC)/3+0.02, 0.405), width=(len(samples_fig4A_EC)/3 - 1)*0.97, height=1-0.405, fc='#ffffff00', ec='k', lw=0.4, clip_on=False, zorder=99))\n",
    "    ax4Av_ECs[c].add_patch(mpatches.Rectangle(xy=(1*len(samples_fig4A_EC)/3+0.02, 0.405), width=(len(samples_fig4A_EC)/3 - 1)*0.97, height=1-0.405, fc='#ffffff00', ec='k', lw=0.4, clip_on=False, zorder=99))\n",
    "    ax4Av_ECs[c].add_patch(mpatches.Rectangle(xy=(2*len(samples_fig4A_EC)/3+0.02, 0.405), width=(len(samples_fig4A_EC)/3 - 1)*0.97, height=1-0.405, fc='#ffffff00', ec='k', lw=0.4, clip_on=False, zorder=99))    \n",
    "    # for spine in ax4Av_ECs[c].spines.values():\n",
    "    #     spine.set(visible=True, lw=.3, edgecolor=\"black\")\n",
    "    # print(\"bbb\")\n",
    "    #----------\n",
    "    hm_resids = sns.heatmap(ax=ax4A_ECs[c], data=viz_resids_final.loc[viz_variants_GCsorted, samples_fig4A_EC[1:]], cmap=residCmapW, center=0, vmin=-1, vmax=1,  #.shift(-1, axis=1)\n",
    "                            cbar=(c==len(ECs_fig4)-1), cbar_ax=(ax4A_cbarResids if c==len(ECs_fig4)-1 else None), cbar_kws=({'label':\"residuals\", 'drawedges':False, 'ticks':[-1, 1]} if c==len(ECs_fig4)-1 else None))\n",
    "    ax4A_ECs[c].set_xticks([])\n",
    "    ax4A_ECs[c].set_yticks([])\n",
    "    # print(\"ccc\")\n",
    "    #----------\n",
    "    ax4A_ECs[c].text(len(samples_fig4A_EC[:-1])/2, len(viz_variants_GCsorted)+45, assay_relabels[f\"EC{ECnum}\"], c='k', verticalalignment='top', horizontalalignment='center', rotation=0, fontsize=5, zorder=100)\n",
    "    ax4A_ECs[c].text(2.25 if len(samples_fig4A_EC[:-1]) == 14 else 1.75, len(viz_variants_GCsorted)+7, f\"rep1\", c='#999', verticalalignment='top', horizontalalignment='center', rotation=0, fontsize=5, zorder=100)\n",
    "    ax4A_ECs[c].text(len(samples_fig4A_EC[:-1])/2, len(viz_variants_GCsorted)+7, f\"rep2\", c='#999', verticalalignment='top', horizontalalignment='center', rotation=0, fontsize=5, zorder=100)\n",
    "    ax4A_ECs[c].text(12.25 if len(samples_fig4A_EC[:-1]) == 14 else 9.75, len(viz_variants_GCsorted)+7, f\"rep3\", c='#999', verticalalignment='top', horizontalalignment='center', rotation=0, fontsize=5, zorder=100)\n",
    "    # ax4A_ECs[c].plot([0, len(samples_fig4A_EC[:-1])], [len(viz_variants_GCsorted)+32, len(viz_variants_GCsorted)+32], c='k', lw=0.5, clip_on=False)\n",
    "    ax4A_ECs[c].add_patch(mpatches.Rectangle(xy=(0, len(viz_variants_GCsorted)+38), width=len(samples_fig4A_EC[:-1]), height=32, fc='#eee', ec='k', lw=0.0, clip_on=False, zorder=1))\n",
    "    # print(\"ddd\")\n",
    "    \n",
    "    # break\n",
    "    \n",
    "ax4Av_ECs[3].text(0, -0.7, \"inferred bias prevalence\", c='k', verticalalignment='center', horizontalalignment='center', rotation=0, fontsize=6, weight='bold', zorder=100)\n",
    "\n",
    "# ax4A_cbarBias.yaxis.label.set_size(4)\n",
    "# ax4A_cbarBias.yaxis.get_label().set(fontsize=4, position=(0, 0))\n",
    "\n",
    "ax4A_cbarBias.set_yticks([-1, 1])\n",
    "ax4A_cbarBias.set_yticklabels([-1, 1], fontsize=4)\n",
    "ax4A_cbarBias.set_ylabel(\"bias\", fontsize=5, labelpad=-3)\n",
    "ax4A_cbarBias.tick_params(width=0.5, length=1.33, pad=1)\n",
    "ax4A_cbarResids.set_yticks([-1, 1])\n",
    "ax4A_cbarResids.set_yticklabels([-1, 1], fontsize=4)\n",
    "ax4A_cbarResids.set_ylabel(\"bias-adj. residuals\", fontsize=5, labelpad=-3)\n",
    "ax4A_cbarResids.tick_params(width=0.5, length=1.33, pad=1)\n",
    "for spine in ax4A_cbarBias.spines.values():\n",
    "    spine.set(visible=True, lw=.3, edgecolor=\"black\")\n",
    "for spine in ax4A_cbarResids.spines.values():\n",
    "    spine.set(visible=True, lw=.3, edgecolor=\"black\")\n",
    "    \n",
    "ax4A_u.text(-4, -55, \"A\", verticalalignment='top', horizontalalignment='left', fontsize=7, weight='bold', rotation=0)\n",
    "ax4A_u.text(-4, 425, \"B\", verticalalignment='top', horizontalalignment='left', fontsize=7, weight='bold', rotation=0)\n",
    "ax4A_u.text(-4, 610, \"C\", verticalalignment='top', horizontalalignment='left', fontsize=7, weight='bold', rotation=0)\n",
    "    \n",
    "#~~~~~~~~~~~~~~~~~~~~~~~~~~~~~~~~~\n",
    "\n",
    "vizGroups_fig4B = ['Diploid', 'GPB2', 'PDE2']\n",
    "\n",
    "for c, ECnum in enumerate(ECs_fig4):\n",
    "    viz_assays_EC = [col for col in viz_fitnesses_final['all'].columns if f\"EC{ECnum}\" in col]\n",
    "    print(viz_assays_EC)\n",
    "    \n",
    "    boxplot_fitnesses = []\n",
    "    \n",
    "    box_positions = [0.8, 1.2, 1.8, 2.2, 2.8, 3.2]\n",
    "    \n",
    "    for g, group in enumerate(vizGroups_fig4B):\n",
    "        viz_fitnesses_orig_g_a = np.array([])\n",
    "        viz_fitnesses_final_g_a = np.array([])\n",
    "        for a, assay in enumerate(viz_assays_EC):\n",
    "            viz_fitnesses_orig_g_a  = np.hstack([viz_fitnesses_orig_g_a, viz_fitnesses_orig[group].loc[:, assay].values])\n",
    "            viz_fitnesses_final_g_a = np.hstack([viz_fitnesses_final_g_a, viz_fitnesses_final[group].loc[:, assay].values])\n",
    "            \n",
    "        pvalue = scipy.stats.levene(viz_fitnesses_orig_g_a, viz_fitnesses_final_g_a).pvalue\n",
    "        if(pvalue < 0.05):\n",
    "            ax4B_ECs[c].text(np.percentile(viz_fitnesses_final_g_a, 99)+(0.025 if ECnum == 20 and group == 'PDE2' else 0.125), box_positions[::-1][2*g+1]-0.15, \"*\", verticalalignment='center', horizontalalignment='center', fontsize=6, color=groups_colors[group])\n",
    "            \n",
    "        boxplot_fitnesses.append(viz_fitnesses_orig_g_a)\n",
    "        boxplot_fitnesses.append(viz_fitnesses_final_g_a)\n",
    "    \n",
    "    bplot = ax4B_ECs[c].boxplot(boxplot_fitnesses[::-1], vert=False, positions=box_positions, widths=0.25, showcaps=False, showfliers=False, patch_artist=True,\n",
    "                                boxprops=dict(linewidth=0.66, facecolor='r'), whiskerprops=dict(linewidth=0.66), medianprops=dict(linewidth=0.66))\n",
    "    \n",
    "    boxshadealpha = 0.5\n",
    "    for i, patch in enumerate(bplot['boxes'][::-1]):\n",
    "        patch.set_facecolor(list(groups_colors[vizGroups_fig4B[int(i/2)]])+[boxshadealpha*(i%2)])\n",
    "        patch.set_edgecolor(groups_colors[vizGroups_fig4B[int(i/2)]])\n",
    "    for i, patch in enumerate(bplot['whiskers'][::-1]):\n",
    "        patch.set_color(groups_colors[vizGroups_fig4B[int(i/4)]])\n",
    "    for i, patch in enumerate(bplot['medians'][::-1]):\n",
    "        patch.set_color(groups_colors[vizGroups_fig4B[int(i/2)]])\n",
    "        \n",
    "    # ax4B_ECs[c].text(0, 0.8, \"pre\", verticalalignment='center', horizontalalignment='center', fontsize=5, zorder=200, bbox=dict(pad=1.0, fc='#ddd', ec='#aaa', lw=0.6))\n",
    "            \n",
    "    # fdist_orig = df_fig4B_a[(df_fig4B_a['condition'] == condition) & (df_fig4B_a['group'] == group) & (df_fig4B_a['orig_final'] == 'orig')]['fitness'].values\n",
    "    # fdist_final = df_fig4B_a[(df_fig4B_a['condition'] == condition) & (df_fig4B_a['group'] == group) & (df_fig4B_a['orig_final'] == 'final')]['fitness'].values\n",
    "    # sig_var  = 0.05 > scipy.stats.levene(fdist_orig, fdist_final, center='mean').pvalue\n",
    "    # sig_mean = 0.05 > scipy.stats.ttest_ind(fdist_orig, fdist_final, equal_var=sig_var).pvalue\n",
    "    # print(ECnum, sig_var, sig_mean)\n",
    "    \n",
    "    ax4B_ECs[c].set_xticks([0, 1])\n",
    "    ax4B_ECs[c].set_xticklabels([0, 1], fontsize=5)\n",
    "    ax4B_ECs[c].set_xlabel('')\n",
    "    ax4B_ECs[c].set_yticks(box_positions if c==0 else []) # if c!=0 else [1, 2, 3])\n",
    "    ax4B_ECs[c].set_yticklabels(['pre', 'post', 'pre', 'post', 'pre', 'post'][::-1] if c==0 else [], fontsize=5) # if c!=0 else ['Dip.', 'GPB2', 'PDE2'], fontsize=4)    \n",
    "    ax4B_ECs[c].set_ylabel('')    \n",
    "    ax4B_ECs[c].tick_params(width=0.5, length=1.33, pad=2)\n",
    "    \n",
    "    # ax4B_ECs[c].get_legend().remove()\n",
    "    \n",
    "    # ax4B_ECs[c].spines[['right', 'top', 'left']].set_visible(False)\n",
    "    \n",
    "    ax4B_ECs[c].set_facecolor('#fff')\n",
    "    \n",
    "    for spine in ax4B_ECs[c].spines.values():\n",
    "        spine.set_edgecolor('#000')\n",
    "        spine.set_linewidth(0.5)\n",
    "    \n",
    "    # break\n",
    "    \n",
    "ax4B_ECs[3].text(-0.25, -0.875, \"fitness estimates\", c='k', verticalalignment='center', horizontalalignment='center', rotation=0, fontsize=6, zorder=100)\n",
    "    \n",
    "#~~~~~~~~~~~~~~~~~~~~~~~~~~~~~~~~~\n",
    "\n",
    "for c, ECnum in enumerate(ECs_fig4):\n",
    "    viz_assays_EC = [col for col in viz_fitnesses_final['all'].columns if f\"EC{ECnum}\" in col]\n",
    "    print(viz_assays_EC)\n",
    "    \n",
    "    for g, group in enumerate(['Diploid', 'GPB2', 'PDE2']):\n",
    "        \n",
    "        viz_fEpsilons_g_allReps = np.concatenate([viz_fEpsilons[group].loc[:, assay].values for assay in viz_assays_EC])\n",
    "        viz_fDeltas_g_allReps   = np.concatenate([viz_fDeltas[group].loc[:, assay].values for assay in viz_assays_EC])\n",
    "    \n",
    "        sns.regplot(ax=ax4C_ECs[c], x=viz_fEpsilons_g_allReps, y=-1*viz_fDeltas_g_allReps, ci=0, \n",
    "                    color=groups_colors[group], marker=('o' if 'Diploid' in group else 'o'), label=f\"{group}\", \n",
    "                    scatter_kws={'alpha': 0.33 if group=='Diploid' else 1.0, 's': 1, 'lw': 0, 'zorder': g}, line_kws={'lw': 0.66, 'zorder': g})\n",
    "        \n",
    "    # ax4C_ECs[c].set_xticks([])\n",
    "    ax4C_ECs[c].set_xlabel('')\n",
    "    # ax4C_ECs[c].set_yticks([])\n",
    "    ax4C_ECs[c].set_ylabel('')    \n",
    "    # ax4C_ECs[c].get_legend().remove()\n",
    "    \n",
    "    ax4C_ECs[c].set_xlim((-1.05, 1.05))\n",
    "    ax4C_ECs[c].set_xticks([-1, 0, 1])\n",
    "    ax4C_ECs[c].set_xticklabels([-1, 0, 1], fontsize=5)\n",
    "    ax4C_ECs[c].set_ylim((-1.05, 1.05))\n",
    "    ax4C_ECs[c].set_yticks([-1, 0, 1] if c==0 else [])\n",
    "    ax4C_ECs[c].set_yticklabels([-1, 0, 1] if c==0 else [], fontsize=5)\n",
    "    \n",
    "    ax4C_ECs[c].tick_params(width=0.5, length=1.33, pad=2)\n",
    "    \n",
    "    for spine in ax4C_ECs[c].spines.values():\n",
    "        spine.set_edgecolor('#000')\n",
    "        spine.set_linewidth(0.5)\n",
    "    \n",
    "    # ax4C_ECs[c].spines['left'].set_bounds(-1, 1)\n",
    "    # ax4C_ECs[c].spines['bottom'].set_bounds(-1, 1)\n",
    "    # if(c == 0):\n",
    "    #     ax4C_ECs[c].spines[['right', 'top']].set_visible(False)\n",
    "    # else:\n",
    "    #     ax4C_ECs[c].spines[['right', 'top', 'left']].set_visible(False)\n",
    "    \n",
    "            \n",
    "    if(c == len(ECs_fig4)-1):\n",
    "        ax4C_ECs[c].text(1.0, 1.39, \"$~~~~~$Diploid$~~~~~~$GPB2$~~~~~~$PDE2\", verticalalignment='center', horizontalalignment='right', fontsize=4.5, zorder=100, bbox=dict(pad=1.25, fc='w', ec='#ddd', lw=0.5), clip_on=False)\n",
    "        ax4C_ECs[c].plot([0.10, 0.30], [1.39, 1.39], c=groups_colors['PDE2'], lw=1, zorder=200, clip_on=False)\n",
    "        ax4C_ECs[c].plot([-0.95, -0.75], [1.39, 1.39], c=groups_colors['GPB2'], lw=1, zorder=200, clip_on=False)\n",
    "        ax4C_ECs[c].plot([-2.09, -1.89], [1.39, 1.39], c=groups_colors['Diploid'], lw=1, zorder=200, clip_on=False)\n",
    "            \n",
    "    # break    \n",
    "    \n",
    "\n",
    "ax4C_ECs[0].set_ylabel(\"correction ($\\Delta f$)\", labelpad=0, fontsize=6)        \n",
    "\n",
    "ax4C_ECs[3].text(-1.1, -1.65, \"initial fitness misestimation ($\\delta f$)\", c='k', verticalalignment='center', horizontalalignment='center', rotation=0, fontsize=6, zorder=100)\n",
    "    \n",
    "#~~~~~~~~~~~~~~~~~~~~~~~~~~~~~~~~~\n",
    "\n",
    "for g, group in enumerate(['Diploid', 'GPB2', 'PDE2']):\n",
    "    \n",
    "    viz_fEpsilons_g = viz_fEpsilons[group]\n",
    "\n",
    "    U_g, s_g, VT_g = np.linalg.svd(viz_fEpsilons_g.dropna(axis=1).values[:, :])\n",
    "    \n",
    "    u_svd_g    = (s_g[0])*U_g[:, 0]\n",
    "    u_method_g = viz_biassusc_final[viz_fEpsilons_g.index.tolist()]\n",
    "    slope, intercept, r_value, p_value, std_err = scipy.stats.linregress((u_svd_g), (u_method_g))\n",
    "    # print(\"u_svd X u_method_g:\", group, \"m =\", slope, \"intc =\", intercept, \"r^2 =\", r_value**2, \"p =\", p_value, \"stderr =\", std_err)\n",
    "    \n",
    "    if('Diploid' in group):\n",
    "        ax4D.plot((-1 if slope<0 else 1)*(u_svd_g), (u_method_g), marker='+', ms=2, mew=0.5, ls='none', alpha=0.33, c=groups_colors[group], label=f\"{group}\", zorder=-100)\n",
    "    elif('IRA' not in group):  \n",
    "        sns.regplot(ax=ax4D, x=(-1 if slope<0 else 1)*(u_svd_g), y=(u_method_g), ci=0, label=f\"{group} ($r^2 = ${r_value**2:.2f})\",\n",
    "                   color=groups_colors[group], marker=('+' if 'Diploid' in group else 'o'), \n",
    "                    scatter_kws={'alpha': 0.5, 's': 4, 'lw': 0, 'zorder': -g}, line_kws={'lw': 1.0, 'zorder': -g})\n",
    "    \n",
    "    gcratio = debiaser.variantsInfo.loc[viz_fEpsilons_g.index.tolist(), 'barcode_GCratio'].values\n",
    "    slope, intercept, r_value, p_value, std_err = scipy.stats.linregress(1-(gcratio), (u_method_g))\n",
    "    # print(\"gcratio X u_method_g:\", group, \"m =\", slope, \"intc =\", intercept, \"r^2 =\", r_value**2, \"p =\", p_value, \"stderr =\", std_err)\n",
    "\n",
    "    if('Diploid' in group):\n",
    "        ax4E.plot((1 if group != 'PDE2' else -1)*(u_svd_g), 1-(gcratio), marker='+', ms=2, mew=0.5, ls='none', alpha=0.33, c=groups_colors[group], label=f\"{group}\", zorder=-100)\n",
    "    elif('IRA' not in group):  \n",
    "        sns.regplot(ax=ax4E, y=1-(gcratio), x=(-1 if group != 'PDE2' else 1)*(u_svd_g), ci=0, label=f\"{group} ($r^2 = ${r_value**2:.2f})\", \n",
    "                   color=groups_colors[group], marker=('+' if 'Diploid' in group else 'o'), \n",
    "                    scatter_kws={'alpha': 0.5, 's': 4, 'lw': 0, 'zorder': -g}, line_kws={'lw': 1.0, 'zorder': -g})\n",
    "\n",
    "ax4E.set_xlabel(\"$\\hat{u}_i^{~(SVD)}$\", labelpad=0, fontsize=6) # \n",
    "ax4E.set_xticks([-1, 0, 1, 2])\n",
    "ax4E.set_xticklabels([-1, 0, 1, 2], fontsize=5)\n",
    "ax4E.set_ylabel(\"1 - GC-ratio\", labelpad=-2, fontsize=6)\n",
    "ax4E.set_ylim((0, 1))\n",
    "ax4E.set_yticks([0, 0.5, 1], fontsize=5)\n",
    "ax4E.set_yticklabels([0, '', 1], fontsize=5)\n",
    "legend4BC1 = ax4E.legend(scatterpoints=1, scatteryoffsets=[0], frameon=False, loc='lower right',  handletextpad=-0.25, labelspacing=0.2, fontsize=5)\n",
    "for labeltext in legend4BC1.get_texts(): \n",
    "    if(labeltext.get_text() != 'Diploid'):\n",
    "        labeltext.set_va('center_baseline')\n",
    "\n",
    "ax4E.tick_params(width=0.5, length=2, pad=2)\n",
    "for spine in ax4E.spines.values():\n",
    "    spine.set_edgecolor('#000')\n",
    "    spine.set_linewidth(0.5)\n",
    "        \n",
    "ax4D.set_xlabel(\"$\\hat{u}_i^{~(SVD)}$\", labelpad=0, fontsize=6) #^{~(SVD)}\n",
    "ax4D.set_ylabel(\"$\\hat{u}_{i}^{~(method)}$\", labelpad=-2, fontsize=6) # ^{~(method)}\n",
    "ax4D.set_xlim((-1.5, 2.5))\n",
    "ax4D.set_ylim((-1.5, 2.5))\n",
    "ax4D.set_xticks([-1, 0, 1, 2])\n",
    "ax4D.set_yticks([-1, 0, 1, 2])\n",
    "ax4D.set_xticklabels([-1, 0, 1, 2], fontsize=5)\n",
    "ax4D.set_yticklabels([-1, 0, 1, 2], fontsize=5)\n",
    "ax4D.legend(frameon=False, loc='upper left', fontsize=5)\n",
    "legend4BC0 = ax4D.legend(scatterpoints=1,scatteryoffsets=[0], frameon=False, loc='upper left', bbox_to_anchor=(-0.05, 1.0), handletextpad=-0.25, labelspacing=0.2, fontsize=5)\n",
    "for labeltext in legend4BC0.get_texts(): \n",
    "    if(labeltext.get_text() != 'Diploid'):\n",
    "        labeltext.set_va('center_baseline')\n",
    "\n",
    "ax4D.tick_params(width=0.5, length=2, pad=2)\n",
    "for spine in ax4D.spines.values():\n",
    "    spine.set_edgecolor('#000')\n",
    "    spine.set_linewidth(0.5)\n",
    "    \n",
    "ax4E.text(-1.5, 2.575, \"D\", verticalalignment='top', horizontalalignment='left', fontsize=7, weight='bold', rotation=0)\n",
    "ax4E.text(-1.5, 1.125, \"E\", verticalalignment='top', horizontalalignment='left', fontsize=7, weight='bold', rotation=0)\n",
    "\n",
    "#~~~~~~~~~~~~~~~~~~~~~~~~~~~~~~~~~\n",
    "#~~~~~~~~~~~~~~~~~~~~~~~~~~~~~~~~~\n",
    "    \n",
    "# ax4A_ECs[0].add_patch(mpatches.Rectangle(xy=(-10, 0), width=1, height=10, fc='#000', ec='w', lw=0.0, clip_on=False, zorder=-999))\n",
    "        \n",
    "#~~~~~~~~~~~~~~~~~~~~~~~~~~~~~~~~~\n",
    "#~~~~~~~~~~~~~~~~~~~~~~~~~~~~~~~~~\n",
    "\n",
    "plt.show()\n"
   ]
  },
  {
   "cell_type": "code",
   "execution_count": null,
   "metadata": {},
   "outputs": [],
   "source": [
    "stop"
   ]
  },
  {
   "cell_type": "code",
   "execution_count": null,
   "metadata": {},
   "outputs": [],
   "source": [
    "# VIZ_NOTES = \"assaysmatchingjupyterpreprocessing\"\n",
    "# VIZ_NOTES = \"skipinitialbaselineoptimization\"\n",
    "# VIZ_NOTES = \"inferbiassuscforallvariants-vizvariantswithmeancountabove25inallassays-weightsequalcounts-weightsaturationequalsmintrustthresh-5iters-fixcbars\"\n",
    "VIZ_NOTES = \"relabelingassays\""
   ]
  },
  {
   "cell_type": "code",
   "execution_count": null,
   "metadata": {},
   "outputs": [],
   "source": [
    "date"
   ]
  },
  {
   "cell_type": "code",
   "execution_count": null,
   "metadata": {},
   "outputs": [],
   "source": [
    "# fig4.savefig(f\"fig4_{date}_{VIZ_RESULTS}_{VIZ_NOTES}.png\", dpi=300)"
   ]
  },
  {
   "cell_type": "markdown",
   "metadata": {},
   "source": [
    "## Supp Figs"
   ]
  },
  {
   "cell_type": "code",
   "execution_count": null,
   "metadata": {},
   "outputs": [],
   "source": [
    "assaysets_figSI = ['EC23', 'EC21', 'EC20', 'EC18', 'EC13', 'EC3']\n",
    "assaysets_figSI"
   ]
  },
  {
   "cell_type": "code",
   "execution_count": null,
   "metadata": {},
   "outputs": [],
   "source": [
    "viz_assays = np.concatenate([[col for col in viz_fitnesses_orig['Diploid'].columns if f\"EC{ECnum}\" in col] for ECnum in ECs_fig4])\n",
    "viz_assays"
   ]
  },
  {
   "cell_type": "code",
   "execution_count": null,
   "metadata": {},
   "outputs": [],
   "source": [
    "viz_samples = np.concatenate([[col for col in viz_resids_orig.columns if f\"EC{ECnum}\" in col] for ECnum in [23, 21, 20, 18, 13, 3]])\n",
    "viz_samples\n",
    "print(len(viz_samples))"
   ]
  },
  {
   "cell_type": "code",
   "execution_count": null,
   "metadata": {},
   "outputs": [],
   "source": [
    "figsize = (7.0, 7.0) \n",
    "figSI = plt.figure(constrained_layout=True, figsize=figsize, dpi=200) # 250\n",
    "\n",
    "gridsize = (int(figsize[0]*10), int(figsize[1]*10))\n",
    "gs = figSI.add_gridspec(gridsize[1], gridsize[0], wspace=0.0, hspace=0.0, width_ratios=[1]*gridsize[1], height_ratios=[1]*gridsize[0])\n",
    "\n",
    "\n",
    "grid = {'assaysetlabel': {'y0': 0,  'yf': 2},\n",
    "        'residsorig':    {'y0': 3,  'yf': 22},\n",
    "        'biasprev':      {'y0': 26, 'yf': 27},\n",
    "        'biassusc':      {'y0': 28, 'yf': 47},\n",
    "        'residsfinal':   {'y0': 28, 'yf': 47},\n",
    "        'fitnessdistns': {'y0': 50, 'yf': 57},\n",
    "        'fitnessdeltas': {'y0': 61, 'yf': gridsize[1]}}\n",
    "\n",
    "# ax_wut = figSI.add_subplot(gs[0:1, 0:1])\n",
    "# ax_wut2 = figSI.add_subplot(gs[1:2, 1:2])\n",
    "\n",
    "ax_biassusc    = figSI.add_subplot(gs[grid['biassusc']['y0']:grid['biassusc']['yf'], 0:1])\n",
    " \n",
    "\n",
    "    \n",
    "\n",
    "# ax_cbar_biasorig    = figSI.add_subplot(gs[grid['residsorig']['y0']:13, -1:])\n",
    "ax_cbar_resids  = figSI.add_subplot(gs[16:grid['residsorig']['yf'], -2:-1])\n",
    "ax_cbar_bias   = figSI.add_subplot(gs[grid['residsfinal']['y0']:34, -2:-1])\n",
    "# ax_cbar_residsfinal = figSI.add_subplot(gs[39:grid['residsfinal']['yf'], -1:])\n",
    "\n",
    "\n",
    "for a, assayset in enumerate(assaysets_figSI):\n",
    "    print(assayset)\n",
    "    \n",
    "    # if(a != 0 and a != 5):\n",
    "    #     continue\n",
    "    \n",
    "    col_w = 10\n",
    "    col_x = 2 + (a*col_w)+(a*1)\n",
    "    \n",
    "    print(f\"{col_x}:{col_x+col_w}\")\n",
    "    \n",
    "    ax_assaysetlabel = figSI.add_subplot(gs[grid['assaysetlabel']['y0']:grid['assaysetlabel']['yf'], col_x:col_x+col_w])\n",
    "    ax_residsorig    = figSI.add_subplot(gs[grid['residsorig']['y0']:grid['residsorig']['yf'], col_x:col_x+col_w])\n",
    "    ax_biasprev      = figSI.add_subplot(gs[grid['biasprev']['y0']:grid['biasprev']['yf'], col_x:col_x+col_w])\n",
    "    ax_residsfinal   = figSI.add_subplot(gs[grid['residsfinal']['y0']:grid['residsfinal']['yf'], col_x:col_x+col_w])\n",
    "    ax_fitnessdistns = figSI.add_subplot(gs[grid['fitnessdistns']['y0']:grid['fitnessdistns']['yf'], col_x:col_x+col_w])\n",
    "    ax_fitnessdeltas = figSI.add_subplot(gs[grid['fitnessdeltas']['y0']:grid['fitnessdeltas']['yf']:, col_x:col_x+col_w])\n",
    "    \n",
    "    assays_figSI_aset  = [col for col in viz_fitnesses_final['all'].columns if assayset in col]\n",
    "    samples_figSI_aset = [col for col in viz_resids_final.columns if assayset in col][1:]\n",
    "    print(assays_figSI_aset)\n",
    "    print(samples_figSI_aset)\n",
    "    \n",
    "    #--------------------\n",
    "    \n",
    "    ax_assaysetlabel.text(0.5, 0.5, assay_relabels[f\"{assayset}\"], c='k', verticalalignment='center', horizontalalignment='center', rotation=0, fontsize=6, zorder=100)    \n",
    "    ax_assaysetlabel.set_facecolor('#eee')\n",
    "    ax_assaysetlabel.set_xticks([])\n",
    "    ax_assaysetlabel.set_yticks([])\n",
    "    for spine in ax_assaysetlabel.spines.values():\n",
    "        spine.set(visible=True, lw=0, edgecolor=\"white\")\n",
    "    \n",
    "    #--------------------\n",
    "    \n",
    "    hm_residsorig = sns.heatmap(ax=ax_residsorig, data=viz_resids_orig.loc[viz_variants_GCsorted, samples_figSI_aset], cmap=residCmapW, center=0, vmin=-1, vmax=1,  #.shift(-1, axis=1)\n",
    "                                cbar=(a==0), cbar_ax=ax_cbar_resids, cbar_kws={'label':\"residuals\", 'drawedges':False, 'ticks':[-1, 1], 'aspect': 20})\n",
    "    \n",
    "    ax_residsorig.set_xticks([])\n",
    "    ax_residsorig.set_yticks([])\n",
    "    \n",
    "    ax_residsorig.text(2.75 if len(samples_figSI_aset) == 14 else 1.75, len(viz_variants_GCsorted)+7, f\"rep1\", c='#999', verticalalignment='top', horizontalalignment='center', rotation=0, fontsize=5, zorder=100)\n",
    "    ax_residsorig.text(len(samples_figSI_aset)/2, len(viz_variants_GCsorted)+7, f\"rep2\", c='#999', verticalalignment='top', horizontalalignment='center', rotation=0, fontsize=5, zorder=100)\n",
    "    ax_residsorig.text(12.25 if len(samples_figSI_aset) == 14 else 9.75, len(viz_variants_GCsorted)+7, f\"rep3\", c='#999', verticalalignment='top', horizontalalignment='center', rotation=0, fontsize=5, zorder=100)\n",
    "    \n",
    "    if(a == 5):\n",
    "        ax_residsorig.text(15, 0, \"observed residuals\", c='k', verticalalignment='top', horizontalalignment='left', rotation=90, fontsize=6, weight='bold', zorder=100)    \n",
    "    \n",
    "    #--------------------\n",
    "    \n",
    "    hm_biasprev = sns.heatmap(ax=ax_biasprev, data=viz_biasprev_final[samples_figSI_aset], cmap=biasCmapW, center=0, vmin=-1.5, vmax=1.5, square=False, linewidths=0.0, linecolor='w',\n",
    "                              cbar=(a==0), cbar_ax=ax_cbar_bias, cbar_kws={'label':\"bias\", 'drawedges':False, 'ticks':[-1, 1]})\n",
    "    \n",
    "    ax_biasprev.set_xticks([])\n",
    "    ax_biasprev.set_yticks([])\n",
    "    ax_biasprev.add_patch(mpatches.Rectangle(xy=(0, 0), width=15, height=0.4, fc='w', ec='w', lw=0.0, clip_on=False, zorder=99))\n",
    "    ax_biasprev.add_patch(mpatches.Rectangle(xy=(0*(len(samples_figSI_aset)+1)/3+0.02, 0.405), width=((len(samples_figSI_aset)+1)/3 - 1)*0.97, height=1-0.405, fc='#ffffff00', ec='k', lw=0.4, clip_on=False, zorder=99))\n",
    "    ax_biasprev.add_patch(mpatches.Rectangle(xy=(1*(len(samples_figSI_aset)+1)/3+0.02, 0.405), width=((len(samples_figSI_aset)+1)/3 - 1)*0.97, height=1-0.405, fc='#ffffff00', ec='k', lw=0.4, clip_on=False, zorder=99))\n",
    "    ax_biasprev.add_patch(mpatches.Rectangle(xy=(2*(len(samples_figSI_aset)+1)/3+0.02, 0.405), width=((len(samples_figSI_aset)+1)/3 - 1)*0.97, height=1-0.405, fc='#ffffff00', ec='k', lw=0.4, clip_on=False, zorder=99))    \n",
    "    \n",
    "    if(a == 3):\n",
    "        ax_biasprev.text(0, -0.7, \"inferred bias prevalence\", c='k', verticalalignment='center', horizontalalignment='center', rotation=0, fontsize=6, weight='bold', zorder=100)\n",
    "    \n",
    "    #--------------------\n",
    "    \n",
    "    hm_residsfinal = sns.heatmap(ax=ax_residsfinal, data=viz_resids_final.loc[viz_variants_GCsorted, samples_figSI_aset], cmap=residCmapW, center=0, vmin=-1, vmax=1, cbar=False)\n",
    "    \n",
    "    ax_residsfinal.set_xticks([])\n",
    "    ax_residsfinal.set_yticks([])\n",
    "    \n",
    "    ax_residsfinal.text(2.75 if len(samples_figSI_aset) == 14 else 1.75, len(viz_variants_GCsorted)+7, f\"rep1\", c='#999', verticalalignment='top', horizontalalignment='center', rotation=0, fontsize=5, zorder=100)\n",
    "    ax_residsfinal.text(len(samples_figSI_aset)/2, len(viz_variants_GCsorted)+7, f\"rep2\", c='#999', verticalalignment='top', horizontalalignment='center', rotation=0, fontsize=5, zorder=100)\n",
    "    ax_residsfinal.text(12.25 if len(samples_figSI_aset) == 14 else 9.75, len(viz_variants_GCsorted)+7, f\"rep3\", c='#999', verticalalignment='top', horizontalalignment='center', rotation=0, fontsize=5, zorder=100)\n",
    "    \n",
    "    if(a == 5):\n",
    "        ax_residsfinal.text(15, len(viz_biassusc_final[viz_variants_GCsorted]), \"bias-adjusted residuals\", c='k', verticalalignment='bottom', horizontalalignment='left', rotation=90, fontsize=6, weight='bold', zorder=100)\n",
    "    \n",
    "    #--------------------\n",
    "    \n",
    "    boxplot_fitnesses = []\n",
    "    \n",
    "    box_positions = [0.8, 1.2, 1.8, 2.2, 2.8, 3.2]\n",
    "    \n",
    "    for g, group in enumerate(vizGroups_fig4B):\n",
    "        viz_fitnesses_orig_g = np.array([])\n",
    "        viz_fitnesses_final_g = np.array([])\n",
    "        for ai, assay in enumerate(assays_figSI_aset):\n",
    "            viz_fitnesses_orig_g  = np.hstack([viz_fitnesses_orig_g, viz_fitnesses_orig[group].loc[:, assay].values])\n",
    "            viz_fitnesses_final_g = np.hstack([viz_fitnesses_final_g, viz_fitnesses_final[group].loc[:, assay].values])\n",
    "            \n",
    "        pvalue = scipy.stats.levene(viz_fitnesses_orig_g, viz_fitnesses_final_g).pvalue\n",
    "        if(pvalue < 0.05):\n",
    "            ax_fitnessdistns.text(np.percentile(viz_fitnesses_final_g, 99)+(0.125), box_positions[::-1][2*g+1]-0.15, \"*\", verticalalignment='center', horizontalalignment='center', fontsize=6, color=groups_colors[group])\n",
    "            \n",
    "        boxplot_fitnesses.append(viz_fitnesses_orig_g)\n",
    "        boxplot_fitnesses.append(viz_fitnesses_final_g)\n",
    "    \n",
    "    bplot = ax_fitnessdistns.boxplot(boxplot_fitnesses[::-1], vert=False, positions=box_positions, widths=0.25, showcaps=False, showfliers=False, patch_artist=True,\n",
    "                                boxprops=dict(linewidth=0.66, facecolor='r'), whiskerprops=dict(linewidth=0.66), medianprops=dict(linewidth=0.66))\n",
    "    \n",
    "    boxshadealpha = 0.5\n",
    "    for i, patch in enumerate(bplot['boxes'][::-1]):\n",
    "        patch.set_facecolor(list(groups_colors[vizGroups_fig4B[int(i/2)]])+[boxshadealpha*(i%2)])\n",
    "        patch.set_edgecolor(groups_colors[vizGroups_fig4B[int(i/2)]])\n",
    "    for i, patch in enumerate(bplot['whiskers'][::-1]):\n",
    "        patch.set_color(groups_colors[vizGroups_fig4B[int(i/4)]])\n",
    "    for i, patch in enumerate(bplot['medians'][::-1]):\n",
    "        patch.set_color(groups_colors[vizGroups_fig4B[int(i/2)]])\n",
    "    \n",
    "    ax_fitnessdistns.set_xlim((-1.05, 1.05))\n",
    "    ax_fitnessdistns.set_xticks([-1, 0, 1])\n",
    "    ax_fitnessdistns.set_xticklabels([-1, 0, 1], fontsize=5)\n",
    "    ax_fitnessdistns.set_xlabel('')\n",
    "    ax_fitnessdistns.set_yticks(box_positions if a==0 else []) # if c!=0 else [1, 2, 3])\n",
    "    ax_fitnessdistns.set_yticklabels(['pre', 'post', 'pre', 'post', 'pre', 'post'][::-1] if a==0 else [], fontsize=5) \n",
    "    ax_fitnessdistns.set_ylabel('')    \n",
    "    ax_fitnessdistns.tick_params(width=0.5, length=1.33, pad=2)\n",
    "    \n",
    "    ax_fitnessdistns.set_facecolor('#fff')\n",
    "    \n",
    "    for spine in ax_fitnessdistns.spines.values():\n",
    "        spine.set_edgecolor('#000')\n",
    "        spine.set_linewidth(0.5)\n",
    "    \n",
    "\n",
    "    \n",
    "    if(a == 3):\n",
    "        ax_fitnessdistns.text(-0.6, -0.835, \"fitness estimates\", c='k', verticalalignment='center', horizontalalignment='center', rotation=0, fontsize=6, zorder=100)\n",
    "\n",
    "    #--------------------\n",
    "    \n",
    "    for g, group in enumerate(['Diploid', 'GPB2', 'PDE2']):\n",
    "        \n",
    "        viz_fEpsilons_g_allReps = np.concatenate([viz_fEpsilons[group].loc[:, assay].values for assay in assays_figSI_aset])\n",
    "        viz_fDeltas_g_allReps   = np.concatenate([viz_fDeltas[group].loc[:, assay].values for assay in assays_figSI_aset])\n",
    "    \n",
    "        sns.regplot(ax=ax_fitnessdeltas, x=viz_fEpsilons_g_allReps, y=-1*viz_fDeltas_g_allReps, ci=0, \n",
    "                    color=groups_colors[group], marker=('o' if 'Diploid' in group else 'o'), label=f\"{group}\", \n",
    "                    scatter_kws={'alpha': 0.33 if group=='Diploid' else 1.0, 's': 1, 'lw': 0, 'zorder': g}, line_kws={'lw': 0.66, 'zorder': g})\n",
    "        \n",
    "    # ax_fitnessdeltas.set_xticks([])\n",
    "    ax_fitnessdeltas.set_xlabel('')\n",
    "    # ax_fitnessdeltas.set_yticks([])\n",
    "    ax_fitnessdeltas.set_ylabel('')    \n",
    "    # ax_fitnessdeltas.get_legend().remove()\n",
    "    \n",
    "    ax_fitnessdeltas.set_xlim((-1.05, 1.05))\n",
    "    ax_fitnessdeltas.set_xticks([-1, 0, 1])\n",
    "    ax_fitnessdeltas.set_xticklabels([-1, 0, 1], fontsize=5)\n",
    "    ax_fitnessdeltas.set_ylim((-1.05, 1.05))\n",
    "    ax_fitnessdeltas.set_yticks([-1, 0, 1] if c==0 else [])\n",
    "    ax_fitnessdeltas.set_yticklabels([-1, 0, 1] if c==0 else [], fontsize=5)\n",
    "    \n",
    "    ax_fitnessdeltas.tick_params(width=0.5, length=1.33, pad=2)\n",
    "    \n",
    "    for spine in ax_fitnessdeltas.spines.values():\n",
    "        spine.set_edgecolor('#000')\n",
    "        spine.set_linewidth(0.5)\n",
    "    \n",
    "    if(a == len(assaysets_figSI)-1):\n",
    "        ax_fitnessdeltas.text(1.0, 1.39, \"$~~~~~$Diploid$~~~~~~$GPB2$~~~~~~$PDE2\", verticalalignment='center', horizontalalignment='right', fontsize=4.5, zorder=100, bbox=dict(pad=1.25, fc='w', ec='#ddd', lw=0.5), clip_on=False)\n",
    "        ax_fitnessdeltas.plot([0.30, 0.50], [1.39, 1.39], c=groups_colors['PDE2'], lw=1, zorder=200, clip_on=False)\n",
    "        ax_fitnessdeltas.plot([-0.5, -0.3], [1.39, 1.39], c=groups_colors['GPB2'], lw=1, zorder=200, clip_on=False)\n",
    "        ax_fitnessdeltas.plot([-1.35, -1.15], [1.39, 1.39], c=groups_colors['Diploid'], lw=1, zorder=200, clip_on=False)\n",
    "            \n",
    "    if(a == 0):\n",
    "        ax_fitnessdeltas.set_ylabel(\"correction ($\\Delta f$)\", labelpad=0, fontsize=6)        \n",
    "    if(a == 3):\n",
    "        ax_fitnessdeltas.text(-1.1, -1.6, \"initial fitness misestimation ($\\delta f$)\", c='k', verticalalignment='center', horizontalalignment='center', rotation=0, fontsize=6, zorder=100)\n",
    "    \n",
    "    \n",
    "\n",
    "    \n",
    "\n",
    "ax_cbar_resids.set_yticks([-1, 1])\n",
    "ax_cbar_resids.set_yticklabels([-1, 1], fontsize=4)\n",
    "ax_cbar_resids.set_ylabel(\"residuals\", fontsize=5, labelpad=-3)\n",
    "ax_cbar_resids.tick_params(width=0.5, length=1.33, pad=1)\n",
    "ax_cbar_bias.set_yticks([-1, 1])\n",
    "ax_cbar_bias.set_yticklabels([-1, 1], fontsize=4)\n",
    "ax_cbar_bias.set_ylabel(\"bias\", fontsize=5, labelpad=-3)\n",
    "ax_cbar_bias.tick_params(width=0.5, length=1.33, pad=1)\n",
    "for spine in ax_cbar_resids.spines.values():\n",
    "    spine.set(visible=True, lw=.3, edgecolor=\"black\")\n",
    "for spine in ax_cbar_bias.spines.values():\n",
    "    spine.set(visible=True, lw=.3, edgecolor=\"black\")\n",
    "\n",
    "\n",
    "\n",
    "sns.heatmap(ax=ax_biassusc, data=np.atleast_2d(viz_biassusc_final[viz_variants_GCsorted]).T, cmap=biasCmapW, center=0, vmin=-1.5, vmax=1.5, cbar=False)\n",
    "ax_biassusc.set_xticks([])\n",
    "ax_biassusc.set_yticks([])\n",
    "ax_biassusc.set_xticklabels([])\n",
    "ax_biassusc.set_yticklabels([])\n",
    "ax_biassusc.set_xlabel('')\n",
    "ax_biassusc.set_ylabel('')\n",
    "ax_biassusc.text(-1.25, len(viz_biassusc_final[viz_variants_GCsorted])/2, \"inferred bias susceptibility\", c='k', verticalalignment='center', horizontalalignment='center', rotation=90, fontsize=6, weight='bold', zorder=100)\n",
    "for spine in ax_biassusc.spines.values():\n",
    "    spine.set(visible=True, lw=.4, edgecolor=\"black\")\n",
    "ax_biassusc.axis('tight')\n",
    "\n",
    "ax_biassusc.text(-1.25, -470, \"A\", verticalalignment='top', horizontalalignment='center', fontsize=7, weight='bold', rotation=0)\n",
    "ax_biassusc.text(-1.25, -55, \"B\", verticalalignment='top', horizontalalignment='center', fontsize=7, weight='bold', rotation=0)\n",
    "ax_biassusc.text(-1.25, 405, \"C\", verticalalignment='top', horizontalalignment='center', fontsize=7, weight='bold', rotation=0)\n",
    "ax_biassusc.text(-1.25, 615, \"D\", verticalalignment='top', horizontalalignment='center', fontsize=7, weight='bold', rotation=0)\n",
    "\n",
    "plt.show()"
   ]
  },
  {
   "cell_type": "code",
   "execution_count": null,
   "metadata": {},
   "outputs": [],
   "source": [
    "figSI.savefig(f\"figSI-residsfitnesses-pt1_{date}.png\", dpi=300)"
   ]
  },
  {
   "cell_type": "code",
   "execution_count": null,
   "metadata": {},
   "outputs": [],
   "source": [
    "# stop"
   ]
  },
  {
   "cell_type": "code",
   "execution_count": null,
   "metadata": {},
   "outputs": [],
   "source": [
    "assaysets_figSI = ['Baffled', '1.4%Gluc', '1.6%Gluc', '1.8%Gluc', '0.5%Raf', '1.5%Suc1%Raf'] #, '0.2MKCl', '0.5MKCl', 'M3']\n",
    "# assaysets_figSI = list(set([col.split('-')[0] for col in viz_fitnesses_final['all'].columns if 'EC' not in col.split('-')[0]]))[::-1]\n",
    "assaysets_figSI"
   ]
  },
  {
   "cell_type": "code",
   "execution_count": null,
   "metadata": {},
   "outputs": [],
   "source": [
    "viz_assays = np.concatenate([[col for col in viz_fitnesses_orig['Diploid'].columns if assayset in col] for assayset in assaysets_figSI])\n",
    "viz_assays"
   ]
  },
  {
   "cell_type": "code",
   "execution_count": null,
   "metadata": {},
   "outputs": [],
   "source": [
    "viz_samples = np.concatenate([[col for col in viz_resids_orig.columns if assayset in col] for assayset in assaysets_figSI])\n",
    "viz_samples\n",
    "print(len(viz_samples))"
   ]
  },
  {
   "cell_type": "code",
   "execution_count": null,
   "metadata": {},
   "outputs": [],
   "source": [
    "figsize = (7.0, 7.0) \n",
    "figSI = plt.figure(constrained_layout=True, figsize=figsize, dpi=200) # 250\n",
    "\n",
    "gridsize = (int(figsize[0]*10), int(figsize[1]*10))\n",
    "gs = figSI.add_gridspec(gridsize[1], gridsize[0], wspace=0.0, hspace=0.0, width_ratios=[1]*gridsize[1], height_ratios=[1]*gridsize[0])\n",
    "\n",
    "\n",
    "grid = {'assaysetlabel': {'y0': 0,  'yf': 2},\n",
    "        'residsorig':    {'y0': 3,  'yf': 22},\n",
    "        'biasprev':      {'y0': 26, 'yf': 27},\n",
    "        'biassusc':      {'y0': 28, 'yf': 47},\n",
    "        'residsfinal':   {'y0': 28, 'yf': 47},\n",
    "        'fitnessdistns': {'y0': 50, 'yf': 57},\n",
    "        'fitnessdeltas': {'y0': 61, 'yf': gridsize[1]}}\n",
    "\n",
    "# ax_wut = figSI.add_subplot(gs[0:1, 0:1])\n",
    "# ax_wut2 = figSI.add_subplot(gs[1:2, 1:2])\n",
    "\n",
    "ax_biassusc    = figSI.add_subplot(gs[grid['biassusc']['y0']:grid['biassusc']['yf'], 0:1])\n",
    " \n",
    "\n",
    "    \n",
    "\n",
    "# ax_cbar_biasorig    = figSI.add_subplot(gs[grid['residsorig']['y0']:13, -1:])\n",
    "ax_cbar_resids  = figSI.add_subplot(gs[16:grid['residsorig']['yf'], -2:-1])\n",
    "ax_cbar_bias   = figSI.add_subplot(gs[grid['residsfinal']['y0']:34, -2:-1])\n",
    "# ax_cbar_residsfinal = figSI.add_subplot(gs[39:grid['residsfinal']['yf'], -1:])\n",
    "\n",
    "\n",
    "for a, assayset in enumerate(assaysets_figSI):\n",
    "    print(assayset)\n",
    "    \n",
    "    # if(a != 0 and a != 5):\n",
    "    #     continue\n",
    "    \n",
    "    assays_figSI_aset  = [col for col in viz_fitnesses_final['all'].columns if assayset in col]\n",
    "    samples_figSI_aset = [col for col in viz_resids_final.columns if assayset in col][1:]\n",
    "    print(assays_figSI_aset)\n",
    "    print(len(samples_figSI_aset))\n",
    "    \n",
    "    col_w = 10\n",
    "    col_x = 2 + (a*col_w)+(a*1)\n",
    "    \n",
    "    print(f\"{col_x}:{col_x+col_w}\")\n",
    "    \n",
    "    ax_assaysetlabel = figSI.add_subplot(gs[grid['assaysetlabel']['y0']:grid['assaysetlabel']['yf'], col_x:col_x+col_w])\n",
    "    ax_residsorig    = figSI.add_subplot(gs[grid['residsorig']['y0']:grid['residsorig']['yf'], col_x:col_x+col_w])\n",
    "    ax_biasprev      = figSI.add_subplot(gs[grid['biasprev']['y0']:grid['biasprev']['yf'], col_x:col_x+col_w])\n",
    "    ax_residsfinal   = figSI.add_subplot(gs[grid['residsfinal']['y0']:grid['residsfinal']['yf'], col_x:col_x+col_w])\n",
    "    ax_fitnessdistns = figSI.add_subplot(gs[grid['fitnessdistns']['y0']:grid['fitnessdistns']['yf'], col_x:col_x+col_w])\n",
    "    ax_fitnessdeltas = figSI.add_subplot(gs[grid['fitnessdeltas']['y0']:grid['fitnessdeltas']['yf']:, col_x:col_x+col_w])\n",
    "    \n",
    "    #--------------------\n",
    "    \n",
    "    ax_assaysetlabel.text(0.5, 0.5, assay_relabels[f\"{assayset}\"], c='k', verticalalignment='center', horizontalalignment='center', rotation=0, fontsize=6, zorder=100)    \n",
    "    ax_assaysetlabel.set_facecolor('#eee')\n",
    "    ax_assaysetlabel.set_xticks([])\n",
    "    ax_assaysetlabel.set_yticks([])\n",
    "    for spine in ax_assaysetlabel.spines.values():\n",
    "        spine.set(visible=True, lw=0, edgecolor=\"white\")\n",
    "    \n",
    "    #--------------------\n",
    "    \n",
    "    df_residsorig = viz_resids_orig.loc[viz_variants_GCsorted, samples_figSI_aset]\n",
    "    if(len(samples_figSI_aset) < 14):\n",
    "        df_residsorig = df_residsorig.reindex(columns=np.concatenate([df_residsorig.columns, ['empty']*int(14-len(samples_figSI_aset))]))\n",
    "    hm_residsorig = sns.heatmap(ax=ax_residsorig, data=df_residsorig, cmap=residCmapW, center=0, vmin=-1, vmax=1,  #.shift(-1, axis=1)\n",
    "                                cbar=(a==0), cbar_ax=ax_cbar_resids, cbar_kws={'label':\"residuals\", 'drawedges':False, 'ticks':[-1, 1], 'aspect': 20})\n",
    "    \n",
    "    ax_residsorig.set_xticks([])\n",
    "    ax_residsorig.set_yticks([])\n",
    "    \n",
    "    ax_residsorig.text(2.75 if len(samples_figSI_aset) == 14 else 1.75, len(viz_variants_GCsorted)+7, f\"rep1\", c='#999', verticalalignment='top', horizontalalignment='center', rotation=0, fontsize=5, zorder=100)\n",
    "    if(any('R2' in assay for assay in assays_figSI_aset)):\n",
    "        ax_residsorig.text(7, len(viz_variants_GCsorted)+7, f\"rep2\", c='#999', verticalalignment='top', horizontalalignment='center', rotation=0, fontsize=5, zorder=100)\n",
    "    if(any('R3' in assay for assay in assays_figSI_aset)):\n",
    "        ax_residsorig.text(12.25, len(viz_variants_GCsorted)+7, f\"rep3\", c='#999', verticalalignment='top', horizontalalignment='center', rotation=0, fontsize=5, zorder=100)\n",
    "    \n",
    "    if(a == 5):\n",
    "        ax_residsorig.text(15, 0, \"observed residuals\", c='k', verticalalignment='top', horizontalalignment='left', rotation=90, fontsize=6, weight='bold', zorder=100)    \n",
    "    \n",
    "    #--------------------\n",
    "    \n",
    "    df_biasprev = viz_biasprev_final[samples_figSI_aset]\n",
    "    if(len(samples_figSI_aset) < 14):\n",
    "        df_biasprev = df_biasprev.reindex(columns=np.concatenate([df_biasprev.columns, ['empty']*int(14-len(samples_figSI_aset))]))\n",
    "    hm_biasprev = sns.heatmap(ax=ax_biasprev, data=df_biasprev, cmap=biasCmapW, center=0, vmin=-1.5, vmax=1.5, square=False, linewidths=0.0, linecolor='w',\n",
    "                              cbar=(a==0), cbar_ax=ax_cbar_bias, cbar_kws={'label':\"bias\", 'drawedges':False, 'ticks':[-1, 1]})\n",
    "    \n",
    "    ax_biasprev.set_xticks([])\n",
    "    ax_biasprev.set_yticks([])\n",
    "    ax_biasprev.add_patch(mpatches.Rectangle(xy=(0, 0), width=15, height=0.4, fc='w', ec='w', lw=0.0, clip_on=False, zorder=99))\n",
    "    ax_biasprev.add_patch(mpatches.Rectangle(xy=(0*(14+1)/3+0.02, 0.405), width=((14+1)/3 - 1)*0.97, height=1-0.405, fc='#ffffff00', ec='k', lw=0.4, clip_on=False, zorder=99))\n",
    "    if(any('R2' in assay for assay in assays_figSI_aset)):\n",
    "        ax_biasprev.add_patch(mpatches.Rectangle(xy=(1*(14+1)/3+0.02, 0.405), width=((14+1)/3 - 1)*0.97, height=1-0.405, fc='#ffffff00', ec='k', lw=0.4, clip_on=False, zorder=99))\n",
    "    if(any('R3' in assay for assay in assays_figSI_aset)):\n",
    "        ax_biasprev.add_patch(mpatches.Rectangle(xy=(2*(14+1)/3+0.02, 0.405), width=((14+1)/3 - 1)*0.97, height=1-0.405, fc='#ffffff00', ec='k', lw=0.4, clip_on=False, zorder=99))    \n",
    "    \n",
    "    if(a == 3):\n",
    "        ax_biasprev.text(0, -0.7, \"inferred bias prevalence\", c='k', verticalalignment='center', horizontalalignment='center', rotation=0, fontsize=6, weight='bold', zorder=100)\n",
    "    \n",
    "    #--------------------\n",
    "    \n",
    "    df_residsfinal = viz_resids_final.loc[viz_variants_GCsorted, samples_figSI_aset]\n",
    "    if(len(samples_figSI_aset) < 14):\n",
    "        df_residsfinal = df_residsfinal.reindex(columns=np.concatenate([df_residsfinal.columns, ['empty']*int(14-len(samples_figSI_aset))]))\n",
    "    hm_residsfinal = sns.heatmap(ax=ax_residsfinal, data=df_residsfinal, cmap=residCmapW, center=0, vmin=-1, vmax=1, cbar=False)\n",
    "    \n",
    "    ax_residsfinal.set_xticks([])\n",
    "    ax_residsfinal.set_yticks([])\n",
    "    \n",
    "    ax_residsfinal.text(2.75 if len(samples_figSI_aset) == 14 else 1.75, len(viz_variants_GCsorted)+7, f\"rep1\", c='#999', verticalalignment='top', horizontalalignment='center', rotation=0, fontsize=5, zorder=100)\n",
    "    if(any('R2' in assay for assay in assays_figSI_aset)):\n",
    "        ax_residsfinal.text(7, len(viz_variants_GCsorted)+7, f\"rep2\", c='#999', verticalalignment='top', horizontalalignment='center', rotation=0, fontsize=5, zorder=100)\n",
    "    if(any('R3' in assay for assay in assays_figSI_aset)):\n",
    "        ax_residsfinal.text(12.25, len(viz_variants_GCsorted)+7, f\"rep3\", c='#999', verticalalignment='top', horizontalalignment='center', rotation=0, fontsize=5, zorder=100)\n",
    "    \n",
    "    if(a == 5):\n",
    "        ax_residsfinal.text(15, len(viz_biassusc_final[viz_variants_GCsorted]), \"bias-adjusted residuals\", c='k', verticalalignment='bottom', horizontalalignment='left', rotation=90, fontsize=6, weight='bold', zorder=100)\n",
    "    \n",
    "    #--------------------\n",
    "    \n",
    "    boxplot_fitnesses = []\n",
    "    \n",
    "    box_positions = [0.8, 1.2, 1.8, 2.2, 2.8, 3.2]\n",
    "    \n",
    "    for g, group in enumerate(vizGroups_fig4B):\n",
    "        viz_fitnesses_orig_g = np.array([])\n",
    "        viz_fitnesses_final_g = np.array([])\n",
    "        for ai, assay in enumerate(assays_figSI_aset):\n",
    "            viz_fitnesses_orig_g  = np.hstack([viz_fitnesses_orig_g, viz_fitnesses_orig[group].loc[:, assay].values])\n",
    "            viz_fitnesses_final_g = np.hstack([viz_fitnesses_final_g, viz_fitnesses_final[group].loc[:, assay].values])\n",
    "            \n",
    "        pvalue = scipy.stats.levene(viz_fitnesses_orig_g, viz_fitnesses_final_g).pvalue\n",
    "        if(pvalue < 0.05):\n",
    "            ax_fitnessdistns.text(np.percentile(viz_fitnesses_final_g, 99)+(0.125), box_positions[::-1][2*g+1]-0.15, \"*\", verticalalignment='center', horizontalalignment='center', fontsize=6, color=groups_colors[group])\n",
    "            \n",
    "        boxplot_fitnesses.append(viz_fitnesses_orig_g)\n",
    "        boxplot_fitnesses.append(viz_fitnesses_final_g)\n",
    "    \n",
    "    bplot = ax_fitnessdistns.boxplot(boxplot_fitnesses[::-1], vert=False, positions=box_positions, widths=0.25, showcaps=False, showfliers=False, patch_artist=True,\n",
    "                                boxprops=dict(linewidth=0.66, facecolor='r'), whiskerprops=dict(linewidth=0.66), medianprops=dict(linewidth=0.66))\n",
    "    \n",
    "    boxshadealpha = 0.5\n",
    "    for i, patch in enumerate(bplot['boxes'][::-1]):\n",
    "        patch.set_facecolor(list(groups_colors[vizGroups_fig4B[int(i/2)]])+[boxshadealpha*(i%2)])\n",
    "        patch.set_edgecolor(groups_colors[vizGroups_fig4B[int(i/2)]])\n",
    "    for i, patch in enumerate(bplot['whiskers'][::-1]):\n",
    "        patch.set_color(groups_colors[vizGroups_fig4B[int(i/4)]])\n",
    "    for i, patch in enumerate(bplot['medians'][::-1]):\n",
    "        patch.set_color(groups_colors[vizGroups_fig4B[int(i/2)]])\n",
    "    \n",
    "    ax_fitnessdistns.set_xlim((-1.05, 1.05))\n",
    "    ax_fitnessdistns.set_xticks([-1, 0, 1])\n",
    "    ax_fitnessdistns.set_xticklabels([-1, 0, 1], fontsize=5)\n",
    "    ax_fitnessdistns.set_xlabel('')\n",
    "    ax_fitnessdistns.set_yticks(box_positions if a==0 else []) # if c!=0 else [1, 2, 3])\n",
    "    ax_fitnessdistns.set_yticklabels(['pre', 'post', 'pre', 'post', 'pre', 'post'][::-1] if a==0 else [], fontsize=5) \n",
    "    ax_fitnessdistns.set_ylabel('')    \n",
    "    ax_fitnessdistns.tick_params(width=0.5, length=1.33, pad=2)\n",
    "    \n",
    "    ax_fitnessdistns.set_facecolor('#fff')\n",
    "    \n",
    "    for spine in ax_fitnessdistns.spines.values():\n",
    "        spine.set_edgecolor('#000')\n",
    "        spine.set_linewidth(0.5)\n",
    "    \n",
    "\n",
    "    \n",
    "    if(a == 3):\n",
    "        ax_fitnessdistns.text(-0.6, -0.835, \"fitness estimates\", c='k', verticalalignment='center', horizontalalignment='center', rotation=0, fontsize=6, zorder=100)\n",
    "\n",
    "    #--------------------\n",
    "    \n",
    "    for g, group in enumerate(['Diploid', 'GPB2', 'PDE2']):\n",
    "        \n",
    "        viz_fEpsilons_g_allReps = np.concatenate([viz_fEpsilons[group].loc[:, assay].values for assay in assays_figSI_aset])\n",
    "        viz_fDeltas_g_allReps   = np.concatenate([viz_fDeltas[group].loc[:, assay].values for assay in assays_figSI_aset])\n",
    "    \n",
    "        sns.regplot(ax=ax_fitnessdeltas, x=viz_fEpsilons_g_allReps, y=-1*viz_fDeltas_g_allReps, ci=0, \n",
    "                    color=groups_colors[group], marker=('o' if 'Diploid' in group else 'o'), label=f\"{group}\", \n",
    "                    scatter_kws={'alpha': 0.33 if group=='Diploid' else 1.0, 's': 1, 'lw': 0, 'zorder': g}, line_kws={'lw': 0.66, 'zorder': g})\n",
    "        \n",
    "    # ax_fitnessdeltas.set_xticks([])\n",
    "    ax_fitnessdeltas.set_xlabel('')\n",
    "    # ax_fitnessdeltas.set_yticks([])\n",
    "    ax_fitnessdeltas.set_ylabel('')    \n",
    "    # ax_fitnessdeltas.get_legend().remove()\n",
    "    \n",
    "    ax_fitnessdeltas.set_xlim((-1.05, 1.05))\n",
    "    ax_fitnessdeltas.set_xticks([-1, 0, 1])\n",
    "    ax_fitnessdeltas.set_xticklabels([-1, 0, 1], fontsize=5)\n",
    "    ax_fitnessdeltas.set_ylim((-1.05, 1.05))\n",
    "    ax_fitnessdeltas.set_yticks([-1, 0, 1] if c==0 else [])\n",
    "    ax_fitnessdeltas.set_yticklabels([-1, 0, 1] if c==0 else [], fontsize=5)\n",
    "    \n",
    "    ax_fitnessdeltas.tick_params(width=0.5, length=1.33, pad=2)\n",
    "    \n",
    "    for spine in ax_fitnessdeltas.spines.values():\n",
    "        spine.set_edgecolor('#000')\n",
    "        spine.set_linewidth(0.5)\n",
    "    \n",
    "    if(a == len(assaysets_figSI)-1):\n",
    "        ax_fitnessdeltas.text(1.0, 1.39, \"$~~~~~$Diploid$~~~~~~$GPB2$~~~~~~$PDE2\", verticalalignment='center', horizontalalignment='right', fontsize=4.5, zorder=100, bbox=dict(pad=1.25, fc='w', ec='#ddd', lw=0.5), clip_on=False)\n",
    "        ax_fitnessdeltas.plot([0.30, 0.50], [1.39, 1.39], c=groups_colors['PDE2'], lw=1, zorder=200, clip_on=False)\n",
    "        ax_fitnessdeltas.plot([-0.5, -0.3], [1.39, 1.39], c=groups_colors['GPB2'], lw=1, zorder=200, clip_on=False)\n",
    "        ax_fitnessdeltas.plot([-1.35, -1.15], [1.39, 1.39], c=groups_colors['Diploid'], lw=1, zorder=200, clip_on=False)\n",
    "            \n",
    "    if(a == 0):\n",
    "        ax_fitnessdeltas.set_ylabel(\"correction ($\\Delta f$)\", labelpad=0, fontsize=6)        \n",
    "    if(a == 3):\n",
    "        ax_fitnessdeltas.text(-1.1, -1.6, \"initial fitness misestimation ($\\delta f$)\", c='k', verticalalignment='center', horizontalalignment='center', rotation=0, fontsize=6, zorder=100)\n",
    "    \n",
    "    # break\n",
    "\n",
    "    \n",
    "\n",
    "ax_cbar_resids.set_yticks([-1, 1])\n",
    "ax_cbar_resids.set_yticklabels([-1, 1], fontsize=4)\n",
    "ax_cbar_resids.set_ylabel(\"residuals\", fontsize=5, labelpad=-3)\n",
    "ax_cbar_resids.tick_params(width=0.5, length=1.33, pad=1)\n",
    "ax_cbar_bias.set_yticks([-1, 1])\n",
    "ax_cbar_bias.set_yticklabels([-1, 1], fontsize=4)\n",
    "ax_cbar_bias.set_ylabel(\"bias\", fontsize=5, labelpad=-3)\n",
    "ax_cbar_bias.tick_params(width=0.5, length=1.33, pad=1)\n",
    "for spine in ax_cbar_resids.spines.values():\n",
    "    spine.set(visible=True, lw=.3, edgecolor=\"black\")\n",
    "for spine in ax_cbar_bias.spines.values():\n",
    "    spine.set(visible=True, lw=.3, edgecolor=\"black\")\n",
    "\n",
    "\n",
    "\n",
    "sns.heatmap(ax=ax_biassusc, data=np.atleast_2d(viz_biassusc_final[viz_variants_GCsorted]).T, cmap=biasCmapW, center=0, vmin=-1.5, vmax=1.5, cbar=False)\n",
    "ax_biassusc.set_xticks([])\n",
    "ax_biassusc.set_yticks([])\n",
    "ax_biassusc.set_xticklabels([])\n",
    "ax_biassusc.set_yticklabels([])\n",
    "ax_biassusc.set_xlabel('')\n",
    "ax_biassusc.set_ylabel('')\n",
    "ax_biassusc.text(-1.25, len(viz_biassusc_final[viz_variants_GCsorted])/2, \"inferred bias susceptibility\", c='k', verticalalignment='center', horizontalalignment='center', rotation=90, fontsize=6, weight='bold', zorder=100)\n",
    "for spine in ax_biassusc.spines.values():\n",
    "    spine.set(visible=True, lw=.4, edgecolor=\"black\")\n",
    "ax_biassusc.axis('tight')\n",
    "\n",
    "ax_biassusc.text(-1.25, -470, \"A\", verticalalignment='top', horizontalalignment='center', fontsize=7, weight='bold', rotation=0)\n",
    "ax_biassusc.text(-1.25, -55, \"B\", verticalalignment='top', horizontalalignment='center', fontsize=7, weight='bold', rotation=0)\n",
    "ax_biassusc.text(-1.25, 405, \"C\", verticalalignment='top', horizontalalignment='center', fontsize=7, weight='bold', rotation=0)\n",
    "ax_biassusc.text(-1.25, 615, \"D\", verticalalignment='top', horizontalalignment='center', fontsize=7, weight='bold', rotation=0)\n",
    "\n",
    "plt.show()"
   ]
  },
  {
   "cell_type": "code",
   "execution_count": null,
   "metadata": {},
   "outputs": [],
   "source": [
    "figSI.savefig(f\"figSI-residsfitnesses-pt2_{date}.png\", dpi=300)"
   ]
  },
  {
   "cell_type": "code",
   "execution_count": null,
   "metadata": {},
   "outputs": [],
   "source": [
    "# stop"
   ]
  },
  {
   "cell_type": "code",
   "execution_count": null,
   "metadata": {},
   "outputs": [],
   "source": [
    "assaysets_figSI = ['0.2MKCl', '0.5MKCl', 'M3'] # ['Baffled', '1.4%Gluc', '1.6%Gluc', '1.8%Gluc', '0.5%Raf', '1.5%Suc1%Raf'] #, \n",
    "# assaysets_figSI = list(set([col.split('-')[0] for col in viz_fitnesses_final['all'].columns if 'EC' not in col.split('-')[0]]))[::-1]\n",
    "assaysets_figSI"
   ]
  },
  {
   "cell_type": "code",
   "execution_count": null,
   "metadata": {},
   "outputs": [],
   "source": [
    "viz_assays = np.concatenate([[col for col in viz_fitnesses_orig['Diploid'].columns if assayset in col] for assayset in assaysets_figSI])\n",
    "viz_assays"
   ]
  },
  {
   "cell_type": "code",
   "execution_count": null,
   "metadata": {},
   "outputs": [],
   "source": [
    "viz_samples = np.concatenate([[col for col in viz_resids_orig.columns if assayset in col] for assayset in assaysets_figSI])\n",
    "viz_samples\n",
    "print(len(viz_samples))"
   ]
  },
  {
   "cell_type": "code",
   "execution_count": null,
   "metadata": {},
   "outputs": [],
   "source": [
    "figsize = (7.0, 7.0) \n",
    "figSI = plt.figure(constrained_layout=True, figsize=figsize, dpi=200) # 250\n",
    "\n",
    "gridsize = (int(figsize[0]*10), int(figsize[1]*10))\n",
    "gs = figSI.add_gridspec(gridsize[1], gridsize[0], wspace=0.0, hspace=0.0, width_ratios=[1]*gridsize[1], height_ratios=[1]*gridsize[0])\n",
    "\n",
    "\n",
    "grid = {'assaysetlabel': {'y0': 0,  'yf': 2},\n",
    "        'residsorig':    {'y0': 3,  'yf': 22},\n",
    "        'biasprev':      {'y0': 26, 'yf': 27},\n",
    "        'biassusc':      {'y0': 28, 'yf': 47},\n",
    "        'residsfinal':   {'y0': 28, 'yf': 47},\n",
    "        'fitnessdistns': {'y0': 50, 'yf': 57},\n",
    "        'fitnessdeltas': {'y0': 61, 'yf': gridsize[1]}}\n",
    "\n",
    "# ax_wut = figSI.add_subplot(gs[0:1, 0:1])\n",
    "# ax_wut2 = figSI.add_subplot(gs[1:2, 1:2])\n",
    "\n",
    "ax_biassusc    = figSI.add_subplot(gs[grid['biassusc']['y0']:grid['biassusc']['yf'], 0:1])\n",
    " \n",
    "\n",
    "    \n",
    "\n",
    "# ax_cbar_biasorig    = figSI.add_subplot(gs[grid['residsorig']['y0']:13, -1:])\n",
    "ax_cbar_resids  = figSI.add_subplot(gs[16:grid['residsorig']['yf'], 35:36])\n",
    "ax_cbar_bias   = figSI.add_subplot(gs[grid['residsfinal']['y0']:34, 35:36])\n",
    "# ax_cbar_residsfinal = figSI.add_subplot(gs[39:grid['residsfinal']['yf'], -1:])\n",
    "\n",
    "\n",
    "for a, assayset in enumerate(assaysets_figSI):\n",
    "    print(assayset)\n",
    "    \n",
    "    # if(a != 0 and a != 5):\n",
    "    #     continue\n",
    "    \n",
    "    assays_figSI_aset  = [col for col in viz_fitnesses_final['all'].columns if assayset in col]\n",
    "    samples_figSI_aset = [col for col in viz_resids_final.columns if assayset in col][1:]\n",
    "    print(assays_figSI_aset)\n",
    "    print(len(samples_figSI_aset))\n",
    "    \n",
    "    col_w = 10\n",
    "    col_x = 2 + (a*col_w)+(a*1)\n",
    "    \n",
    "    print(f\"{col_x}:{col_x+col_w}\")\n",
    "    \n",
    "    ax_assaysetlabel = figSI.add_subplot(gs[grid['assaysetlabel']['y0']:grid['assaysetlabel']['yf'], col_x:col_x+col_w])\n",
    "    ax_residsorig    = figSI.add_subplot(gs[grid['residsorig']['y0']:grid['residsorig']['yf'], col_x:col_x+col_w])\n",
    "    ax_biasprev      = figSI.add_subplot(gs[grid['biasprev']['y0']:grid['biasprev']['yf'], col_x:col_x+col_w])\n",
    "    ax_residsfinal   = figSI.add_subplot(gs[grid['residsfinal']['y0']:grid['residsfinal']['yf'], col_x:col_x+col_w])\n",
    "    ax_fitnessdistns = figSI.add_subplot(gs[grid['fitnessdistns']['y0']:grid['fitnessdistns']['yf'], col_x:col_x+col_w])\n",
    "    ax_fitnessdeltas = figSI.add_subplot(gs[grid['fitnessdeltas']['y0']:grid['fitnessdeltas']['yf']:, col_x:col_x+col_w])\n",
    "    \n",
    "    #--------------------\n",
    "    \n",
    "    ax_assaysetlabel.text(0.5, 0.5, assay_relabels[f\"{assayset}\"], c='k', verticalalignment='center', horizontalalignment='center', rotation=0, fontsize=6, zorder=100)    \n",
    "    ax_assaysetlabel.set_facecolor('#eee')\n",
    "    ax_assaysetlabel.set_xticks([])\n",
    "    ax_assaysetlabel.set_yticks([])\n",
    "    for spine in ax_assaysetlabel.spines.values():\n",
    "        spine.set(visible=True, lw=0, edgecolor=\"white\")\n",
    "    \n",
    "    #--------------------\n",
    "    \n",
    "    df_residsorig = viz_resids_orig.loc[viz_variants_GCsorted, samples_figSI_aset]\n",
    "    if(len(samples_figSI_aset) < 14):\n",
    "        df_residsorig = df_residsorig.reindex(columns=np.concatenate([df_residsorig.columns, ['empty']*int(14-len(samples_figSI_aset))]))\n",
    "    hm_residsorig = sns.heatmap(ax=ax_residsorig, data=df_residsorig, cmap=residCmapW, center=0, vmin=-1, vmax=1,  #.shift(-1, axis=1)\n",
    "                                cbar=(a==0), cbar_ax=ax_cbar_resids, cbar_kws={'label':\"residuals\", 'drawedges':False, 'ticks':[-1, 1], 'aspect': 20})\n",
    "    \n",
    "    ax_residsorig.set_xticks([])\n",
    "    ax_residsorig.set_yticks([])\n",
    "    \n",
    "    ax_residsorig.text(2.75 if len(samples_figSI_aset) == 14 else 1.75, len(viz_variants_GCsorted)+7, f\"rep1\", c='#999', verticalalignment='top', horizontalalignment='center', rotation=0, fontsize=5, zorder=100)\n",
    "    if(any('R2' in assay for assay in assays_figSI_aset)):\n",
    "        ax_residsorig.text(7, len(viz_variants_GCsorted)+7, f\"rep2\", c='#999', verticalalignment='top', horizontalalignment='center', rotation=0, fontsize=5, zorder=100)\n",
    "    if(any('R3' in assay for assay in assays_figSI_aset)):\n",
    "        ax_residsorig.text(12.25, len(viz_variants_GCsorted)+7, f\"rep3\", c='#999', verticalalignment='top', horizontalalignment='center', rotation=0, fontsize=5, zorder=100)\n",
    "    if(any('R4' in assay for assay in assays_figSI_aset)):\n",
    "        ax_residsorig.text(17., len(viz_variants_GCsorted)+7, f\"rep4\", c='#999', verticalalignment='top', horizontalalignment='center', rotation=0, fontsize=5, zorder=100)\n",
    "    \n",
    "    if(a == 2):\n",
    "        ax_residsorig.text(21, 0, \"observed residuals\", c='k', verticalalignment='top', horizontalalignment='left', rotation=90, fontsize=6, weight='bold', zorder=100)    \n",
    "    \n",
    "    #--------------------\n",
    "    \n",
    "    df_biasprev = viz_biasprev_final[samples_figSI_aset]\n",
    "    if(len(samples_figSI_aset) < 14):\n",
    "        df_biasprev = df_biasprev.reindex(columns=np.concatenate([df_biasprev.columns, ['empty']*int(14-len(samples_figSI_aset))]))\n",
    "    hm_biasprev = sns.heatmap(ax=ax_biasprev, data=df_biasprev, cmap=biasCmapW, center=0, vmin=-1.5, vmax=1.5, square=False, linewidths=0.0, linecolor='w',\n",
    "                              cbar=(a==0), cbar_ax=ax_cbar_bias, cbar_kws={'label':\"bias\", 'drawedges':False, 'ticks':[-1, 1]})\n",
    "    \n",
    "    ax_biasprev.set_xticks([])\n",
    "    ax_biasprev.set_yticks([])\n",
    "    ax_biasprev.add_patch(mpatches.Rectangle(xy=(0, 0), width=len(samples_figSI_aset)+1, height=0.4, fc='w', ec='w', lw=0.0, clip_on=False, zorder=99))\n",
    "    ax_biasprev.add_patch(mpatches.Rectangle(xy=(0*(14+1)/3+0.02, 0.405), width=((14+1)/3 - 1)*0.97, height=1-0.405, fc='#ffffff00', ec='k', lw=0.4, clip_on=False, zorder=99))\n",
    "    if(any('R2' in assay for assay in assays_figSI_aset)):\n",
    "        ax_biasprev.add_patch(mpatches.Rectangle(xy=(1*(14+1)/3+0.02, 0.405), width=((14+1)/3 - 1)*0.97, height=1-0.405, fc='#ffffff00', ec='k', lw=0.4, clip_on=False, zorder=99))\n",
    "    if(any('R3' in assay for assay in assays_figSI_aset)):\n",
    "        ax_biasprev.add_patch(mpatches.Rectangle(xy=(2*(14+1)/3+0.02, 0.405), width=((14+1)/3 - 1)*0.97, height=1-0.405, fc='#ffffff00', ec='k', lw=0.4, clip_on=False, zorder=99))    \n",
    "    if(any('R4' in assay for assay in assays_figSI_aset)):\n",
    "        ax_biasprev.add_patch(mpatches.Rectangle(xy=(3*(14+1)/3+0.02, 0.405), width=((14+1)/3 - 1)*0.97, height=1-0.405, fc='#ffffff00', ec='k', lw=0.4, clip_on=False, zorder=99))    \n",
    "    \n",
    "    if(a == 1):\n",
    "        ax_biasprev.text(7., -0.7, \"inferred bias prevalence\", c='k', verticalalignment='center', horizontalalignment='center', rotation=0, fontsize=6, weight='bold', zorder=100)\n",
    "    \n",
    "    #--------------------\n",
    "    \n",
    "    df_residsfinal = viz_resids_final.loc[viz_variants_GCsorted, samples_figSI_aset]\n",
    "    if(len(samples_figSI_aset) < 14):\n",
    "        df_residsfinal = df_residsfinal.reindex(columns=np.concatenate([df_residsfinal.columns, ['empty']*int(14-len(samples_figSI_aset))]))\n",
    "    hm_residsfinal = sns.heatmap(ax=ax_residsfinal, data=df_residsfinal, cmap=residCmapW, center=0, vmin=-1, vmax=1, cbar=False)\n",
    "    \n",
    "    ax_residsfinal.set_xticks([])\n",
    "    ax_residsfinal.set_yticks([])\n",
    "    \n",
    "    ax_residsfinal.text(2.75 if len(samples_figSI_aset) == 14 else 1.75, len(viz_variants_GCsorted)+7, f\"rep1\", c='#999', verticalalignment='top', horizontalalignment='center', rotation=0, fontsize=5, zorder=100)\n",
    "    if(any('R2' in assay for assay in assays_figSI_aset)):\n",
    "        ax_residsfinal.text(7, len(viz_variants_GCsorted)+7, f\"rep2\", c='#999', verticalalignment='top', horizontalalignment='center', rotation=0, fontsize=5, zorder=100)\n",
    "    if(any('R3' in assay for assay in assays_figSI_aset)):\n",
    "        ax_residsfinal.text(12.25, len(viz_variants_GCsorted)+7, f\"rep3\", c='#999', verticalalignment='top', horizontalalignment='center', rotation=0, fontsize=5, zorder=100)\n",
    "    if(any('R4' in assay for assay in assays_figSI_aset)):\n",
    "        ax_residsfinal.text(17., len(viz_variants_GCsorted)+7, f\"rep4\", c='#999', verticalalignment='top', horizontalalignment='center', rotation=0, fontsize=5, zorder=100)\n",
    "    \n",
    "    if(a == 2):\n",
    "        ax_residsfinal.text(21, len(viz_biassusc_final[viz_variants_GCsorted]), \"bias-adjusted residuals\", c='k', verticalalignment='bottom', horizontalalignment='left', rotation=90, fontsize=6, weight='bold', zorder=100)\n",
    "    \n",
    "    #--------------------\n",
    "    \n",
    "    boxplot_fitnesses = []\n",
    "    \n",
    "    box_positions = [0.8, 1.2, 1.8, 2.2, 2.8, 3.2]\n",
    "    \n",
    "    for g, group in enumerate(vizGroups_fig4B):\n",
    "        viz_fitnesses_orig_g = np.array([])\n",
    "        viz_fitnesses_final_g = np.array([])\n",
    "        for ai, assay in enumerate(assays_figSI_aset):\n",
    "            viz_fitnesses_orig_g  = np.hstack([viz_fitnesses_orig_g, viz_fitnesses_orig[group].loc[:, assay].values])\n",
    "            viz_fitnesses_final_g = np.hstack([viz_fitnesses_final_g, viz_fitnesses_final[group].loc[:, assay].values])\n",
    "            \n",
    "        pvalue = scipy.stats.levene(viz_fitnesses_orig_g, viz_fitnesses_final_g).pvalue\n",
    "        if(pvalue < 0.05):\n",
    "            ax_fitnessdistns.text(np.percentile(viz_fitnesses_final_g, 99)+(0.125), box_positions[::-1][2*g+1]-0.15, \"*\", verticalalignment='center', horizontalalignment='center', fontsize=6, color=groups_colors[group])\n",
    "            \n",
    "        boxplot_fitnesses.append(viz_fitnesses_orig_g)\n",
    "        boxplot_fitnesses.append(viz_fitnesses_final_g)\n",
    "    \n",
    "    bplot = ax_fitnessdistns.boxplot(boxplot_fitnesses[::-1], vert=False, positions=box_positions, widths=0.25, showcaps=False, showfliers=False, patch_artist=True,\n",
    "                                boxprops=dict(linewidth=0.66, facecolor='r'), whiskerprops=dict(linewidth=0.66), medianprops=dict(linewidth=0.66))\n",
    "    \n",
    "    boxshadealpha = 0.5\n",
    "    for i, patch in enumerate(bplot['boxes'][::-1]):\n",
    "        patch.set_facecolor(list(groups_colors[vizGroups_fig4B[int(i/2)]])+[boxshadealpha*(i%2)])\n",
    "        patch.set_edgecolor(groups_colors[vizGroups_fig4B[int(i/2)]])\n",
    "    for i, patch in enumerate(bplot['whiskers'][::-1]):\n",
    "        patch.set_color(groups_colors[vizGroups_fig4B[int(i/4)]])\n",
    "    for i, patch in enumerate(bplot['medians'][::-1]):\n",
    "        patch.set_color(groups_colors[vizGroups_fig4B[int(i/2)]])\n",
    "    \n",
    "    ax_fitnessdistns.set_xlim((-1.05, 1.05))\n",
    "    ax_fitnessdistns.set_xticks([-1, 0, 1])\n",
    "    ax_fitnessdistns.set_xticklabels([-1, 0, 1], fontsize=5)\n",
    "    ax_fitnessdistns.set_xlabel('')\n",
    "    ax_fitnessdistns.set_yticks(box_positions if a==0 else []) # if c!=0 else [1, 2, 3])\n",
    "    ax_fitnessdistns.set_yticklabels(['pre', 'post', 'pre', 'post', 'pre', 'post'][::-1] if a==0 else [], fontsize=5) \n",
    "    ax_fitnessdistns.set_ylabel('')    \n",
    "    ax_fitnessdistns.tick_params(width=0.5, length=1.33, pad=2)\n",
    "    \n",
    "    ax_fitnessdistns.set_facecolor('#fff')\n",
    "    \n",
    "    for spine in ax_fitnessdistns.spines.values():\n",
    "        spine.set_edgecolor('#000')\n",
    "        spine.set_linewidth(0.5)\n",
    "    \n",
    "\n",
    "    \n",
    "    if(a == 1):\n",
    "        ax_fitnessdistns.text(-0., -0.835, \"fitness estimates\", c='k', verticalalignment='center', horizontalalignment='center', rotation=0, fontsize=6, zorder=100)\n",
    "\n",
    "    #--------------------\n",
    "    \n",
    "    for g, group in enumerate(['Diploid', 'GPB2', 'PDE2']):\n",
    "        \n",
    "        viz_fEpsilons_g_allReps = np.concatenate([viz_fEpsilons[group].loc[:, assay].values for assay in assays_figSI_aset])\n",
    "        viz_fDeltas_g_allReps   = np.concatenate([viz_fDeltas[group].loc[:, assay].values for assay in assays_figSI_aset])\n",
    "    \n",
    "        sns.regplot(ax=ax_fitnessdeltas, x=viz_fEpsilons_g_allReps, y=-1*viz_fDeltas_g_allReps, ci=0, \n",
    "                    color=groups_colors[group], marker=('o' if 'Diploid' in group else 'o'), label=f\"{group}\", \n",
    "                    scatter_kws={'alpha': 0.33 if group=='Diploid' else 1.0, 's': 1, 'lw': 0, 'zorder': g}, line_kws={'lw': 0.66, 'zorder': g})\n",
    "        \n",
    "    # ax_fitnessdeltas.set_xticks([])\n",
    "    ax_fitnessdeltas.set_xlabel('')\n",
    "    # ax_fitnessdeltas.set_yticks([])\n",
    "    ax_fitnessdeltas.set_ylabel('')    \n",
    "    # ax_fitnessdeltas.get_legend().remove()\n",
    "    \n",
    "    ax_fitnessdeltas.set_xlim((-1.05, 1.05))\n",
    "    ax_fitnessdeltas.set_xticks([-1, 0, 1])\n",
    "    ax_fitnessdeltas.set_xticklabels([-1, 0, 1], fontsize=5)\n",
    "    ax_fitnessdeltas.set_ylim((-1.05, 1.05))\n",
    "    ax_fitnessdeltas.set_yticks([-1, 0, 1] if c==0 else [])\n",
    "    ax_fitnessdeltas.set_yticklabels([-1, 0, 1] if c==0 else [], fontsize=5)\n",
    "    \n",
    "    ax_fitnessdeltas.tick_params(width=0.5, length=1.33, pad=2)\n",
    "    \n",
    "    for spine in ax_fitnessdeltas.spines.values():\n",
    "        spine.set_edgecolor('#000')\n",
    "        spine.set_linewidth(0.5)\n",
    "    \n",
    "    if(a == len(assaysets_figSI)-1):\n",
    "        ax_fitnessdeltas.text(1.0, 1.39, \"$~~~~~$Diploid$~~~~~~$GPB2$~~~~~~$PDE2\", verticalalignment='center', horizontalalignment='right', fontsize=4.5, zorder=100, bbox=dict(pad=1.25, fc='w', ec='#ddd', lw=0.5), clip_on=False)\n",
    "        ax_fitnessdeltas.plot([0.30, 0.50], [1.39, 1.39], c=groups_colors['PDE2'], lw=1, zorder=200, clip_on=False)\n",
    "        ax_fitnessdeltas.plot([-0.5, -0.3], [1.39, 1.39], c=groups_colors['GPB2'], lw=1, zorder=200, clip_on=False)\n",
    "        ax_fitnessdeltas.plot([-1.35, -1.15], [1.39, 1.39], c=groups_colors['Diploid'], lw=1, zorder=200, clip_on=False)\n",
    "            \n",
    "    if(a == 0):\n",
    "        ax_fitnessdeltas.set_ylabel(\"correction ($\\Delta f$)\", labelpad=0, fontsize=6)        \n",
    "    if(a == 1):\n",
    "        ax_fitnessdeltas.text(0, -1.6, \"initial fitness misestimation ($\\delta f$)\", c='k', verticalalignment='center', horizontalalignment='center', rotation=0, fontsize=6, zorder=100)\n",
    "    \n",
    "    # break\n",
    "\n",
    "    \n",
    "\n",
    "ax_cbar_resids.set_yticks([-1, 1])\n",
    "ax_cbar_resids.set_yticklabels([-1, 1], fontsize=4)\n",
    "ax_cbar_resids.set_ylabel(\"residuals\", fontsize=5, labelpad=-3)\n",
    "ax_cbar_resids.tick_params(width=0.5, length=1.33, pad=1)\n",
    "ax_cbar_bias.set_yticks([-1, 1])\n",
    "ax_cbar_bias.set_yticklabels([-1, 1], fontsize=4)\n",
    "ax_cbar_bias.set_ylabel(\"bias\", fontsize=5, labelpad=-3)\n",
    "ax_cbar_bias.tick_params(width=0.5, length=1.33, pad=1)\n",
    "for spine in ax_cbar_resids.spines.values():\n",
    "    spine.set(visible=True, lw=.3, edgecolor=\"black\")\n",
    "for spine in ax_cbar_bias.spines.values():\n",
    "    spine.set(visible=True, lw=.3, edgecolor=\"black\")\n",
    "\n",
    "\n",
    "\n",
    "sns.heatmap(ax=ax_biassusc, data=np.atleast_2d(viz_biassusc_final[viz_variants_GCsorted]).T, cmap=biasCmapW, center=0, vmin=-1.5, vmax=1.5, cbar=False)\n",
    "ax_biassusc.set_xticks([])\n",
    "ax_biassusc.set_yticks([])\n",
    "ax_biassusc.set_xticklabels([])\n",
    "ax_biassusc.set_yticklabels([])\n",
    "ax_biassusc.set_xlabel('')\n",
    "ax_biassusc.set_ylabel('')\n",
    "ax_biassusc.text(-1.25, len(viz_biassusc_final[viz_variants_GCsorted])/2, \"inferred bias susceptibility\", c='k', verticalalignment='center', horizontalalignment='center', rotation=90, fontsize=6, weight='bold', zorder=100)\n",
    "for spine in ax_biassusc.spines.values():\n",
    "    spine.set(visible=True, lw=.4, edgecolor=\"black\")\n",
    "ax_biassusc.axis('tight')\n",
    "\n",
    "ax_biassusc.text(-1.25, -470, \"A\", verticalalignment='top', horizontalalignment='center', fontsize=7, weight='bold', rotation=0)\n",
    "ax_biassusc.text(-1.25, -55, \"B\", verticalalignment='top', horizontalalignment='center', fontsize=7, weight='bold', rotation=0)\n",
    "ax_biassusc.text(-1.25, 405, \"C\", verticalalignment='top', horizontalalignment='center', fontsize=7, weight='bold', rotation=0)\n",
    "ax_biassusc.text(-1.25, 615, \"D\", verticalalignment='top', horizontalalignment='center', fontsize=7, weight='bold', rotation=0)\n",
    "\n",
    "plt.show()"
   ]
  },
  {
   "cell_type": "code",
   "execution_count": null,
   "metadata": {},
   "outputs": [],
   "source": [
    "figSI.savefig(f\"figSI-residsfitnesses-pt3_{date}.png\", dpi=300)"
   ]
  },
  {
   "cell_type": "code",
   "execution_count": null,
   "metadata": {},
   "outputs": [],
   "source": [
    "# stop"
   ]
  },
  {
   "cell_type": "code",
   "execution_count": null,
   "metadata": {},
   "outputs": [],
   "source": [
    "viz_assays = [  'EC23-R1', 'EC23-R2', 'EC23-R3', \n",
    "                'EC21-R1', 'EC21-R2', 'EC21-R3',\n",
    "                'EC20-R1', 'EC20-R2', 'EC20-R3', \n",
    "                'EC18-R1', 'EC18-R2', 'EC18-R3',\n",
    "                'EC13-R1', 'EC13-R2', 'EC13-R3', \n",
    "                'EC3-R1', 'EC3-R2', 'EC3-R3',\n",
    "                'Baffled-R1', 'Baffled-R2',\n",
    "                '1.4%Gluc-R1', '1.4%Gluc-R2',\n",
    "                '1.6%Gluc-R1', '1.6%Gluc-R2',\n",
    "                '1.8%Gluc-R1', '1.8%Gluc-R2', \n",
    "                '0.5%Raf-R1', '0.5%Raf-R2',\n",
    "                '1.5%Suc1%Raf-R1', \n",
    "                '0.2MKCl-R1',\n",
    "                '0.5MKCl-R1',\n",
    "                'M3-R1', 'M3-R2', 'M3-R3', 'M3-R4' ]\n",
    "viz_assays"
   ]
  },
  {
   "cell_type": "code",
   "execution_count": null,
   "metadata": {},
   "outputs": [],
   "source": [
    "figSI, ax = plt.subplots(7, 5, sharex=True, sharey=True, figsize=(5.0, 7.7), dpi=200)\n",
    "\n",
    "biassusc_allVariants = debiaser.variantsInfo.loc[:, 'bias_susceptibility'].values\n",
    "    \n",
    "controlVariants = debiaser.variantsInfo[debiaser.variantsInfo['control_set'] == True].index.values\n",
    "    \n",
    "for a, assay in enumerate(viz_assays):\n",
    "    # print(a, a//5, a%5, assay)\n",
    "    r = a//5\n",
    "    c = a%5\n",
    "    \n",
    "    assayInfo  = debiaser.samplesInfo.loc[(debiaser.samplesInfo['assay'] == assay) & (~debiaser.samplesInfo['timept'].isin(debiaser.cfg['exclude_timepts']))].sort_values(by='timept')\n",
    "    samples_a  = assayInfo['sample'].unique()\n",
    "    timepts_a  = assayInfo['timept'].values\n",
    "    biasprev_a = assayInfo['bias_prevalence'].values\n",
    "\n",
    "    trustworthyVariants_a = np.where(debiaser.trustworthy[assay]==True)[0]\n",
    "    trustworthyControlVariants_a = list(set(controlVariants).intersection(trustworthyVariants_a))\n",
    "\n",
    "    biassusc_a = biassusc_allVariants[trustworthyControlVariants_a]\n",
    "\n",
    "    fitnesses_controlSet_a  = debiaser.log['stage1-iter5']['fitnesses'].loc[trustworthyControlVariants_a, assay].values\n",
    "\n",
    "    #----\n",
    "\n",
    "    delta_f_a = fitnesses_controlSet_a - fitnesses_controlSet_a.mean() # fitness misestimates among control set\n",
    "\n",
    "    lambda_a, v_intcpt_a = debiaser.linear_regression(x=biassusc_a, y=delta_f_a)     \n",
    "\n",
    "    #---------------------------\n",
    "\n",
    "    # slope_udf, intercept_udf = debiaser.linear_regression(x=biassusc_a, y=delta_f_a)\n",
    "    # print(\"slope_udf:\", slope_udf, \"intercept_udf:\", intercept_udf)\n",
    "    ax[a//5, a%5].scatter(biassusc_a, delta_f_a, s=4, alpha=0.5, color=groups_colors['Diploid'], linewidth=0)\n",
    "    lambda_color = biasCmapG(biasCmapG_norm(-lambda_a))\n",
    "    ax[a//5, a%5].plot(np.sort(biassusc_a), lambda_a*np.sort(biassusc_a) + v_intcpt_a, color=lambda_color, label=\"$\\hat{\\lambda} = $\"+f\"{round(lambda_a, 2)}\")\n",
    "\n",
    "    leg = ax[a//5, a%5].legend(handlelength=0, handletextpad=0, fancybox=True, prop={'size': 5}, loc='lower left')\n",
    "    for item in leg.legendHandles:\n",
    "        item.set_visible(False)\n",
    "    leg.get_frame().set_facecolor(lambda_color)\n",
    "    leg.get_frame().set_edgecolor(None)\n",
    "\n",
    "    ax[r, c].set_xticks([-1, 0, 1])\n",
    "    ax[r, c].set_xticklabels([-1, 0, 1], fontsize=5)\n",
    "    ax[r, c].set_yticks([-0.5, 0, 0.5])\n",
    "    ax[r, c].set_yticklabels([\"−0.5\", \"0.0\", \"0.5\"], fontsize=5)\n",
    "    \n",
    "    if(r == 3 and c == 0):\n",
    "        ax[r, c].set_ylabel(\"fitness misestimates ($\\delta\\!f$)\", fontsize=6)\n",
    "    if(r == 6 and c == 2):\n",
    "        ax[r, c].set_xlabel(\"inferred bias susceptibility ($\\hat{u}$)\", fontsize=6)\n",
    "        \n",
    "    ax[r, c].set_title(assay_relabels[assay.split('-')[0]]+\" rep\"+assay[-1], fontsize=6)\n",
    "    \n",
    "    \n",
    "figSI.tight_layout()\n",
    "\n",
    "plt.show()\n",
    "    \n",
    "    "
   ]
  },
  {
   "cell_type": "code",
   "execution_count": null,
   "metadata": {},
   "outputs": [],
   "source": [
    "figSI.savefig(f\"figSI-stage2lambdas_{date}.png\", dpi=300)"
   ]
  },
  {
   "cell_type": "code",
   "execution_count": null,
   "metadata": {},
   "outputs": [],
   "source": [
    "# stop"
   ]
  },
  {
   "cell_type": "code",
   "execution_count": null,
   "metadata": {},
   "outputs": [],
   "source": [
    "figSI, ax = plt.subplots(1, 3, sharex=True, sharey=False, figsize=(7.0, 2.25), dpi=200)\n",
    "\n",
    "biassusc_allVariants = debiaser.variantsInfo.loc[:, 'bias_susceptibility'].values\n",
    "    \n",
    "controlVariants = debiaser.variantsInfo[debiaser.variantsInfo['control_set'] == True].index.values\n",
    "    \n",
    "for a, assay in enumerate(['EC21-R2']):\n",
    "    \n",
    "    assayInfo  = debiaser.samplesInfo.loc[(debiaser.samplesInfo['assay'] == assay) & (~debiaser.samplesInfo['timept'].isin(debiaser.cfg['exclude_timepts']))].sort_values(by='timept')\n",
    "    samples_a  = assayInfo['sample'].unique()\n",
    "    timepts_a  = assayInfo['timept'].values\n",
    "    biasprev_a = assayInfo['bias_prevalence'].values\n",
    "    baseline_a = assayInfo['normalization_factor'].values\n",
    "    \n",
    "    trustworthyVariants_a = np.where(debiaser.trustworthy[assay]==True)[0]\n",
    "    trustworthyControlVariants_a = list(set(controlVariants).intersection(trustworthyVariants_a))\n",
    "    np.random.seed(285) # 285 568 42 : 7 > 3/5/6 > 2 > 1\n",
    "    viz_variants = np.random.choice(trustworthyControlVariants_a, size=8)\n",
    "    print(viz_variants)\n",
    "    \n",
    "    biassusc_a = biassusc_allVariants[viz_variants]\n",
    "    \n",
    "    #--------------------\n",
    "    \n",
    "    counts_raw = debiaser.counts.loc[viz_variants, samples_a].values\n",
    "    \n",
    "    counts_obs = counts_raw/baseline_a\n",
    "    \n",
    "    counts_adj = (counts_raw/baseline_a)*np.exp(biassusc_a[:, np.newaxis] * biasprev_a[np.newaxis, :])\n",
    "\n",
    "    #--------------------\n",
    "    \n",
    "    palette = sns.color_palette('hls', len(viz_variants))\n",
    "    \n",
    "    for i, counts_raw_i in enumerate(counts_raw):\n",
    "        \n",
    "        ax[0].set_title(\"Raw\")\n",
    "        \n",
    "        ax[0].plot(timepts_a, np.log(counts_raw_i), color=palette[i], ls='--', lw=0.75, alpha=0.4)\n",
    "        \n",
    "        ax[0].scatter(timepts_a, np.log(counts_raw_i), color=palette[i], s=10, edgecolor='k', linewidth=0.5)\n",
    "        \n",
    "        ax[0].set_ylabel('Raw log-counts: $\\\\log(\\\\mathcal{C}_{i,t})$', labelpad=0)\n",
    "        ax[0].set_xlabel('samples ($t$)')        \n",
    "    \n",
    "    for i, counts_obs_i in enumerate(counts_obs):\n",
    "        \n",
    "        ax[1].set_title(\"\\\"Observed\\\"\")\n",
    "        \n",
    "        ax[1].plot(timepts_a, np.log(counts_obs_i), color=palette[i], ls='--', lw=0.75, alpha=0.4)\n",
    "        \n",
    "        ax[1].scatter(timepts_a, np.log(counts_obs_i), color=palette[i], s=10, edgecolor='k', linewidth=0.5)\n",
    "        \n",
    "        slope_i, intcpt_i = debiaser.linear_regression(x=timepts_a, y=np.log(counts_obs_i))\n",
    "        ax[1].plot(timepts_a, slope_i*timepts_a + intcpt_i, color=palette[i], ls='-', lw=1.1)\n",
    "        \n",
    "        ax[1].set_ylabel('Observed log-counts: $\\\\log({C}_{i,t})$', labelpad=0)\n",
    "        ax[1].set_xlabel('samples ($t$)')        \n",
    "        \n",
    "    for i, counts_adj_i in enumerate(counts_adj):\n",
    "        \n",
    "        ax[2].set_title(\"Bias-adjusted\")\n",
    "        \n",
    "        ax[2].plot(timepts_a, np.log(counts_adj_i), color=palette[i], ls='--', lw=0.75, alpha=0.4)\n",
    "        \n",
    "        ax[2].scatter(timepts_a, np.log(counts_adj_i), color=palette[i], s=10, edgecolor='k', linewidth=0.5)\n",
    "        \n",
    "        slope_i, intcpt_i = debiaser.linear_regression(x=timepts_a, y=np.log(counts_adj_i))\n",
    "        ax[2].plot(timepts_a, slope_i*timepts_a + intcpt_i, color=palette[i], ls='-', lw=1.1)\n",
    "        \n",
    "        ax[2].set_ylabel('Bias-adjusted log-counts: $\\\\log({A}_{i,t})$', labelpad=0)\n",
    "        ax[2].set_xlabel('samples ($t$)')\n",
    "    \n",
    "    \n",
    "figSI.tight_layout()\n",
    "\n",
    "plt.show()\n",
    "    \n",
    "    "
   ]
  },
  {
   "cell_type": "code",
   "execution_count": null,
   "metadata": {},
   "outputs": [],
   "source": [
    "figSI.savefig(f\"figSI-countsrawobsadj_{date}.png\", dpi=300)"
   ]
  },
  {
   "cell_type": "code",
   "execution_count": null,
   "metadata": {},
   "outputs": [],
   "source": [
    "# stop"
   ]
  },
  {
   "cell_type": "code",
   "execution_count": null,
   "metadata": {},
   "outputs": [],
   "source": [
    "\n",
    "biassusc_allVariants = debiaser.variantsInfo.loc[:, 'bias_susceptibility'].values\n",
    "    \n",
    "controlVariants = debiaser.variantsInfo[debiaser.variantsInfo['control_set'] == True].index.values\n",
    "    \n",
    "seeds         = []\n",
    "slopevars_obs = []\n",
    "slopevars_adj = []\n",
    "residsmeans_obs = []\n",
    "residsmeans_adj = []\n",
    "\n",
    "for a, assay in enumerate(['EC21-R2']):\n",
    "    \n",
    "    for seed in range(1000):\n",
    "        \n",
    "        seeds.append(seed)\n",
    "        \n",
    "        assayInfo  = debiaser.samplesInfo.loc[(debiaser.samplesInfo['assay'] == assay) & (~debiaser.samplesInfo['timept'].isin(debiaser.cfg['exclude_timepts']))].sort_values(by='timept')\n",
    "        samples_a  = assayInfo['sample'].unique()\n",
    "        timepts_a  = assayInfo['timept'].values\n",
    "        biasprev_a = assayInfo['bias_prevalence'].values\n",
    "        baseline_a = assayInfo['normalization_factor'].values\n",
    "\n",
    "        trustworthyVariants_a = np.where(debiaser.trustworthy[assay]==True)[0]\n",
    "        trustworthyControlVariants_a = list(set(controlVariants).intersection(trustworthyVariants_a))\n",
    "        np.random.seed(seed) # 7 > 3/5/6 > 2 > 1\n",
    "        viz_variants = np.random.choice(trustworthyControlVariants_a, size=8)\n",
    "        \n",
    "        # print(seed, viz_variants)\n",
    "\n",
    "        biassusc_a = biassusc_allVariants[viz_variants]\n",
    "\n",
    "        #--------------------\n",
    "\n",
    "        counts_raw = debiaser.counts.loc[viz_variants, samples_a].values\n",
    "\n",
    "        counts_obs = counts_raw/baseline_a\n",
    "\n",
    "        counts_adj = (counts_raw/baseline_a)*np.exp(biassusc_a[:, np.newaxis] * biasprev_a[np.newaxis, :])\n",
    "\n",
    "        #--------------------\n",
    "        \n",
    "        slopes_obs = []\n",
    "        slopes_adj = []\n",
    "        \n",
    "        resids_obs = []\n",
    "        resids_adj = []\n",
    "\n",
    "        for i, counts_obs_i in enumerate(counts_obs):\n",
    "\n",
    "            slope_i, intcpt_i = debiaser.linear_regression(x=timepts_a, y=np.log(counts_obs_i))\n",
    "            slopes_obs.append(slope_i)\n",
    "            \n",
    "            resids = np.log(counts_obs_i) - (slope_i*timepts_a + intcpt_i)\n",
    "            resids_obs.append(resids)\n",
    "\n",
    "        for i, counts_adj_i in enumerate(counts_adj):\n",
    "\n",
    "            slope_i, intcpt_i = debiaser.linear_regression(x=timepts_a, y=np.log(counts_adj_i))\n",
    "            slopes_adj.append(slope_i)\n",
    "            \n",
    "            resids = np.log(counts_adj_i) - (slope_i*timepts_a + intcpt_i)\n",
    "            resids_adj.append(resids)\n",
    "            \n",
    "        slopevars_obs.append(np.var(slopes_obs))\n",
    "        slopevars_adj.append(np.var(slopes_adj))\n",
    "        \n",
    "        residsmeans_obs.append(np.mean(np.abs(np.array(resids_obs).ravel())))\n",
    "        residsmeans_adj.append(np.mean(np.abs(np.array(resids_adj).ravel())))\n",
    "\n",
    "\n",
    "    \n",
    "    "
   ]
  },
  {
   "cell_type": "code",
   "execution_count": null,
   "metadata": {},
   "outputs": [],
   "source": [
    "slopevars_obs = np.array(slopevars_obs)\n",
    "slopevars_adj = np.array(slopevars_adj)"
   ]
  },
  {
   "cell_type": "code",
   "execution_count": null,
   "metadata": {},
   "outputs": [],
   "source": [
    "# slopevars_obs - slopevars_adj"
   ]
  },
  {
   "cell_type": "code",
   "execution_count": null,
   "metadata": {},
   "outputs": [],
   "source": [
    "np.argmax(slopevars_obs - slopevars_adj)"
   ]
  },
  {
   "cell_type": "code",
   "execution_count": null,
   "metadata": {},
   "outputs": [],
   "source": [
    "(slopevars_obs - slopevars_adj)[np.argmax(slopevars_obs - slopevars_adj)]"
   ]
  },
  {
   "cell_type": "code",
   "execution_count": null,
   "metadata": {},
   "outputs": [],
   "source": [
    "np.argsort(slopevars_obs - slopevars_adj)[::-1]"
   ]
  },
  {
   "cell_type": "code",
   "execution_count": null,
   "metadata": {},
   "outputs": [],
   "source": []
  },
  {
   "cell_type": "code",
   "execution_count": null,
   "metadata": {},
   "outputs": [],
   "source": [
    "residsmeans_obs = np.array(residsmeans_obs)\n",
    "residsmeans_adj = np.array(residsmeans_adj)"
   ]
  },
  {
   "cell_type": "code",
   "execution_count": null,
   "metadata": {},
   "outputs": [],
   "source": [
    "# residsmeans_obs - residsmeans_adj"
   ]
  },
  {
   "cell_type": "code",
   "execution_count": null,
   "metadata": {},
   "outputs": [],
   "source": [
    "np.argmax(residsmeans_obs - residsmeans_adj)"
   ]
  },
  {
   "cell_type": "code",
   "execution_count": null,
   "metadata": {},
   "outputs": [],
   "source": [
    "np.argsort(residsmeans_obs - residsmeans_adj)[::-1]"
   ]
  },
  {
   "cell_type": "code",
   "execution_count": null,
   "metadata": {},
   "outputs": [],
   "source": []
  },
  {
   "cell_type": "code",
   "execution_count": null,
   "metadata": {},
   "outputs": [],
   "source": []
  },
  {
   "cell_type": "code",
   "execution_count": null,
   "metadata": {},
   "outputs": [],
   "source": []
  },
  {
   "cell_type": "code",
   "execution_count": null,
   "metadata": {},
   "outputs": [],
   "source": [
    "debiaser.variantsInfo"
   ]
  },
  {
   "cell_type": "code",
   "execution_count": null,
   "metadata": {},
   "outputs": [],
   "source": [
    "debiaser.trustworthy.loc[debiaser.variantsInfo['neutral_group'].notnull()]"
   ]
  },
  {
   "cell_type": "code",
   "execution_count": null,
   "metadata": {},
   "outputs": [],
   "source": [
    "debiaser.trustworthy.loc[debiaser.variantsInfo['neutral_group'].notnull(), [col for col in debiaser.trustworthy.columns if 'EC' in col]]"
   ]
  },
  {
   "cell_type": "code",
   "execution_count": null,
   "metadata": {},
   "outputs": [],
   "source": [
    "debiaser.trustworthy.loc[debiaser.variantsInfo['neutral_group'].notnull(), [col for col in debiaser.trustworthy.columns if 'EC' in col]].sum()"
   ]
  },
  {
   "cell_type": "code",
   "execution_count": null,
   "metadata": {},
   "outputs": [],
   "source": [
    "np.where(debiaser.trustworthy.loc[debiaser.variantsInfo['neutral_group'].notnull(), :].sum(axis=1).values == 1)"
   ]
  },
  {
   "cell_type": "code",
   "execution_count": null,
   "metadata": {},
   "outputs": [],
   "source": [
    "(debiaser.trustworthy.loc[debiaser.variantsInfo['neutral_group'].notnull(), :].sum(axis=1) > 0).values"
   ]
  },
  {
   "cell_type": "code",
   "execution_count": null,
   "metadata": {},
   "outputs": [],
   "source": []
  },
  {
   "cell_type": "code",
   "execution_count": null,
   "metadata": {},
   "outputs": [],
   "source": []
  },
  {
   "cell_type": "code",
   "execution_count": null,
   "metadata": {},
   "outputs": [],
   "source": []
  },
  {
   "cell_type": "code",
   "execution_count": null,
   "metadata": {},
   "outputs": [],
   "source": [
    "debiaser.residuals"
   ]
  },
  {
   "cell_type": "code",
   "execution_count": null,
   "metadata": {},
   "outputs": [],
   "source": [
    "debiaser.fitnesses"
   ]
  },
  {
   "cell_type": "code",
   "execution_count": null,
   "metadata": {},
   "outputs": [],
   "source": [
    "debiaser.trustworthy.loc[debiaser.variantsInfo['neutral_group'].notnull(), [col for col in debiaser.trustworthy.columns if 'EC' in col]].sum()"
   ]
  },
  {
   "cell_type": "code",
   "execution_count": null,
   "metadata": {},
   "outputs": [],
   "source": [
    "debiaser.variantsInfo[debiaser.variantsInfo['neutral_group'] == 'PDE2']"
   ]
  },
  {
   "cell_type": "code",
   "execution_count": null,
   "metadata": {},
   "outputs": [],
   "source": []
  },
  {
   "cell_type": "code",
   "execution_count": null,
   "metadata": {},
   "outputs": [],
   "source": []
  },
  {
   "cell_type": "code",
   "execution_count": null,
   "metadata": {},
   "outputs": [],
   "source": []
  },
  {
   "cell_type": "code",
   "execution_count": null,
   "metadata": {},
   "outputs": [],
   "source": [
    "variants_trustworthyAtLeast1Assay = "
   ]
  },
  {
   "cell_type": "code",
   "execution_count": null,
   "metadata": {},
   "outputs": [],
   "source": [
    "debiaser.trustworthy.loc[:, [col for col in debiaser.trustworthy.columns if 'EC' in col]].sum(axis=1).values"
   ]
  },
  {
   "cell_type": "code",
   "execution_count": null,
   "metadata": {},
   "outputs": [],
   "source": [
    "np.where(debiaser.trustworthy.loc[debiaser.variantsInfo['neutral_group'].notnull(), :].sum(axis=1).values == 1)"
   ]
  },
  {
   "cell_type": "code",
   "execution_count": null,
   "metadata": {},
   "outputs": [],
   "source": []
  },
  {
   "cell_type": "code",
   "execution_count": null,
   "metadata": {},
   "outputs": [],
   "source": [
    "matlab_resids_orig"
   ]
  },
  {
   "cell_type": "code",
   "execution_count": null,
   "metadata": {},
   "outputs": [],
   "source": [
    "matlab_resids_orig"
   ]
  },
  {
   "cell_type": "code",
   "execution_count": null,
   "metadata": {},
   "outputs": [],
   "source": []
  },
  {
   "cell_type": "code",
   "execution_count": null,
   "metadata": {},
   "outputs": [],
   "source": []
  },
  {
   "cell_type": "code",
   "execution_count": null,
   "metadata": {},
   "outputs": [],
   "source": [
    "matlabNonNANvariants = matlab_resids_final.loc[:, [s for s in viz_samples if 'TX' not in s and 'T0' not in s]].dropna().index.values\n",
    "matlabNonNANvariants"
   ]
  },
  {
   "cell_type": "code",
   "execution_count": null,
   "metadata": {},
   "outputs": [],
   "source": [
    "(~matlab_resids_final.loc[:, [s for s in viz_samples if 'TX' not in s and 'T0' not in s]].isnull()).sum()"
   ]
  },
  {
   "cell_type": "code",
   "execution_count": null,
   "metadata": {},
   "outputs": [],
   "source": [
    "np.where(debiaser.trustworthy.loc[:, [a for a in debiaser.trustworthy.columns if 'bias' not in a]].all(axis=1))#.index.values"
   ]
  },
  {
   "cell_type": "code",
   "execution_count": null,
   "metadata": {},
   "outputs": [],
   "source": [
    "debiaser.trustworthy.loc[:, [a for a in debiaser.trustworthy.columns if 'bias' not in a]].sum()"
   ]
  },
  {
   "cell_type": "code",
   "execution_count": null,
   "metadata": {},
   "outputs": [],
   "source": [
    "fig, ax = plt.subplots(1,2, figsize=(6, 10))\n",
    "sns.heatmap(ax=ax[0], data=debiaser.log['final']['residuals'].loc[pythonGoodForVizVariants, [col for col in debiaser.residuals.columns if 'EC20' in col]], cmap=residCmapW, center=0, vmin=-1.0, vmax=1.0, cbar=False)\n",
    "sns.heatmap(ax=ax[1], data=matlab_resids_final.loc[matlabNonNANvariants, [col for col in matlab_resids_final.columns if 'EC20' in col]], cmap=residCmapW, center=0, vmin=-1.0, vmax=1.0, cbar=False)"
   ]
  },
  {
   "cell_type": "code",
   "execution_count": null,
   "metadata": {},
   "outputs": [],
   "source": [
    "len(pythonGoodForVizVariants)"
   ]
  },
  {
   "cell_type": "code",
   "execution_count": null,
   "metadata": {},
   "outputs": [],
   "source": [
    "len(matlabNonNANvariants)"
   ]
  },
  {
   "cell_type": "code",
   "execution_count": null,
   "metadata": {},
   "outputs": [],
   "source": []
  },
  {
   "cell_type": "code",
   "execution_count": null,
   "metadata": {},
   "outputs": [],
   "source": []
  },
  {
   "cell_type": "code",
   "execution_count": null,
   "metadata": {},
   "outputs": [],
   "source": []
  },
  {
   "cell_type": "code",
   "execution_count": null,
   "metadata": {},
   "outputs": [],
   "source": [
    "fig, ax = plt.subplots(1,1, figsize=(5, 5))\n",
    "sns.heatmap(ax=ax, data=debiaser.log['observed']['residuals'].loc[variants_fig4A[:], [col for col in debiaser.residuals.columns if 'EC20' in col]], cmap=residCmapW, center=0, vmin=-1.0, vmax=1.0, )"
   ]
  },
  {
   "cell_type": "code",
   "execution_count": null,
   "metadata": {},
   "outputs": [],
   "source": [
    "fig, ax = plt.subplots(1,2, figsize=(6, 10))\n",
    "sns.heatmap(ax=ax[0], data=debiaser.log['final']['residuals'].loc[variants_fig4A[:], [col for col in debiaser.residuals.columns if 'EC20' in col]], cmap=residCmapW, center=0, vmin=-1.0, vmax=1.0, cbar=False)\n",
    "sns.heatmap(ax=ax[1], data=matlab_counts_final.loc[variants_fig4A[:], [col for col in matlab_resids_final.columns if 'EC20' in col]], cmap=residCmapW, center=0, vmin=-1.0, vmax=1.0, cbar=False)"
   ]
  },
  {
   "cell_type": "code",
   "execution_count": null,
   "metadata": {},
   "outputs": [],
   "source": [
    "fig, ax = plt.subplots(1,1, figsize=(5, 5))\n",
    "sns.heatmap(ax=ax, data=debiaser.log['final']['residuals'].loc[variants_fig4A[:], [col for col in debiaser.residuals.columns if 'EC20' in col]]-debiaser.log['observed']['residuals'].loc[variants_fig4A[:], [col for col in debiaser.residuals.columns if 'EC20' in col]], cmap=residCmapW, center=0, vmin=-1.0, vmax=1.0, )"
   ]
  },
  {
   "cell_type": "code",
   "execution_count": null,
   "metadata": {},
   "outputs": [],
   "source": [
    "debiaser.residuals.loc[variants_fig4A[:20], [col for col in debiaser.residuals.columns if 'EC3' in col]]"
   ]
  },
  {
   "cell_type": "code",
   "execution_count": null,
   "metadata": {},
   "outputs": [],
   "source": [
    "debiaser.log['final']['residuals'].loc[variants_fig4A[:20], [col for col in debiaser.residuals.columns if 'EC3' in col]] - debiaser.log['observed']['residuals'].loc[variants_fig4A[:20], [col for col in debiaser.residuals.columns if 'EC3' in col]]"
   ]
  },
  {
   "cell_type": "code",
   "execution_count": null,
   "metadata": {},
   "outputs": [],
   "source": [
    "debiaser.counts"
   ]
  },
  {
   "cell_type": "code",
   "execution_count": null,
   "metadata": {},
   "outputs": [],
   "source": []
  },
  {
   "cell_type": "code",
   "execution_count": null,
   "metadata": {},
   "outputs": [],
   "source": [
    "goodForViz = pd.DataFrame(index=debiaser.trustworthy.index, columns=debiaser.trustworthy.columns)\n",
    "goodForViz"
   ]
  },
  {
   "cell_type": "code",
   "execution_count": null,
   "metadata": {
    "scrolled": true,
    "tags": []
   },
   "outputs": [],
   "source": [
    "for assay in debiaser.samplesInfo['assay'].unique():\n",
    "    print(assay)\n",
    "    assayInfo = debiaser.samplesInfo.loc[(debiaser.samplesInfo['assay'] == assay) & (~debiaser.samplesInfo['timept'].isin(debiaser.cfg['exclude_timepts']))].sort_values(by='timept')\n",
    "    samples_a = assayInfo['sample'].unique()\n",
    "    print(samples_a)\n",
    "    mean_counts_a = debiaser.counts[samples_a].mean(axis=1).values\n",
    "    print(mean_counts_a)\n",
    "    print(mean_counts_a > 25)\n",
    "    goodForViz.loc[:, assay] = (mean_counts_a > 25)"
   ]
  },
  {
   "cell_type": "code",
   "execution_count": null,
   "metadata": {},
   "outputs": [],
   "source": [
    "goodForViz"
   ]
  },
  {
   "cell_type": "code",
   "execution_count": null,
   "metadata": {},
   "outputs": [],
   "source": [
    "len(np.where(goodForViz.all(axis=1))[0])"
   ]
  },
  {
   "cell_type": "code",
   "execution_count": null,
   "metadata": {},
   "outputs": [],
   "source": [
    "pythonGoodForVizVariants = np.where(goodForViz.all(axis=1))[0]\n",
    "pythonGoodForVizVariants"
   ]
  },
  {
   "cell_type": "code",
   "execution_count": null,
   "metadata": {},
   "outputs": [],
   "source": []
  },
  {
   "cell_type": "code",
   "execution_count": null,
   "metadata": {},
   "outputs": [],
   "source": []
  },
  {
   "cell_type": "code",
   "execution_count": null,
   "metadata": {},
   "outputs": [],
   "source": []
  },
  {
   "cell_type": "code",
   "execution_count": null,
   "metadata": {},
   "outputs": [],
   "source": [
    "for c, ECnum in enumerate(ECs_fig4):\n",
    "    viz_assays_EC = [col for col in viz_fitnesses_final['all'].columns if f\"EC{ECnum}\" in col]\n",
    "    print(viz_assays_EC)\n",
    "    \n",
    "    boxplot_fitnesses = []\n",
    "    \n",
    "    for g, group in enumerate(vizGroups_fig4B):\n",
    "        print(group)\n",
    "        viz_fitnesses_orig_g_a = np.array([])\n",
    "        viz_fitnesses_final_g_a = np.array([])\n",
    "        for a, assay in enumerate(viz_assays_EC):\n",
    "            viz_fitnesses_orig_g_a  = np.hstack([viz_fitnesses_orig_g_a, viz_fitnesses_orig[group].loc[:, assay].values])\n",
    "            viz_fitnesses_final_g_a = np.hstack([viz_fitnesses_final_g_a, viz_fitnesses_final[group].loc[:, assay].values])\n",
    "        # print(len(viz_fitnesses_orig_g_a), np.var(viz_fitnesses_orig_g_a))\n",
    "        # print(len(viz_fitnesses_final_g_a), np.var(viz_fitnesses_final_g_a))\n",
    "        pvalue = scipy.stats.levene(viz_fitnesses_orig_g_a, viz_fitnesses_final_g_a).pvalue\n",
    "        print(pvalue, \"***********************\" if pvalue<0.05 else \"\")\n",
    "        boxplot_fitnesses.append(viz_fitnesses_orig_g_a)\n",
    "        boxplot_fitnesses.append(viz_fitnesses_final_g_a)"
   ]
  },
  {
   "cell_type": "code",
   "execution_count": null,
   "metadata": {},
   "outputs": [],
   "source": []
  },
  {
   "cell_type": "code",
   "execution_count": null,
   "metadata": {},
   "outputs": [],
   "source": []
  },
  {
   "cell_type": "code",
   "execution_count": null,
   "metadata": {},
   "outputs": [],
   "source": [
    "viz_biassusc_final[viz_variants_GCsorted]"
   ]
  },
  {
   "cell_type": "code",
   "execution_count": null,
   "metadata": {},
   "outputs": [],
   "source": [
    "viz_biasprev_final[samples_fig4A_EC[1:]]"
   ]
  },
  {
   "cell_type": "code",
   "execution_count": null,
   "metadata": {},
   "outputs": [],
   "source": [
    "plt.hist(debiaser.samplesInfo['bias_prevalence'].values, bins=len(debiaser.samplesInfo['bias_prevalence'].values))\n",
    "plt.show()"
   ]
  },
  {
   "cell_type": "code",
   "execution_count": null,
   "metadata": {},
   "outputs": [],
   "source": [
    "plt.hist(debiaser.variantsInfo['bias_susceptibility'].values, bins=len(debiaser.variantsInfo['bias_susceptibility'].values))\n",
    "plt.show()"
   ]
  },
  {
   "cell_type": "code",
   "execution_count": null,
   "metadata": {},
   "outputs": [],
   "source": [
    "debiaser.variantsInfo.loc[viz_variants_GCsorted, 'bias_susceptibility'].max()"
   ]
  },
  {
   "cell_type": "code",
   "execution_count": null,
   "metadata": {},
   "outputs": [],
   "source": [
    "plt.hist(debiaser.variantsInfo.loc[viz_variants_GCsorted, 'bias_susceptibility'])\n",
    "plt.show()"
   ]
  },
  {
   "cell_type": "code",
   "execution_count": null,
   "metadata": {},
   "outputs": [],
   "source": []
  }
 ],
 "metadata": {
  "kernelspec": {
   "display_name": "Python 3 (ipykernel)",
   "language": "python",
   "name": "python3"
  },
  "language_info": {
   "codemirror_mode": {
    "name": "ipython",
    "version": 3
   },
   "file_extension": ".py",
   "mimetype": "text/x-python",
   "name": "python",
   "nbconvert_exporter": "python",
   "pygments_lexer": "ipython3",
   "version": "3.9.10"
  }
 },
 "nbformat": 4,
 "nbformat_minor": 4
}
